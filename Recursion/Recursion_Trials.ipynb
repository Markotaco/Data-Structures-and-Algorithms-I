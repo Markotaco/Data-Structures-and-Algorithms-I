{
 "cells": [
  {
   "cell_type": "code",
   "execution_count": 1,
   "id": "5cb33265-c68e-420e-ba74-782dbb1b881e",
   "metadata": {},
   "outputs": [],
   "source": [
    "def rec_max(A, start=0, end=None):\n",
    "    if end==None:\n",
    "        end = len(A)\n",
    "    if start >= end-1:\n",
    "        return A[start]\n",
    "    else:\n",
    "        return max(A[start], rec_max(A, start+1, end))"
   ]
  },
  {
   "cell_type": "code",
   "execution_count": 6,
   "id": "725ff3f7-1660-4e74-8633-28711e268e97",
   "metadata": {},
   "outputs": [
    {
     "data": {
      "text/plain": [
       "7878"
      ]
     },
     "execution_count": 6,
     "metadata": {},
     "output_type": "execute_result"
    }
   ],
   "source": [
    "rec_max([90,8,7878,976])"
   ]
  },
  {
   "cell_type": "code",
   "execution_count": 34,
   "id": "dff7fecf-5f01-4e92-8454-62f8406ddade",
   "metadata": {},
   "outputs": [],
   "source": [
    "def digits(A, first=0):\n",
    "    if A[first:]=='':\n",
    "        return 0\n",
    "    elif A[first]=='-':\n",
    "        return digits(A, first+1)\n",
    "    else:\n",
    "        return 1+digits(A, first+1)"
   ]
  },
  {
   "cell_type": "code",
   "execution_count": 36,
   "id": "347bc05e-0c20-47f0-a576-b556ffd1cbaf",
   "metadata": {},
   "outputs": [
    {
     "data": {
      "text/plain": [
       "3"
      ]
     },
     "execution_count": 36,
     "metadata": {},
     "output_type": "execute_result"
    }
   ],
   "source": [
    "digits('900')"
   ]
  },
  {
   "cell_type": "code",
   "execution_count": 37,
   "id": "2aa15859-234a-4a39-b6c4-feaa5cf6b88a",
   "metadata": {},
   "outputs": [
    {
     "data": {
      "text/plain": [
       "5"
      ]
     },
     "execution_count": 37,
     "metadata": {},
     "output_type": "execute_result"
    }
   ],
   "source": [
    "max([2,3,4,5])"
   ]
  },
  {
   "cell_type": "code",
   "execution_count": null,
   "id": "7a9379d5-1de2-40fc-90f4-0fedf3fcf9c9",
   "metadata": {},
   "outputs": [],
   "source": []
  }
 ],
 "metadata": {
  "kernelspec": {
   "display_name": "Python 3 (ipykernel)",
   "language": "python",
   "name": "python3"
  },
  "language_info": {
   "codemirror_mode": {
    "name": "ipython",
    "version": 3
   },
   "file_extension": ".py",
   "mimetype": "text/x-python",
   "name": "python",
   "nbconvert_exporter": "python",
   "pygments_lexer": "ipython3",
   "version": "3.11.5"
  }
 },
 "nbformat": 4,
 "nbformat_minor": 5
}
