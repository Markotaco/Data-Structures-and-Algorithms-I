{
 "cells": [
  {
   "cell_type": "markdown",
   "id": "82ce2d2b-1aed-4e44-9e47-e18d10e2bd93",
   "metadata": {},
   "source": [
    "# BubbleSort"
   ]
  },
  {
   "cell_type": "markdown",
   "id": "2265beb8-c54b-4cbd-9f50-7f0d0b63150b",
   "metadata": {},
   "source": [
    "BubbleSort is one of the oldest and slowest comparison-based sorting algorithms, even when compared to other sorting algorithms of similar time complexity. At best, when all elements are sorted, it sorts at $O(n)$. At worst, when elements are reversed, it sorts at $O(n^2)$ since it has swap every element in the sortable sequence n times. BubbleSort is a stable algorithm, with memory complexity $O(1)$"
   ]
  },
  {
   "cell_type": "markdown",
   "id": "d7b72b49-ce17-4963-b810-67556a67ee51",
   "metadata": {},
   "source": [
    "## Generating a random sequence"
   ]
  },
  {
   "cell_type": "code",
   "execution_count": 1,
   "id": "001843ce-662b-4117-8136-23103374a357",
   "metadata": {},
   "outputs": [],
   "source": [
    "import numpy as np"
   ]
  },
  {
   "cell_type": "code",
   "execution_count": 2,
   "id": "2227d05f-1fef-4935-b8ad-2bdb714b02c1",
   "metadata": {},
   "outputs": [
    {
     "name": "stdout",
     "output_type": "stream",
     "text": [
      "[15, 6, 22, 57, 45, 22, 31, 68, 39, 84]\n"
     ]
    }
   ],
   "source": [
    "seed = 17\n",
    "np.random.seed(seed)\n",
    "n = 10\n",
    "high = 100\n",
    "low = 0\n",
    "randseq = np.random.randint(low, high, n).tolist()\n",
    "print(randseq)"
   ]
  },
  {
   "cell_type": "markdown",
   "id": "41fe9a6e-86c4-47ae-a6c0-50cebf78c89f",
   "metadata": {},
   "source": [
    "# Starting from the back, per element sorted"
   ]
  },
  {
   "cell_type": "markdown",
   "id": "198e6ff8-32dc-403b-90b5-bee55f0b5e17",
   "metadata": {},
   "source": [
    "BubbleSort works by going from the front of the list, comparing the elements and only swapping the elements if the current element is larger than the next element"
   ]
  },
  {
   "cell_type": "markdown",
   "id": "46450aa2-eeb4-4704-b7ef-14a28587907a",
   "metadata": {},
   "source": [
    "## Step 1: Swapping only if the element is larger"
   ]
  },
  {
   "cell_type": "code",
   "execution_count": 3,
   "id": "0601da3b-3f8c-411e-8527-375194733d29",
   "metadata": {},
   "outputs": [
    {
     "name": "stdout",
     "output_type": "stream",
     "text": [
      "[6, 15, 22, 45, 22, 31, 57, 39, 68, 84]\n"
     ]
    }
   ],
   "source": [
    "# Length of array\n",
    "array_len = len(randseq)\n",
    "\n",
    "# Go from index 0 to n-2\n",
    "for j in range(0, array_len-1):\n",
    "    # If the current number is larger than the next number\n",
    "    if randseq[j]>randseq[j+1]:\n",
    "        # Swap the two\n",
    "        temp = randseq[j]\n",
    "        randseq[j] = randseq[j+1]\n",
    "        randseq[j+1] = temp\n",
    "print(randseq)"
   ]
  },
  {
   "cell_type": "markdown",
   "id": "46cad2f0-a208-4607-a413-65b89604fb28",
   "metadata": {},
   "source": [
    "# Step 2: Performing the algorithm for all elements"
   ]
  },
  {
   "cell_type": "markdown",
   "id": "cf9341df-edbb-407b-b7e1-8b2c9c18699e",
   "metadata": {},
   "source": [
    "In BubbleSort, the array is considered sorted from the back. Ie, after the first iteration, element n-1 is sorted. After the second iteration, element n-1, n-2 are sorted etc... . The algorithm stops when no swaps are being made anymore"
   ]
  },
  {
   "cell_type": "code",
   "execution_count": 27,
   "id": "a010abbb-4230-4ba1-9e21-c816ea59b4e8",
   "metadata": {},
   "outputs": [
    {
     "name": "stdout",
     "output_type": "stream",
     "text": [
      "[15, 6, 22, 57, 45, 22, 31, 68, 39, 84]\n"
     ]
    }
   ],
   "source": [
    "# Generating the same random sequence again\n",
    "np.random.seed(seed)\n",
    "n = 10\n",
    "high = 100\n",
    "low = 0\n",
    "randseq = np.random.randint(low, high, n).tolist()\n",
    "print(randseq)"
   ]
  },
  {
   "cell_type": "code",
   "execution_count": 28,
   "id": "94d15aa7-7fe2-48e0-9d21-690d8c0952cf",
   "metadata": {},
   "outputs": [
    {
     "name": "stdout",
     "output_type": "stream",
     "text": [
      "[6, 15, 22, 45, 22, 31, 57, 39, 68, 84]\n",
      "[6, 15, 22, 22, 31, 45, 39, 57, 68, 84]\n",
      "[6, 15, 22, 22, 31, 39, 45, 57, 68, 84]\n"
     ]
    }
   ],
   "source": [
    "# For the number of elements in the aray\n",
    "for i in range(0, array_len):\n",
    "    # Initialising flag for whether any swaps occured\n",
    "    swaps = False\n",
    "    # In each iteration, only the first n-i elements have to go through sorting. The inner for loop is modified accordingly\n",
    "    for j in range(0,array_len-1-i):\n",
    "        # If the current number is larger than the next number\n",
    "        if randseq[j]>randseq[j+1]:\n",
    "            # Swap the two\n",
    "            temp = randseq[j]\n",
    "            randseq[j] = randseq[j+1]\n",
    "            randseq[j+1] = temp\n",
    "            # Change the swap flag to True\n",
    "            swaps = True\n",
    "    # If no swaps occured, stop the algorithm\n",
    "    if swaps == False:\n",
    "        break\n",
    "        \n",
    "    # Printing to see array after each n-i element is sorted\n",
    "    print(randseq)"
   ]
  },
  {
   "cell_type": "markdown",
   "id": "a2bfb9c8-f3b4-4e8e-b643-58df50fb5e74",
   "metadata": {},
   "source": [
    "## Combining everything into an algorithm"
   ]
  },
  {
   "cell_type": "code",
   "execution_count": 32,
   "id": "29eb344e-2c88-4181-8342-e0eb4e7ddeb8",
   "metadata": {},
   "outputs": [
    {
     "name": "stdout",
     "output_type": "stream",
     "text": [
      "[15, 6, 22, 57, 45, 22, 31, 68, 39, 84]\n"
     ]
    }
   ],
   "source": [
    "# Generating the same random sequence\n",
    "np.random.seed(seed)\n",
    "n = 10\n",
    "high = 100\n",
    "low = 0\n",
    "randseq = np.random.randint(low, high, n).tolist()\n",
    "print(randseq)"
   ]
  },
  {
   "cell_type": "code",
   "execution_count": 31,
   "id": "b00a3136-2a5b-43f2-b7d0-027749273718",
   "metadata": {},
   "outputs": [],
   "source": [
    "def BubbleSort(seq):\n",
    "    array_len = len(seq)\n",
    "    # For the number of elements in the aray\n",
    "    for i in range(0, array_len):\n",
    "        # Initialising flag for whether any swaps occured\n",
    "        swaps = False\n",
    "        # In each iteration, only the first n-i elements have to go through sorting. The inner for loop is modified accordingly\n",
    "        for j in range(0,array_len-1-i):\n",
    "            # If the current number is larger than the next number\n",
    "            if seq[j]>seq[j+1]:\n",
    "                # Swap the two\n",
    "                temp = seq[j]\n",
    "                seq[j] = seq[j+1]\n",
    "                seq[j+1] = temp\n",
    "                # Change the swap flag to True\n",
    "                swaps = True\n",
    "        # If no swaps occured, stop the algorithm\n",
    "        if swaps == False:\n",
    "            break\n",
    "    return seq"
   ]
  },
  {
   "cell_type": "code",
   "execution_count": 33,
   "id": "f1f55216-a3ce-4605-8bc2-d7466a8ff214",
   "metadata": {},
   "outputs": [
    {
     "name": "stdout",
     "output_type": "stream",
     "text": [
      "[6, 15, 22, 22, 31, 39, 45, 57, 68, 84]\n"
     ]
    }
   ],
   "source": [
    "print(BubbleSort(randseq))"
   ]
  },
  {
   "cell_type": "markdown",
   "id": "9d57488c-40ec-42c7-938f-e3197d8670ea",
   "metadata": {},
   "source": [
    "# Timing the algorithm"
   ]
  },
  {
   "cell_type": "code",
   "execution_count": 36,
   "id": "8938096a-90b3-4396-ba23-026f67c18b63",
   "metadata": {},
   "outputs": [],
   "source": [
    "def BubbleSortTester(n, high, low=0):\n",
    "    randseq = np.random.randint(low, high+1, n).tolist()\n",
    "    return BubbleSort(randseq)"
   ]
  },
  {
   "cell_type": "code",
   "execution_count": 37,
   "id": "33e7dd13-4353-4fe4-b4ef-4666d7796076",
   "metadata": {},
   "outputs": [
    {
     "name": "stdout",
     "output_type": "stream",
     "text": [
      "[1, 1, 2, 3, 4, 5, 6, 7, 8, 10, 14, 14, 15, 16, 18, 18, 18, 20, 21, 21, 21, 21, 22, 22, 23, 24, 24, 24, 25, 25, 26, 29, 32, 32, 34, 34, 35, 39, 39, 42, 43, 46, 47, 47, 47, 50, 51, 52, 53, 55, 55, 56, 56, 56, 57, 58, 58, 58, 59, 59, 60, 61, 65, 65, 66, 66, 66, 66, 66, 67, 70, 70, 72, 73, 74, 75, 76, 76, 76, 77, 78, 79, 79, 82, 83, 85, 85, 87, 87, 88, 88, 89, 89, 90, 90, 92, 92, 93, 96, 96]\n"
     ]
    }
   ],
   "source": [
    "print(BubbleSortTester(100, 100))"
   ]
  },
  {
   "cell_type": "markdown",
   "id": "a9ac9292-eb12-4f5a-aaed-6eeb62a0afe8",
   "metadata": {},
   "source": [
    "## Standard Cases"
   ]
  },
  {
   "cell_type": "code",
   "execution_count": 38,
   "id": "30838a4f-3fea-445a-901a-4152c7f76f67",
   "metadata": {},
   "outputs": [
    {
     "name": "stdout",
     "output_type": "stream",
     "text": [
      "5.11 μs ± 15.9 ns per loop (mean ± std. dev. of 7 runs, 100,000 loops each)\n"
     ]
    }
   ],
   "source": [
    "%timeit BubbleSortTester(10,10)"
   ]
  },
  {
   "cell_type": "code",
   "execution_count": 39,
   "id": "a4652f43-d3ff-4b01-98f8-7e3f0deec68b",
   "metadata": {},
   "outputs": [
    {
     "name": "stdout",
     "output_type": "stream",
     "text": [
      "193 μs ± 3.12 μs per loop (mean ± std. dev. of 7 runs, 10,000 loops each)\n"
     ]
    }
   ],
   "source": [
    "%timeit BubbleSortTester(100, 100)"
   ]
  },
  {
   "cell_type": "code",
   "execution_count": 48,
   "id": "eb0b0853-9d36-43a7-a898-163c642b69ec",
   "metadata": {},
   "outputs": [
    {
     "name": "stdout",
     "output_type": "stream",
     "text": [
      "2.14 s ± 15.8 ms per loop (mean ± std. dev. of 7 runs, 1 loop each)\n"
     ]
    }
   ],
   "source": [
    "%timeit BubbleSortTester(10_000, 10_000)"
   ]
  },
  {
   "cell_type": "markdown",
   "id": "1688b180-18f4-41e0-b4aa-b419f6600422",
   "metadata": {},
   "source": [
    "## Best case where all elements are sorted ($O(n)$)"
   ]
  },
  {
   "cell_type": "code",
   "execution_count": 41,
   "id": "2f351103-c9ae-4bc3-9996-19ba53f90d0b",
   "metadata": {},
   "outputs": [],
   "source": [
    "# Sequence of sorted elements\n",
    "def best_case(n):\n",
    "    sorted = [i for i in range(n)]\n",
    "    return BubbleSort(sorted)"
   ]
  },
  {
   "cell_type": "code",
   "execution_count": 42,
   "id": "4a293280-7dea-483d-9c5f-2fa467cb2016",
   "metadata": {},
   "outputs": [
    {
     "name": "stdout",
     "output_type": "stream",
     "text": [
      "343 μs ± 2.86 μs per loop (mean ± std. dev. of 7 runs, 1,000 loops each)\n"
     ]
    }
   ],
   "source": [
    "%timeit best_case(10_000)"
   ]
  },
  {
   "cell_type": "markdown",
   "id": "25551897-0a6f-4866-aeff-40aed3dc78dd",
   "metadata": {},
   "source": [
    "## Worst case where all elements are in reverse order ($O(n^2)$)"
   ]
  },
  {
   "cell_type": "code",
   "execution_count": 43,
   "id": "e80af599-8f12-4759-adfc-250e44b5c85f",
   "metadata": {},
   "outputs": [],
   "source": [
    "def worst_case(n):\n",
    "    # Sequence of elements sorted in reverse\n",
    "    rev_sorted = [i for i in range(n-1, -1, -1)]\n",
    "    return BubbleSort(rev_sorted)"
   ]
  },
  {
   "cell_type": "code",
   "execution_count": 49,
   "id": "cc895408-7767-4428-85d8-d370a7c1d7e5",
   "metadata": {},
   "outputs": [
    {
     "name": "stdout",
     "output_type": "stream",
     "text": [
      "2.69 s ± 22.7 ms per loop (mean ± std. dev. of 7 runs, 1 loop each)\n"
     ]
    }
   ],
   "source": [
    "%timeit worst_case(10_000)"
   ]
  },
  {
   "cell_type": "markdown",
   "id": "b18ae7b1-8574-40b9-9420-b26f5a45df8d",
   "metadata": {},
   "source": [
    "As expected, the worst case is much slower than the best case, especially since the best case stops after 1 iteration since there are no swaps then. It is also decently slower than the average case"
   ]
  },
  {
   "cell_type": "markdown",
   "id": "8fa277d3-4a16-4693-908a-5a6d0e5df0d1",
   "metadata": {},
   "source": [
    "# Case where there are many duplicates"
   ]
  },
  {
   "cell_type": "code",
   "execution_count": 45,
   "id": "4f34d978-5113-4b50-98e7-f4636ae0de76",
   "metadata": {},
   "outputs": [],
   "source": [
    "def duplicates(n):\n",
    "    # Sequence of elements with many duplicates\n",
    "    dup = [n]+[int(n/2) for i in range(n-2)] + [0]\n",
    "    return BubbleSort(dup)"
   ]
  },
  {
   "cell_type": "code",
   "execution_count": 46,
   "id": "fbc181bd-da86-4749-833e-5b1a45805bb8",
   "metadata": {},
   "outputs": [
    {
     "data": {
      "text/plain": [
       "[0, 5, 5, 5, 5, 5, 5, 5, 5, 10]"
      ]
     },
     "execution_count": 46,
     "metadata": {},
     "output_type": "execute_result"
    }
   ],
   "source": [
    "duplicates(10)"
   ]
  },
  {
   "cell_type": "code",
   "execution_count": 47,
   "id": "53b4e6d7-c2e0-4ba1-a48e-1fadfc63ca2c",
   "metadata": {},
   "outputs": [
    {
     "name": "stdout",
     "output_type": "stream",
     "text": [
      "1.18 s ± 15.2 ms per loop (mean ± std. dev. of 7 runs, 1 loop each)\n"
     ]
    }
   ],
   "source": [
    "%timeit duplicates(10_000)"
   ]
  },
  {
   "cell_type": "markdown",
   "id": "74926701-8da3-4cc0-8897-f42d4f38f2ff",
   "metadata": {},
   "source": [
    "This is very different from the best case, since although the largest element bubbles to the back in the first iteration, every element before the 0 which is initially in the last place has to swap places with the 0. This is only done once per iteration, and so the 0 moves very slowly to the front. Since there is a swap every iteration, the algorithm cannot stop prematurely, making it not the best option to handle duplicates."
   ]
  },
  {
   "cell_type": "code",
   "execution_count": null,
   "id": "6d318cbc-2fce-4117-9a43-7898b30b4cd3",
   "metadata": {},
   "outputs": [],
   "source": []
  }
 ],
 "metadata": {
  "kernelspec": {
   "display_name": "Python 3 (ipykernel)",
   "language": "python",
   "name": "python3"
  },
  "language_info": {
   "codemirror_mode": {
    "name": "ipython",
    "version": 3
   },
   "file_extension": ".py",
   "mimetype": "text/x-python",
   "name": "python",
   "nbconvert_exporter": "python",
   "pygments_lexer": "ipython3",
   "version": "3.11.5"
  }
 },
 "nbformat": 4,
 "nbformat_minor": 5
}
