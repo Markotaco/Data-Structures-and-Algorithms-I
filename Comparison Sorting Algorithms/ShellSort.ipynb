{
 "cells": [
  {
   "cell_type": "markdown",
   "id": "5892dd97-49e5-4405-a668-1f3edb4d71d4",
   "metadata": {},
   "source": [
    "# ShellSort"
   ]
  },
  {
   "cell_type": "markdown",
   "id": "aa04b0f7-829d-4f76-a6fd-a6fea54a3fde",
   "metadata": {},
   "source": [
    "With ShellSort, it sorts the elements that are a certain gap size apart. The sort used is an InsertionSort on these smaller subarrays. In the next iteration, the gap is diminished, until eventually the gap size is 1. Then, it becomes a regular InsertionSort. In the best case scenario, it is $O(nlogn)$. In the worst case scenario, it is $O(n^{3/2})$. It is not a stable algorithm since ordered elements can lose their order as part of different gap groups, and the memory complexity is $O(1)$."
   ]
  },
  {
   "cell_type": "markdown",
   "id": "f7c65fb0-c1c5-4bf4-8c2b-115dd7e9b151",
   "metadata": {},
   "source": [
    "## Generating a random sequence"
   ]
  },
  {
   "cell_type": "code",
   "execution_count": 27,
   "id": "1ae6ef60-4212-4677-b372-f224eee82d6f",
   "metadata": {},
   "outputs": [],
   "source": [
    "import numpy as np"
   ]
  },
  {
   "cell_type": "code",
   "execution_count": 28,
   "id": "29cf0c53-1a7c-49a5-afd2-0e56d6d46b05",
   "metadata": {},
   "outputs": [
    {
     "name": "stdout",
     "output_type": "stream",
     "text": [
      "[15, 6, 22, 57, 45, 22, 31, 68, 39, 84]\n"
     ]
    }
   ],
   "source": [
    "seed = 17\n",
    "np.random.seed(seed)\n",
    "n = 10\n",
    "high = 100\n",
    "low = 0\n",
    "randseq = np.random.randint(low, high, n).tolist()\n",
    "print(randseq)"
   ]
  },
  {
   "cell_type": "markdown",
   "id": "18b72c83-95d4-425a-b38c-8af54428d2fb",
   "metadata": {},
   "source": [
    "# The algorithm step by step"
   ]
  },
  {
   "cell_type": "markdown",
   "id": "e0c422f3-ae01-4ea4-9b12-dfb1c42a2192",
   "metadata": {},
   "source": [
    "## Step 0: Modifying InsertionSort"
   ]
  },
  {
   "cell_type": "markdown",
   "id": "a28e91fd-4677-4410-97c3-26c0c12da091",
   "metadata": {},
   "source": [
    "Before designing the algorithm for shell sort, the algorithm for InsertionSort should be implemented. We take the algorithm from the InsertionSort file and modify it to account for differing gapsizes"
   ]
  },
  {
   "cell_type": "code",
   "execution_count": 29,
   "id": "c31cc16a-0978-4b02-8604-a5895ead14a6",
   "metadata": {},
   "outputs": [],
   "source": [
    "def InsertionSortShell(seq, gapsize):\n",
    "    array_length = len(seq)\n",
    "    # The InsertionSort has to run the gapsize number of times. \n",
    "    for i in range(gapsize):\n",
    "        # Traverse the full list, with increments of the gapsize. Skip the first element since it is already sorted\n",
    "        for j in range(i+gapsize, array_length, gapsize):\n",
    "            # Starting with storing the index of the element to be inserted (The first element is considered to already be sorted)\n",
    "            inserterindex = j\n",
    "            # We use a while loop to automate until an element smaller or equal to is found in the subarray\n",
    "            while seq[inserterindex] < seq[inserterindex-gapsize]:\n",
    "                # swap the element to be inserted with the previous element\n",
    "                temp = seq[inserterindex-gapsize]\n",
    "                seq[inserterindex-gapsize] = seq[inserterindex]\n",
    "                seq[inserterindex] = temp\n",
    "                # Update the index of the element to be inserted\n",
    "                inserterindex -= gapsize\n",
    "                # Break out of the loop of inserterindex is i, ie, we have the first element\n",
    "                if inserterindex==i:\n",
    "                    break\n",
    "    return seq"
   ]
  },
  {
   "cell_type": "markdown",
   "id": "abb9f4eb-47bd-4971-ba0a-0449067b16de",
   "metadata": {},
   "source": [
    "Thus, using a test gapsize of 3, we should expect an output of [15,6,22,31,45,22,57,68,39,84]"
   ]
  },
  {
   "cell_type": "code",
   "execution_count": 30,
   "id": "55fd4458-2831-4e4d-b305-425533f27f10",
   "metadata": {},
   "outputs": [
    {
     "data": {
      "text/plain": [
       "[15, 6, 22, 31, 45, 22, 57, 68, 39, 84]"
      ]
     },
     "execution_count": 30,
     "metadata": {},
     "output_type": "execute_result"
    }
   ],
   "source": [
    "InsertionSortShell(randseq, 3)"
   ]
  },
  {
   "cell_type": "markdown",
   "id": "dc382f40-598a-4015-ad73-4c712b3adf03",
   "metadata": {},
   "source": [
    "## Step 1: Perform the sort with the first appropriate gapsize in a Ciura Sequence"
   ]
  },
  {
   "cell_type": "code",
   "execution_count": 31,
   "id": "fd19ef14-7d15-4c98-ac1c-b97d4357d863",
   "metadata": {},
   "outputs": [
    {
     "name": "stdout",
     "output_type": "stream",
     "text": [
      "[15, 6, 22, 57, 45, 22, 31, 68, 39, 84]\n"
     ]
    }
   ],
   "source": [
    "# Generating the random sequence again\n",
    "np.random.seed(seed)\n",
    "n = 10\n",
    "high = 100\n",
    "low = 0\n",
    "randseq = np.random.randint(low, high, n).tolist()\n",
    "print(randseq)"
   ]
  },
  {
   "cell_type": "markdown",
   "id": "82a4c8d4-a33f-4ca8-8060-f3a20a980b51",
   "metadata": {},
   "source": [
    "Ciura (2001) put forth a sequence that seemed to perform empiraclly well. The seqeucence is as follows:\n",
    "$$1,4,10,23,57,132,301,701$$\n",
    "We shall make use of this sequence where is makes sense to do so"
   ]
  },
  {
   "cell_type": "code",
   "execution_count": 32,
   "id": "d40e0e4e-9815-4b34-8dd1-9c6fedb614db",
   "metadata": {},
   "outputs": [
    {
     "data": {
      "text/plain": [
       "[15, 6, 22, 57, 39, 22, 31, 68, 45, 84]"
      ]
     },
     "execution_count": 32,
     "metadata": {},
     "output_type": "execute_result"
    }
   ],
   "source": [
    "InsertionSortShell(randseq, 4)"
   ]
  },
  {
   "cell_type": "markdown",
   "id": "cadfc293-d4a9-40d7-ab2d-37ad70015616",
   "metadata": {},
   "source": [
    "## Step 2: Perform the sort with the gapsize of 1"
   ]
  },
  {
   "cell_type": "code",
   "execution_count": 33,
   "id": "5e9b0fdd-8f2a-4095-a815-c6245598ed3f",
   "metadata": {},
   "outputs": [
    {
     "data": {
      "text/plain": [
       "[6, 15, 22, 22, 31, 39, 45, 57, 68, 84]"
      ]
     },
     "execution_count": 33,
     "metadata": {},
     "output_type": "execute_result"
    }
   ],
   "source": [
    "InsertionSortShell(randseq, 1)"
   ]
  },
  {
   "cell_type": "markdown",
   "id": "60d66933-90fa-4335-b885-48cbaacfd67c",
   "metadata": {},
   "source": [
    "## Combining everything"
   ]
  },
  {
   "cell_type": "code",
   "execution_count": 34,
   "id": "39a0e089-e01a-4ac3-8ffc-e82b28887a7e",
   "metadata": {},
   "outputs": [
    {
     "name": "stdout",
     "output_type": "stream",
     "text": [
      "[1, 4, 10, 23, 57, 132, 301, 701]\n"
     ]
    }
   ],
   "source": [
    "# Test on mini-algorithm to determine list of gapsizes\n",
    "ciura = [1,4,10,23,57,132,301,701]\n",
    "i=0\n",
    "while 1000 > ciura[i]:\n",
    "    i += 1\n",
    "    if i==len(ciura):\n",
    "        break\n",
    "gap_sizes = ciura[:i]\n",
    "print(gap_sizes)"
   ]
  },
  {
   "cell_type": "code",
   "execution_count": 35,
   "id": "bfef120f-3e77-471d-8e06-035f847b498d",
   "metadata": {},
   "outputs": [],
   "source": [
    "def ShellSort(seq):\n",
    "    array_length = len(seq)\n",
    "    # Intialising the list of gapsizes\n",
    "    ciura = [1,4,10,23,57,132,301,701]\n",
    "    # Deciding which gapsize to use\n",
    "    i = 0\n",
    "    # Once the length of the array is smaller or equal to the next possible gapsize, take then the current largest gapsize\n",
    "    while array_length > ciura[i]:\n",
    "        i += 1\n",
    "        if i==len(ciura)-1:\n",
    "            break\n",
    "    gap_sizes = ciura[:i]\n",
    "\n",
    "    # Perform the sort for each possible gapsize, starting from the largest\n",
    "    for gap in reversed(gap_sizes):\n",
    "        seq = InsertionSortShell(seq,gap)\n",
    "\n",
    "    return seq"
   ]
  },
  {
   "cell_type": "code",
   "execution_count": 36,
   "id": "4ae1e453-40e8-47d1-a12b-02ef966ceae1",
   "metadata": {},
   "outputs": [
    {
     "name": "stdout",
     "output_type": "stream",
     "text": [
      "[15, 6, 22, 57, 45, 22, 31, 68, 39, 84]\n"
     ]
    }
   ],
   "source": [
    "# Generating the random sequence again\n",
    "np.random.seed(seed)\n",
    "n = 10\n",
    "high = 100\n",
    "low = 0\n",
    "randseq = np.random.randint(low, high, n).tolist()\n",
    "print(randseq)"
   ]
  },
  {
   "cell_type": "code",
   "execution_count": 37,
   "id": "755b83d1-6e58-43a4-9dd1-1fad330e2268",
   "metadata": {},
   "outputs": [
    {
     "data": {
      "text/plain": [
       "[6, 15, 22, 22, 31, 39, 45, 57, 68, 84]"
      ]
     },
     "execution_count": 37,
     "metadata": {},
     "output_type": "execute_result"
    }
   ],
   "source": [
    "ShellSort(randseq)"
   ]
  },
  {
   "cell_type": "code",
   "execution_count": 38,
   "id": "5f1ec04d-5132-4023-ae63-7f7ce092adc1",
   "metadata": {},
   "outputs": [
    {
     "name": "stdout",
     "output_type": "stream",
     "text": [
      "[15, 6, 22, 57, 45, 22, 31, 68, 39, 84, 44, 7, 1, 17, 41, 56, 10, 98, 3, 63, 6, 91, 38, 91, 41, 57, 30, 17, 49, 32, 61, 5, 38, 2, 44, 54, 13, 56, 27, 83, 50, 49, 60, 8, 51, 27, 87, 63, 26, 91, 56, 57, 79, 74, 2, 49, 88, 49, 72, 64, 76, 20, 15, 90, 36, 93, 27, 35, 51, 83, 13, 7, 21, 12, 17, 25, 84, 89, 3, 74, 61, 99, 59, 33, 47, 13, 6, 45, 65, 46, 43, 35, 62, 14, 24, 67, 10, 18, 56, 50]\n"
     ]
    }
   ],
   "source": [
    "# Generating the random sequence with more numbers\n",
    "np.random.seed(seed)\n",
    "n = 100\n",
    "high = 100\n",
    "low = 0\n",
    "randseq = np.random.randint(low, high, n).tolist()\n",
    "print(randseq)"
   ]
  },
  {
   "cell_type": "code",
   "execution_count": 39,
   "id": "265442be-668d-47b3-ad52-e47c188c79c7",
   "metadata": {},
   "outputs": [
    {
     "name": "stdout",
     "output_type": "stream",
     "text": [
      "True\n"
     ]
    }
   ],
   "source": [
    "sortedseq = sorted(randseq)\n",
    "print(ShellSort(randseq)==sortedseq)"
   ]
  },
  {
   "cell_type": "markdown",
   "id": "30d037a5-512b-47fc-ace1-b0bf52d4d995",
   "metadata": {},
   "source": [
    "# Timing the algorithm"
   ]
  },
  {
   "cell_type": "code",
   "execution_count": 40,
   "id": "f84d6b8a-ebce-4370-a499-642bd5f7eb11",
   "metadata": {},
   "outputs": [],
   "source": [
    "def ShellSortTester(n, high, low=0):\n",
    "    randseq = np.random.randint(low, high+1, n).tolist()\n",
    "    return ShellSort(randseq)"
   ]
  },
  {
   "cell_type": "code",
   "execution_count": 41,
   "id": "c9a8d347-66f3-49e2-be5d-f9d33155bf21",
   "metadata": {},
   "outputs": [
    {
     "data": {
      "text/plain": [
       "[1, 4, 40, 47, 52, 66, 66, 67, 96, 100]"
      ]
     },
     "execution_count": 41,
     "metadata": {},
     "output_type": "execute_result"
    }
   ],
   "source": [
    "ShellSortTester(10,100)"
   ]
  },
  {
   "cell_type": "markdown",
   "id": "e8f6868c-1dbe-40b3-9d20-b18beb05c41b",
   "metadata": {},
   "source": [
    "## Standard conditions"
   ]
  },
  {
   "cell_type": "code",
   "execution_count": 42,
   "id": "f2d06166-f14d-40bf-a461-fb4757a95285",
   "metadata": {},
   "outputs": [
    {
     "name": "stdout",
     "output_type": "stream",
     "text": [
      "4.72 μs ± 72.8 ns per loop (mean ± std. dev. of 7 runs, 100,000 loops each)\n"
     ]
    }
   ],
   "source": [
    "%timeit ShellSortTester(10,10)"
   ]
  },
  {
   "cell_type": "code",
   "execution_count": 43,
   "id": "0148ccd0-78ac-4cbb-a0f2-4a8c604e14e1",
   "metadata": {},
   "outputs": [
    {
     "name": "stdout",
     "output_type": "stream",
     "text": [
      "54.2 μs ± 64.5 ns per loop (mean ± std. dev. of 7 runs, 10,000 loops each)\n"
     ]
    }
   ],
   "source": [
    "%timeit ShellSortTester(100,100)"
   ]
  },
  {
   "cell_type": "code",
   "execution_count": 44,
   "id": "aa0a112f-6727-4fa0-b97d-e8d4f9c99fdb",
   "metadata": {},
   "outputs": [
    {
     "name": "stdout",
     "output_type": "stream",
     "text": [
      "13.4 ms ± 66.2 μs per loop (mean ± std. dev. of 7 runs, 100 loops each)\n"
     ]
    }
   ],
   "source": [
    "%timeit ShellSortTester(10_000,10_000)"
   ]
  },
  {
   "cell_type": "markdown",
   "id": "ed8ea82f-fd2e-4440-b657-775ab5aaf895",
   "metadata": {},
   "source": [
    "## Case when all elements are sorted"
   ]
  },
  {
   "cell_type": "code",
   "execution_count": 53,
   "id": "beb93df1-6b0e-4192-b358-6ffe194a981b",
   "metadata": {},
   "outputs": [],
   "source": [
    "# Sequence of sorted elements\n",
    "def sorted_case(n):\n",
    "    sorted = [i for i in range(n)]\n",
    "    return ShellSort(sorted)"
   ]
  },
  {
   "cell_type": "code",
   "execution_count": 54,
   "id": "c049a8df-9152-422d-bae3-0e789d3ba73e",
   "metadata": {},
   "outputs": [
    {
     "name": "stdout",
     "output_type": "stream",
     "text": [
      "2.01 ms ± 5.7 μs per loop (mean ± std. dev. of 7 runs, 100 loops each)\n"
     ]
    }
   ],
   "source": [
    "%timeit sorted_case(10_000)"
   ]
  },
  {
   "cell_type": "markdown",
   "id": "28004936-b1e2-48f7-8704-038a4f0cd436",
   "metadata": {},
   "source": [
    "## Case when all elements are sorted in reverse"
   ]
  },
  {
   "cell_type": "code",
   "execution_count": 55,
   "id": "963c5656-34d6-4a73-84fa-6dc91cc77d59",
   "metadata": {},
   "outputs": [],
   "source": [
    "def rev_case(n):\n",
    "    # Sequence of elements sorted in reverse\n",
    "    rev_sorted = [i for i in range(n-1, -1, -1)]\n",
    "    return ShellSort(rev_sorted)"
   ]
  },
  {
   "cell_type": "code",
   "execution_count": 56,
   "id": "2faf91f8-83fc-4acb-b07e-da03fc31039a",
   "metadata": {},
   "outputs": [
    {
     "name": "stdout",
     "output_type": "stream",
     "text": [
      "13.4 ms ± 24.7 μs per loop (mean ± std. dev. of 7 runs, 100 loops each)\n"
     ]
    }
   ],
   "source": [
    "%timeit rev_case(10_000)"
   ]
  },
  {
   "cell_type": "markdown",
   "id": "15dd9d17-9dd2-4c3b-9a03-9b7b8ea3ca7b",
   "metadata": {},
   "source": [
    "## Case with multiple duplicates"
   ]
  },
  {
   "cell_type": "code",
   "execution_count": 49,
   "id": "71258401-f158-409d-8d77-f880bb862502",
   "metadata": {},
   "outputs": [],
   "source": [
    "def duplicates(n):\n",
    "    # Sequence of elements with many duplicates\n",
    "    dup = [n]+[int(n/2) for i in range(n-2)] + [0]\n",
    "    return ShellSort(dup)"
   ]
  },
  {
   "cell_type": "code",
   "execution_count": 50,
   "id": "2c71bd06-17fd-49bf-bbb1-db2c9406f50c",
   "metadata": {},
   "outputs": [
    {
     "name": "stdout",
     "output_type": "stream",
     "text": [
      "2.37 ms ± 17.9 μs per loop (mean ± std. dev. of 7 runs, 100 loops each)\n"
     ]
    }
   ],
   "source": [
    "%timeit duplicates(10_000)"
   ]
  },
  {
   "cell_type": "code",
   "execution_count": 51,
   "id": "5ad1555a-5bad-4af6-a456-457840c2ed2b",
   "metadata": {},
   "outputs": [],
   "source": [
    "def duplicates2(n):\n",
    "    # Sequence of elements with many duplicates\n",
    "    dup = [0]+[int(n/2) for i in range(n-2)] + [n]\n",
    "    return ShellSort(dup)"
   ]
  },
  {
   "cell_type": "code",
   "execution_count": 52,
   "id": "9b41a59d-f8c5-4bd9-9649-78053ec024f1",
   "metadata": {},
   "outputs": [
    {
     "name": "stdout",
     "output_type": "stream",
     "text": [
      "2.4 ms ± 37.7 μs per loop (mean ± std. dev. of 7 runs, 100 loops each)\n"
     ]
    }
   ],
   "source": [
    "%timeit duplicates2(10_000)"
   ]
  },
  {
   "cell_type": "markdown",
   "id": "76375312-948c-44d2-a406-7a32b70c12f8",
   "metadata": {},
   "source": [
    "In terms of runtime, ShellSort expectedly performs better than InsertionSort in the general and reverse list cases since by the time of gap 1, elements are already partly sorted. It performs worse in the best/sorted case since it runs through each gap size when that is not necessary. The same goes for duplicates"
   ]
  },
  {
   "cell_type": "code",
   "execution_count": null,
   "id": "54646b36-6c6b-4217-83c2-0a0020dd59e7",
   "metadata": {},
   "outputs": [],
   "source": []
  }
 ],
 "metadata": {
  "kernelspec": {
   "display_name": "Python 3 (ipykernel)",
   "language": "python",
   "name": "python3"
  },
  "language_info": {
   "codemirror_mode": {
    "name": "ipython",
    "version": 3
   },
   "file_extension": ".py",
   "mimetype": "text/x-python",
   "name": "python",
   "nbconvert_exporter": "python",
   "pygments_lexer": "ipython3",
   "version": "3.11.5"
  }
 },
 "nbformat": 4,
 "nbformat_minor": 5
}
