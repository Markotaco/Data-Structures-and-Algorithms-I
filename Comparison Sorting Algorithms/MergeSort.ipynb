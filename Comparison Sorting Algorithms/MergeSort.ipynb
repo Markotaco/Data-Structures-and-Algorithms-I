{
 "cells": [
  {
   "cell_type": "markdown",
   "id": "4e28b3c4-cd41-47a8-9779-c8c68aba10d1",
   "metadata": {},
   "source": [
    "# MergeSort"
   ]
  },
  {
   "cell_type": "markdown",
   "id": "fef377d8-86ee-4c4c-bbe3-d2c73833c0ed",
   "metadata": {},
   "source": [
    "MergeSort breaks the array into two, and continues to do so for each subarray until the base case of 1 element is reached. Then, it merges each section together, sorting them in the process. Since it continuously divides the array into half, its complexity is $O(nlogn)$ in both the best and worst case. Because new subarrays are created, it has a memory complexity of $O(n)$. It is a stable algorithm"
   ]
  },
  {
   "cell_type": "markdown",
   "id": "fa4268ca-5678-415a-afec-63b38f048eef",
   "metadata": {},
   "source": [
    "## Generating a random sequence"
   ]
  },
  {
   "cell_type": "code",
   "execution_count": 37,
   "id": "dd527258-12ff-4df0-8696-0d9f181da552",
   "metadata": {},
   "outputs": [],
   "source": [
    "import numpy as np"
   ]
  },
  {
   "cell_type": "code",
   "execution_count": 38,
   "id": "ab298701-5ac6-4b0f-967e-def7f35eebf4",
   "metadata": {},
   "outputs": [
    {
     "name": "stdout",
     "output_type": "stream",
     "text": [
      "[15, 6, 22, 57, 45, 22, 31, 68, 39, 84]\n"
     ]
    }
   ],
   "source": [
    "seed = 17\n",
    "np.random.seed(seed)\n",
    "n = 10\n",
    "high = 100\n",
    "low = 0\n",
    "randseq = np.random.randint(low, high, n).tolist()\n",
    "print(randseq)"
   ]
  },
  {
   "cell_type": "markdown",
   "id": "38e5cd81-10fe-440c-95ed-2228e92eb8fa",
   "metadata": {},
   "source": [
    "# The algorithm step-by-step"
   ]
  },
  {
   "cell_type": "markdown",
   "id": "368d7391-5cac-4c42-9512-19ff67424b69",
   "metadata": {},
   "source": [
    "## Step 1: Break the array into two"
   ]
  },
  {
   "cell_type": "code",
   "execution_count": 39,
   "id": "c8e6aead-fc78-4710-be4d-b837fc2b4939",
   "metadata": {},
   "outputs": [
    {
     "name": "stdout",
     "output_type": "stream",
     "text": [
      "[15, 6, 22, 57, 45]\n",
      "[22, 31, 68, 39, 84]\n"
     ]
    }
   ],
   "source": [
    "# Getting the length of the array\n",
    "array_length = len(randseq)\n",
    "# Getting the middle position\n",
    "middle = array_length//2\n",
    "# Splitting the array into left and right\n",
    "left1 = randseq[:middle]\n",
    "print(left1)\n",
    "right1 = randseq[middle:]\n",
    "print(right1)"
   ]
  },
  {
   "cell_type": "markdown",
   "id": "502f4617-de3f-4072-b676-a7f3206497ae",
   "metadata": {},
   "source": [
    "## Step 2: Break the subarrays again into 2, until the array lengths are 1"
   ]
  },
  {
   "cell_type": "code",
   "execution_count": 40,
   "id": "38759a58-dfd1-4d2f-9982-2247bcc8ae62",
   "metadata": {},
   "outputs": [],
   "source": [
    "# This is done through a recursive algorthm\n",
    "def array_breaker(seq):\n",
    "    array_length = len(seq)\n",
    "    # Base case\n",
    "    if array_length<=1:\n",
    "        return seq\n",
    "    # Case when array length is even\n",
    "    elif array_length%2==0:\n",
    "        middle = array_length//2\n",
    "        return [array_breaker(seq[:middle]), array_breaker(seq[middle:])]\n",
    "    # Case when array length is odd. The middle element will be put to the left\n",
    "    else:\n",
    "        middle = array_length//2 + 1\n",
    "        return [array_breaker(seq[:middle]),array_breaker(seq[middle:])]\n",
    "        "
   ]
  },
  {
   "cell_type": "code",
   "execution_count": 41,
   "id": "b7fcf216-a417-4175-be05-514190630b99",
   "metadata": {},
   "outputs": [
    {
     "name": "stdout",
     "output_type": "stream",
     "text": [
      "[[[[[15], [6]], [22]], [[57], [45]]], [[[[22], [31]], [68]], [[39], [84]]]]\n"
     ]
    }
   ],
   "source": [
    "broken_seq = array_breaker(randseq)\n",
    "print(broken_seq)"
   ]
  },
  {
   "cell_type": "markdown",
   "id": "6dbaeb57-a50a-44cc-a8c0-730f06c586f0",
   "metadata": {},
   "source": [
    "## Step 3: Merge each subarray to the next, sorting the elements in the process"
   ]
  },
  {
   "cell_type": "code",
   "execution_count": 42,
   "id": "06baf9b7-7a5d-4f50-a3ae-4b73bd4f81aa",
   "metadata": {},
   "outputs": [
    {
     "data": {
      "text/plain": [
       "[[[22], [31]], [68]]"
      ]
     },
     "execution_count": 42,
     "metadata": {},
     "output_type": "execute_result"
    }
   ],
   "source": [
    "broken_seq[1][0]"
   ]
  },
  {
   "cell_type": "code",
   "execution_count": 43,
   "id": "83d82dd2-75cb-4fca-890c-1df318bb3408",
   "metadata": {},
   "outputs": [
    {
     "data": {
      "text/plain": [
       "2"
      ]
     },
     "execution_count": 43,
     "metadata": {},
     "output_type": "execute_result"
    }
   ],
   "source": [
    "# Note that each subarray, by construction is always of length 2\n",
    "len(broken_seq[1][0])"
   ]
  },
  {
   "cell_type": "code",
   "execution_count": 44,
   "id": "2610a316-a969-4a57-8524-eda20afb70c4",
   "metadata": {},
   "outputs": [
    {
     "data": {
      "text/plain": [
       "[22]"
      ]
     },
     "execution_count": 44,
     "metadata": {},
     "output_type": "execute_result"
    }
   ],
   "source": [
    "broken_seq[1][0][0][0]"
   ]
  },
  {
   "cell_type": "code",
   "execution_count": 45,
   "id": "38d86cdd-291a-40e4-827e-ea89d73ec7a8",
   "metadata": {},
   "outputs": [
    {
     "data": {
      "text/plain": [
       "1"
      ]
     },
     "execution_count": 45,
     "metadata": {},
     "output_type": "execute_result"
    }
   ],
   "source": [
    "# Only once the subarray of the element itself is reached, does the length become 1 since the length of an integer is 1\n",
    "len(broken_seq[1][0][0][0])"
   ]
  },
  {
   "cell_type": "code",
   "execution_count": 46,
   "id": "e351a955-7132-40bb-86df-ee8e1c1281a5",
   "metadata": {},
   "outputs": [],
   "source": [
    "def array_merger(broke_seq):\n",
    "    # Base Case: when length of the subarray is 1\n",
    "    if len(broke_seq)==1:\n",
    "        print(f\"base case reached:{broke_seq}\")\n",
    "        # Simply return the subarray of length 1\n",
    "        return broke_seq\n",
    "\n",
    "    # If not a base case, merge and sort\n",
    "    # New array\n",
    "    sorted = []\n",
    "    # Left array to be merged and sorted is always index 0 of the broken up array. This is done recursively\n",
    "    left_array = array_merger(broke_seq[0])\n",
    "    # Ditto, but with 1 for the right subarray\n",
    "    right_array = array_merger(broke_seq[1])\n",
    "    # Array indexing pointer initialisation\n",
    "    i = 0\n",
    "    j = 0\n",
    "    # While either subarray has not fully been traversed yet\n",
    "    while i<len(left_array) and j<len(right_array):\n",
    "        # Append the element from the left subarray if it is smaller or equal. This makes the algortthm stable\n",
    "        if left_array[i]<=right_array[j]:\n",
    "            sorted.append(left_array[i])\n",
    "            i+=1\n",
    "        # Else, the element from the right subarray should be appended\n",
    "        else:\n",
    "            sorted.append(right_array[j])\n",
    "            j+=1\n",
    "    # Once one subarray has been fully traversed, extend the sorted array by the remaining elements in each array.\n",
    "    sorted.extend(left_array[i:])\n",
    "    sorted.extend(right_array[j:])\n",
    "    print(f\"result of merging {(left_array,right_array)}:{sorted}\")\n",
    "    return sorted"
   ]
  },
  {
   "cell_type": "code",
   "execution_count": 47,
   "id": "24d54eac-ed23-45e3-8d7c-12d51979171c",
   "metadata": {},
   "outputs": [
    {
     "name": "stdout",
     "output_type": "stream",
     "text": [
      "1\n",
      "1\n",
      "2\n",
      "2\n",
      "3\n"
     ]
    }
   ],
   "source": [
    "# Tests arrays to figure out sorting and merging manually\n",
    "test = []\n",
    "left = [1,5,7]\n",
    "right = [2,5,6]\n",
    "i=0\n",
    "j=0\n",
    "while i<len(left) and j<len(right):\n",
    "    if left[i]<=right[j]:\n",
    "        test.append(left[i])\n",
    "        i+=1\n",
    "        print(i)\n",
    "\n",
    "    else:\n",
    "        test.append(right[j])\n",
    "        j+=1\n",
    "        print(j)\n",
    "\n",
    "test.extend(left[i:])\n",
    "test.extend(right[j:])"
   ]
  },
  {
   "cell_type": "code",
   "execution_count": 48,
   "id": "781897e5-35fc-4a11-8e66-d6732fceaebd",
   "metadata": {},
   "outputs": [
    {
     "name": "stdout",
     "output_type": "stream",
     "text": [
      "[]\n",
      "[7]\n"
     ]
    }
   ],
   "source": [
    "print(right[j:])\n",
    "print(left[i:])"
   ]
  },
  {
   "cell_type": "code",
   "execution_count": 49,
   "id": "5e2d0e3d-631d-4f1d-8964-e38ad43a171b",
   "metadata": {},
   "outputs": [
    {
     "data": {
      "text/plain": [
       "[1, 2, 5, 5, 6, 7]"
      ]
     },
     "execution_count": 49,
     "metadata": {},
     "output_type": "execute_result"
    }
   ],
   "source": [
    "test"
   ]
  },
  {
   "cell_type": "code",
   "execution_count": 50,
   "id": "51cfd961-8457-4961-885b-2a61ded7fad2",
   "metadata": {},
   "outputs": [
    {
     "data": {
      "text/plain": [
       "[15, 6, 22, 57, 45, 22, 31, 68, 39, 84]"
      ]
     },
     "execution_count": 50,
     "metadata": {},
     "output_type": "execute_result"
    }
   ],
   "source": [
    "randseq"
   ]
  },
  {
   "cell_type": "code",
   "execution_count": 51,
   "id": "fcc3e7b7-49f4-44bc-8b73-2d7edfc16733",
   "metadata": {},
   "outputs": [
    {
     "name": "stdout",
     "output_type": "stream",
     "text": [
      "base case reached:[15]\n",
      "base case reached:[6]\n",
      "result of merging ([15], [6]):[6, 15]\n",
      "base case reached:[22]\n",
      "result of merging ([6, 15], [22]):[6, 15, 22]\n",
      "base case reached:[57]\n",
      "base case reached:[45]\n",
      "result of merging ([57], [45]):[45, 57]\n",
      "result of merging ([6, 15, 22], [45, 57]):[6, 15, 22, 45, 57]\n",
      "base case reached:[22]\n",
      "base case reached:[31]\n",
      "result of merging ([22], [31]):[22, 31]\n",
      "base case reached:[68]\n",
      "result of merging ([22, 31], [68]):[22, 31, 68]\n",
      "base case reached:[39]\n",
      "base case reached:[84]\n",
      "result of merging ([39], [84]):[39, 84]\n",
      "result of merging ([22, 31, 68], [39, 84]):[22, 31, 39, 68, 84]\n",
      "result of merging ([6, 15, 22, 45, 57], [22, 31, 39, 68, 84]):[6, 15, 22, 22, 31, 39, 45, 57, 68, 84]\n"
     ]
    },
    {
     "data": {
      "text/plain": [
       "[6, 15, 22, 22, 31, 39, 45, 57, 68, 84]"
      ]
     },
     "execution_count": 51,
     "metadata": {},
     "output_type": "execute_result"
    }
   ],
   "source": [
    "# Testing the merging algorithm\n",
    "array_merger(broken_seq)"
   ]
  },
  {
   "cell_type": "markdown",
   "id": "a064a12a-7eef-49d9-b0c5-4fe0f12699e5",
   "metadata": {},
   "source": [
    "## Combining everything together"
   ]
  },
  {
   "cell_type": "markdown",
   "id": "72591a5a-a4fe-43b4-9c19-ebd8dd7aa9f3",
   "metadata": {},
   "source": [
    "For clarity sake, we define the functions again, but with different variable namings"
   ]
  },
  {
   "cell_type": "code",
   "execution_count": 52,
   "id": "1bab039c-f44e-4df0-ba05-2a84ca31902f",
   "metadata": {},
   "outputs": [],
   "source": [
    "def array_breaker(fullseq):\n",
    "    array_length = len(fullseq)\n",
    "    # Base case\n",
    "    if array_length<=1:\n",
    "        return fullseq\n",
    "    # Case when array length is even\n",
    "    elif array_length%2==0:\n",
    "        middle = array_length//2\n",
    "        return [array_breaker(fullseq[:middle]), array_breaker(fullseq[middle:])]\n",
    "    # Case when array length is odd. The middle element will be put to the left\n",
    "    else:\n",
    "        middle = array_length//2 + 1\n",
    "        return [array_breaker(fullseq[:middle]),array_breaker(fullseq[middle:])]"
   ]
  },
  {
   "cell_type": "code",
   "execution_count": 53,
   "id": "a2064cdf-b81d-40bc-9306-cba3e51bedb1",
   "metadata": {},
   "outputs": [],
   "source": [
    "def array_merger(broke_seq):\n",
    "    # Base Case: when length of the subarray is 1\n",
    "    if len(broke_seq)==1:\n",
    "        # Simply return the subarray of length 1\n",
    "        return broke_seq\n",
    "\n",
    "    # If not a base case, merge and sort\n",
    "    # New array\n",
    "    merged = []\n",
    "    # Left array to be merged and sorted is always index 0 of the broken up array. This is done recursively\n",
    "    left_array = array_merger(broke_seq[0])\n",
    "    # Ditto, but with 1 for the right subarray\n",
    "    right_array = array_merger(broke_seq[1])\n",
    "    # Array indexing pointer initialisation\n",
    "    i = 0\n",
    "    j = 0\n",
    "    # While either subarray has not fully been traversed yet\n",
    "    while i<len(left_array) and j<len(right_array):\n",
    "        # Append the element from the left subarray if it is smaller or equal. This makes the algortthm stable\n",
    "        if left_array[i]<=right_array[j]:\n",
    "            merged.append(left_array[i])\n",
    "            i+=1\n",
    "        # Else, the element from the right subarray should be appended\n",
    "        else:\n",
    "            merged.append(right_array[j])\n",
    "            j+=1\n",
    "    # Once one subarray has been fully traversed, extend the sorted array by the remaining elements in each array.\n",
    "    merged.extend(left_array[i:])\n",
    "    merged.extend(right_array[j:])\n",
    "    return merged"
   ]
  },
  {
   "cell_type": "markdown",
   "id": "4e731947-e743-4acd-babc-16e58f5d8325",
   "metadata": {},
   "source": [
    "Then, we call each algorithm recursively in the main wrapper algorithm "
   ]
  },
  {
   "cell_type": "code",
   "execution_count": 54,
   "id": "48b22810-80ca-492b-9644-aac6343f77f1",
   "metadata": {},
   "outputs": [],
   "source": [
    "def MergeSort(seq):\n",
    "    # First phase: breaking down the array\n",
    "    broken_sequence = array_breaker(seq)\n",
    "    # Them the broken sequence is merged into a sorted squence\n",
    "    sorted = array_merger(broken_sequence)\n",
    "\n",
    "    return sorted"
   ]
  },
  {
   "cell_type": "code",
   "execution_count": 55,
   "id": "2ff11b46-d108-42bd-999f-ab8df7499c3c",
   "metadata": {},
   "outputs": [
    {
     "name": "stdout",
     "output_type": "stream",
     "text": [
      "[15, 6, 22, 57, 45, 22, 31, 68, 39, 84]\n"
     ]
    }
   ],
   "source": [
    "# Generating the same random number sequence\n",
    "np.random.seed(seed)\n",
    "n = 10\n",
    "high = 100\n",
    "low = 0\n",
    "randseq = np.random.randint(low, high, n).tolist()\n",
    "print(randseq)"
   ]
  },
  {
   "cell_type": "code",
   "execution_count": 56,
   "id": "dcd6c9bc-ea10-43c6-961a-a2cbb8e74102",
   "metadata": {},
   "outputs": [
    {
     "name": "stdout",
     "output_type": "stream",
     "text": [
      "[6, 15, 22, 22, 31, 39, 45, 57, 68, 84]\n"
     ]
    }
   ],
   "source": [
    "print(MergeSort(randseq))"
   ]
  },
  {
   "cell_type": "code",
   "execution_count": 57,
   "id": "e704fe09-cc35-4e7b-9f6f-f40b6c2ed1d1",
   "metadata": {},
   "outputs": [
    {
     "name": "stdout",
     "output_type": "stream",
     "text": [
      "[44, 7, 1, 17, 41, 56, 10, 98, 3, 63, 6, 91, 38, 91, 41, 57, 30, 17, 49, 32, 61, 5, 38, 2, 44, 54, 13, 56, 27, 83, 50, 49, 60, 8, 51, 27, 87, 63, 26, 91, 56, 57, 79, 74, 2, 49, 88, 49, 72, 64, 76, 20, 15, 90, 36, 93, 27, 35, 51, 83, 13, 7, 21, 12, 17, 25, 84, 89, 3, 74, 61, 99, 59, 33, 47, 13, 6, 45, 65, 46, 43, 35, 62, 14, 24, 67, 10, 18, 56, 50, 1, 96, 4, 40, 66, 52, 47, 67, 66, 58]\n"
     ]
    }
   ],
   "source": [
    "n = 100\n",
    "high = 100\n",
    "low = 0\n",
    "randseq = np.random.randint(low, high, n).tolist()\n",
    "print(randseq)"
   ]
  },
  {
   "cell_type": "code",
   "execution_count": 58,
   "id": "93bf5e41-7dc2-4119-aabe-675cef2f4faf",
   "metadata": {},
   "outputs": [
    {
     "name": "stdout",
     "output_type": "stream",
     "text": [
      "True\n"
     ]
    }
   ],
   "source": [
    "print(MergeSort(randseq)==sorted(randseq))"
   ]
  },
  {
   "cell_type": "markdown",
   "id": "5995f813-8984-4dcb-aa6b-409266e86d66",
   "metadata": {},
   "source": [
    "# Timing the algorithm"
   ]
  },
  {
   "cell_type": "code",
   "execution_count": 59,
   "id": "131b2c12-ed10-439c-a1ee-5dbea3a54cd6",
   "metadata": {},
   "outputs": [],
   "source": [
    "def MergeSortTester(n, high, low=0):\n",
    "    randseq = np.random.randint(low, high+1, n).tolist()\n",
    "    return MergeSort(randseq)"
   ]
  },
  {
   "cell_type": "code",
   "execution_count": 60,
   "id": "abd68a69-a2cb-4f2e-83ee-253d57df0815",
   "metadata": {},
   "outputs": [
    {
     "name": "stdout",
     "output_type": "stream",
     "text": [
      "[1, 1, 2, 3, 4, 5, 6, 7, 8, 10, 14, 14, 15, 16, 18, 18, 18, 20, 21, 21, 21, 21, 22, 22, 23, 24, 24, 24, 25, 25, 26, 29, 31, 32, 32, 34, 34, 35, 39, 39, 42, 43, 46, 47, 47, 47, 50, 51, 52, 53, 55, 55, 56, 56, 56, 57, 58, 58, 59, 59, 60, 61, 65, 65, 66, 66, 66, 66, 67, 70, 70, 72, 73, 74, 75, 76, 76, 76, 77, 77, 78, 79, 79, 82, 83, 85, 85, 87, 87, 88, 88, 89, 89, 90, 90, 92, 92, 93, 96, 96]\n"
     ]
    }
   ],
   "source": [
    "print(MergeSortTester(100,100))"
   ]
  },
  {
   "cell_type": "markdown",
   "id": "8e5ddae2-8dd3-416b-8309-4b8451a7667f",
   "metadata": {},
   "source": [
    "## Standard Cases"
   ]
  },
  {
   "cell_type": "code",
   "execution_count": 61,
   "id": "1f9bd03b-bde6-4007-89f1-9ce4ec781213",
   "metadata": {},
   "outputs": [
    {
     "name": "stdout",
     "output_type": "stream",
     "text": [
      "7.22 μs ± 156 ns per loop (mean ± std. dev. of 7 runs, 100,000 loops each)\n"
     ]
    }
   ],
   "source": [
    "%timeit MergeSortTester(10,10)"
   ]
  },
  {
   "cell_type": "code",
   "execution_count": 62,
   "id": "d69d629f-b430-4f7d-ad6a-e804effc4465",
   "metadata": {},
   "outputs": [
    {
     "name": "stdout",
     "output_type": "stream",
     "text": [
      "79.1 μs ± 539 ns per loop (mean ± std. dev. of 7 runs, 10,000 loops each)\n"
     ]
    }
   ],
   "source": [
    "%timeit MergeSortTester(100,100)"
   ]
  },
  {
   "cell_type": "code",
   "execution_count": 63,
   "id": "30588b0d-bfdc-47a5-be59-196d2682d95d",
   "metadata": {},
   "outputs": [
    {
     "name": "stdout",
     "output_type": "stream",
     "text": [
      "10.7 ms ± 51.9 μs per loop (mean ± std. dev. of 7 runs, 100 loops each)\n"
     ]
    }
   ],
   "source": [
    "%timeit MergeSortTester(10_000,10_000)"
   ]
  },
  {
   "cell_type": "code",
   "execution_count": 64,
   "id": "f48bedf4-4bad-4cfd-8ae0-433094372c90",
   "metadata": {},
   "outputs": [
    {
     "name": "stdout",
     "output_type": "stream",
     "text": [
      "1.57 s ± 20.4 ms per loop (mean ± std. dev. of 7 runs, 1 loop each)\n"
     ]
    }
   ],
   "source": [
    "# Since the algorithm's time complexity is good enough to handle very large n values, we try a special case here\n",
    "%timeit MergeSortTester(1_000_000,1_000_000)"
   ]
  },
  {
   "cell_type": "markdown",
   "id": "1d0682f9-1a4c-4d43-aadc-26d63889d690",
   "metadata": {},
   "source": [
    "## Best Case when all elements are sorted ($O(nlogn)$)"
   ]
  },
  {
   "cell_type": "code",
   "execution_count": 65,
   "id": "509a6272-5df6-4d0b-b59b-560a1449e8b9",
   "metadata": {},
   "outputs": [],
   "source": [
    "# Sequence of sorted elements\n",
    "def best_case(n):\n",
    "    sorted = [i for i in range(n)]\n",
    "    return MergeSort(sorted)"
   ]
  },
  {
   "cell_type": "code",
   "execution_count": 66,
   "id": "8167abf3-0163-4f63-9ebf-f38bf249f9fb",
   "metadata": {},
   "outputs": [
    {
     "name": "stdout",
     "output_type": "stream",
     "text": [
      "7.34 ms ± 56.1 μs per loop (mean ± std. dev. of 7 runs, 100 loops each)\n"
     ]
    }
   ],
   "source": [
    "%timeit best_case(10_000)"
   ]
  },
  {
   "cell_type": "markdown",
   "id": "e7a41185-17cc-4944-9e77-0b981d049888",
   "metadata": {},
   "source": [
    "## Worst case when all elements are sorted in reverse $(O(nlogn))$"
   ]
  },
  {
   "cell_type": "code",
   "execution_count": 67,
   "id": "3abab1a1-2c9a-4dce-b6c8-1fc00784f7d8",
   "metadata": {},
   "outputs": [],
   "source": [
    "def worst_case(n):\n",
    "    # Sequence of elements sorted in reverse\n",
    "    rev_sorted = [i for i in range(n-1, -1, -1)]\n",
    "    return MergeSort(rev_sorted)"
   ]
  },
  {
   "cell_type": "code",
   "execution_count": 68,
   "id": "886f0910-db7e-4340-bfaf-838764e0e77d",
   "metadata": {},
   "outputs": [
    {
     "name": "stdout",
     "output_type": "stream",
     "text": [
      "7.22 ms ± 29.5 μs per loop (mean ± std. dev. of 7 runs, 100 loops each)\n"
     ]
    }
   ],
   "source": [
    "%timeit worst_case(10_000)"
   ]
  },
  {
   "cell_type": "markdown",
   "id": "b3fb10f8-8f5b-45c9-8263-217a575acbe2",
   "metadata": {},
   "source": [
    "## Case with multiple duplicates"
   ]
  },
  {
   "cell_type": "code",
   "execution_count": 69,
   "id": "c23c698b-e3d4-4588-aa86-5a50a51b6077",
   "metadata": {},
   "outputs": [],
   "source": [
    "def duplicates(n):\n",
    "    # Sequence of elements with many duplicates\n",
    "    dup = [n]+[int(n/2) for i in range(n-2)] + [0]\n",
    "    return MergeSort(dup)"
   ]
  },
  {
   "cell_type": "code",
   "execution_count": 70,
   "id": "026e11d4-b9ac-433a-9d4a-b950fc52db32",
   "metadata": {},
   "outputs": [
    {
     "name": "stdout",
     "output_type": "stream",
     "text": [
      "8.18 ms ± 43.5 μs per loop (mean ± std. dev. of 7 runs, 100 loops each)\n"
     ]
    }
   ],
   "source": [
    "%timeit duplicates(10_000)"
   ]
  },
  {
   "cell_type": "code",
   "execution_count": 71,
   "id": "00f9df4b-a647-4a46-a311-015f44a9e297",
   "metadata": {},
   "outputs": [],
   "source": [
    "def duplicates2(n):\n",
    "    # Sequence of elements with many duplicates\n",
    "    dup = [0]+[int(n/2) for i in range(n-2)] + [n]\n",
    "    return MergeSort(dup)"
   ]
  },
  {
   "cell_type": "code",
   "execution_count": 72,
   "id": "7a9385ba-1789-4583-96ae-82603cd57174",
   "metadata": {},
   "outputs": [
    {
     "name": "stdout",
     "output_type": "stream",
     "text": [
      "7.64 ms ± 62.7 μs per loop (mean ± std. dev. of 7 runs, 100 loops each)\n"
     ]
    }
   ],
   "source": [
    "%timeit duplicates2(10_000)"
   ]
  },
  {
   "cell_type": "markdown",
   "id": "ba163ab1-7085-4a1a-9246-66612afba879",
   "metadata": {},
   "source": [
    "As expected, the algorithm's timing does not vary much among all cases. In fact, it should stay at $O(nlogn)$ throughout"
   ]
  },
  {
   "cell_type": "code",
   "execution_count": null,
   "id": "c251770c-e27b-4b84-8148-1bbab78a53d5",
   "metadata": {},
   "outputs": [],
   "source": []
  }
 ],
 "metadata": {
  "kernelspec": {
   "display_name": "Python 3 (ipykernel)",
   "language": "python",
   "name": "python3"
  },
  "language_info": {
   "codemirror_mode": {
    "name": "ipython",
    "version": 3
   },
   "file_extension": ".py",
   "mimetype": "text/x-python",
   "name": "python",
   "nbconvert_exporter": "python",
   "pygments_lexer": "ipython3",
   "version": "3.11.5"
  }
 },
 "nbformat": 4,
 "nbformat_minor": 5
}
