{
 "cells": [
  {
   "cell_type": "markdown",
   "id": "7d582dd2-6924-4538-ba38-0eab5d119503",
   "metadata": {},
   "source": [
    "# SelectionSort"
   ]
  },
  {
   "cell_type": "markdown",
   "id": "df3a2ac9-b76a-4e6d-b848-ca91d78d740a",
   "metadata": {},
   "source": [
    "SelectionSort works by finding the minimum in a sequence and swapping the minimum with the first unsorted position. As it has to compare n elements n times, the time complexity is therefore $O(n^2)$ in both the best and the worst case. It is not a stable algorithm, and has a memory complexity of O(1)."
   ]
  },
  {
   "cell_type": "markdown",
   "id": "436eb323-60d6-4506-8ede-2f5a0a36dab9",
   "metadata": {},
   "source": [
    "## Generating a random sequence"
   ]
  },
  {
   "cell_type": "code",
   "execution_count": 1,
   "id": "c29983db-d59a-4c00-b818-25ff721e3023",
   "metadata": {},
   "outputs": [],
   "source": [
    "import numpy as np"
   ]
  },
  {
   "cell_type": "code",
   "execution_count": 2,
   "id": "0f97ed98-abf2-40f4-894f-d6f6bb0b821b",
   "metadata": {},
   "outputs": [
    {
     "name": "stdout",
     "output_type": "stream",
     "text": [
      "[15, 6, 22, 57, 45, 22, 31, 68, 39, 84]\n"
     ]
    }
   ],
   "source": [
    "seed = 17\n",
    "np.random.seed(seed)\n",
    "n = 10\n",
    "high = 100\n",
    "low = 0\n",
    "randseq = np.random.randint(low, high, n).tolist()\n",
    "print(randseq)"
   ]
  },
  {
   "cell_type": "markdown",
   "id": "8b32f0d7-6399-4792-a95b-47c63ba42a48",
   "metadata": {},
   "source": [
    "## Step 1: Finding the minimum"
   ]
  },
  {
   "cell_type": "code",
   "execution_count": 3,
   "id": "a640de7a-c31d-4177-910a-cd8f3aba1159",
   "metadata": {},
   "outputs": [
    {
     "name": "stdout",
     "output_type": "stream",
     "text": [
      "6 at index 1\n"
     ]
    }
   ],
   "source": [
    "# Length of array\n",
    "array_length = len(randseq)\n",
    "\n",
    "# initialising the current minimum\n",
    "current_min = randseq[0]\n",
    "min_index = 0\n",
    "# Going through the list to find the minimum and store its index\n",
    "for j in range(array_length):\n",
    "    # If element j is smaller than the current min:\n",
    "    if randseq[j]<current_min:\n",
    "        # It becomes the new current_min. Note the index as well\n",
    "        current_min = randseq[j]\n",
    "        min_index = j\n",
    "        \n",
    "print(current_min, 'at index', min_index)"
   ]
  },
  {
   "cell_type": "markdown",
   "id": "9b2a150c-7d95-4754-9b58-2ae8a7a27eb8",
   "metadata": {},
   "source": [
    "## Step 2: Swapping the minimum with the first unsorted position"
   ]
  },
  {
   "cell_type": "code",
   "execution_count": 4,
   "id": "befbfbbf-781d-4382-8921-51c88a482e7a",
   "metadata": {},
   "outputs": [
    {
     "name": "stdout",
     "output_type": "stream",
     "text": [
      "[6, 15, 22, 57, 45, 22, 31, 68, 39, 84]\n"
     ]
    }
   ],
   "source": [
    "temp = current_min\n",
    "randseq[min_index] = randseq[0]\n",
    "randseq[0] = temp\n",
    "\n",
    "print(randseq)"
   ]
  },
  {
   "cell_type": "markdown",
   "id": "2f84b00c-66c5-4f14-90a8-4d5cc7a17f16",
   "metadata": {},
   "source": [
    "## Step 3: Repeat the above n times, each time only on the unsorted sequence"
   ]
  },
  {
   "cell_type": "markdown",
   "id": "2c7e73cf-bd71-4a7f-89f5-3e4c57e0df1d",
   "metadata": {},
   "source": [
    "Note that after each iteration, the front of the sequence is considered sorted"
   ]
  },
  {
   "cell_type": "code",
   "execution_count": 5,
   "id": "b5317be5-466a-4a7c-8813-69a662c8d0d7",
   "metadata": {},
   "outputs": [
    {
     "name": "stdout",
     "output_type": "stream",
     "text": [
      "[15, 6, 22, 57, 45, 22, 31, 68, 39, 84]\n"
     ]
    }
   ],
   "source": [
    "# Generating the random sequence again\n",
    "np.random.seed(seed)\n",
    "n = 10\n",
    "high = 100\n",
    "low = 0\n",
    "randseq = np.random.randint(low, high, n).tolist()\n",
    "print(randseq)"
   ]
  },
  {
   "cell_type": "code",
   "execution_count": 6,
   "id": "edf8f5f7-d2c7-4ec7-9c07-70f3e68da515",
   "metadata": {},
   "outputs": [
    {
     "name": "stdout",
     "output_type": "stream",
     "text": [
      "[6, 15, 22, 57, 45, 22, 31, 68, 39, 84]\n",
      "[6, 15, 22, 57, 45, 22, 31, 68, 39, 84]\n",
      "[6, 15, 22, 57, 45, 22, 31, 68, 39, 84]\n",
      "[6, 15, 22, 22, 45, 57, 31, 68, 39, 84]\n",
      "[6, 15, 22, 22, 31, 57, 45, 68, 39, 84]\n",
      "[6, 15, 22, 22, 31, 39, 45, 68, 57, 84]\n",
      "[6, 15, 22, 22, 31, 39, 45, 68, 57, 84]\n",
      "[6, 15, 22, 22, 31, 39, 45, 57, 68, 84]\n",
      "[6, 15, 22, 22, 31, 39, 45, 57, 68, 84]\n",
      "[6, 15, 22, 22, 31, 39, 45, 57, 68, 84]\n"
     ]
    }
   ],
   "source": [
    "# For each element position in sequence\n",
    "for i in range(array_length):\n",
    "    # initialising the current minimum, which is the first unsorted element\n",
    "    current_min = randseq[i]\n",
    "    min_index = i\n",
    "    # for each unsorted sequence\n",
    "    for j in range(i, array_length):\n",
    "        # If element j is smaller than the current min:\n",
    "        if randseq[j]<current_min:\n",
    "            # It becomes the new current_min. Note the index as well\n",
    "            current_min = randseq[j]\n",
    "            min_index = j\n",
    "\n",
    "    # Swapping the first unsorted element with the minimum of the iteration\n",
    "    temp = current_min\n",
    "    randseq[min_index] = randseq[i]\n",
    "    randseq[i] = temp\n",
    "    # Printing the sequence after each iteration of sorting\n",
    "    print(randseq)"
   ]
  },
  {
   "cell_type": "markdown",
   "id": "a82f2a9a-5fd8-4752-80a8-9dbc5234a2bd",
   "metadata": {},
   "source": [
    "## Combining everything into 1 function"
   ]
  },
  {
   "cell_type": "code",
   "execution_count": 7,
   "id": "557f641f-8db0-4e83-b40a-c8fba41fe0ef",
   "metadata": {},
   "outputs": [],
   "source": [
    "def SelectionSort(seq):\n",
    "    array_length = len(seq)\n",
    "    # For each element position in sequence\n",
    "    for i in range(array_length):\n",
    "        # initialising the current minimum, which is the first unsorted element\n",
    "        current_min = seq[i]\n",
    "        min_index = i\n",
    "        # for each unsorted sequence\n",
    "        for j in range(i, array_length):\n",
    "            # If element j is smaller than the current min:\n",
    "            if seq[j]<current_min:\n",
    "                # It becomes the new current_min. Note the index as well\n",
    "                current_min = seq[j]\n",
    "                min_index = j\n",
    "\n",
    "        # Swapping the first unsorted element with the minimum of the iteration\n",
    "        temp = current_min\n",
    "        seq[min_index] = seq[i]\n",
    "        seq[i] = temp\n",
    "    return seq"
   ]
  },
  {
   "cell_type": "code",
   "execution_count": 8,
   "id": "04774d4e-befa-44ea-af47-9af0c4ed9292",
   "metadata": {},
   "outputs": [
    {
     "name": "stdout",
     "output_type": "stream",
     "text": [
      "[44, 7, 1, 17, 41, 56, 10, 98, 3, 63]\n"
     ]
    }
   ],
   "source": [
    "# Generating a random sequence \n",
    "n = 10\n",
    "high = 100\n",
    "low = 0\n",
    "randseq = np.random.randint(low, high, n).tolist()\n",
    "print(randseq)"
   ]
  },
  {
   "cell_type": "code",
   "execution_count": 9,
   "id": "276ec5a7-c309-4a6e-97e8-711a296a0e28",
   "metadata": {},
   "outputs": [
    {
     "data": {
      "text/plain": [
       "[1, 3, 7, 10, 17, 41, 44, 56, 63, 98]"
      ]
     },
     "execution_count": 9,
     "metadata": {},
     "output_type": "execute_result"
    }
   ],
   "source": [
    "SelectionSort(randseq)"
   ]
  },
  {
   "cell_type": "markdown",
   "id": "77945bc1-66e5-418e-809e-34e6f326abd0",
   "metadata": {},
   "source": [
    "# Timing the algorithm"
   ]
  },
  {
   "cell_type": "code",
   "execution_count": 10,
   "id": "fdc9f97c-6593-46f1-9050-23aa98e68663",
   "metadata": {},
   "outputs": [],
   "source": [
    "def SelectionSortTester(n, high, low=0):\n",
    "    randseq = np.random.randint(low, high+1, n).tolist()\n",
    "    return SelectionSort(randseq)"
   ]
  },
  {
   "cell_type": "code",
   "execution_count": 11,
   "id": "5414ace3-fb21-46cd-92cc-82275c6abe93",
   "metadata": {},
   "outputs": [
    {
     "data": {
      "text/plain": [
       "[6, 17, 30, 32, 38, 41, 49, 57, 91, 91]"
      ]
     },
     "execution_count": 11,
     "metadata": {},
     "output_type": "execute_result"
    }
   ],
   "source": [
    "SelectionSortTester(10,100)"
   ]
  },
  {
   "cell_type": "markdown",
   "id": "d06ddc5d-cd57-4220-ad30-b6e084a8b08e",
   "metadata": {},
   "source": [
    "## Standard conditions"
   ]
  },
  {
   "cell_type": "code",
   "execution_count": 12,
   "id": "0d10be4a-a48e-46d4-94dc-9d3868a881f5",
   "metadata": {},
   "outputs": [
    {
     "name": "stdout",
     "output_type": "stream",
     "text": [
      "6.15 μs ± 369 ns per loop (mean ± std. dev. of 7 runs, 100,000 loops each)\n"
     ]
    }
   ],
   "source": [
    "%timeit SelectionSortTester(10,10)"
   ]
  },
  {
   "cell_type": "code",
   "execution_count": 13,
   "id": "b922f9fe-7c0d-43fe-9df3-1c2d404ea95e",
   "metadata": {},
   "outputs": [
    {
     "name": "stdout",
     "output_type": "stream",
     "text": [
      "113 μs ± 2.53 μs per loop (mean ± std. dev. of 7 runs, 10,000 loops each)\n"
     ]
    }
   ],
   "source": [
    "%timeit SelectionSortTester(100,100)"
   ]
  },
  {
   "cell_type": "code",
   "execution_count": 14,
   "id": "21dfa059-adc4-49a9-bcf6-d1b992239a4e",
   "metadata": {},
   "outputs": [
    {
     "name": "stdout",
     "output_type": "stream",
     "text": [
      "1.16 s ± 28.4 ms per loop (mean ± std. dev. of 7 runs, 1 loop each)\n"
     ]
    }
   ],
   "source": [
    "%timeit SelectionSortTester(10_000, 10_000)"
   ]
  },
  {
   "cell_type": "markdown",
   "id": "53c27f20-7baf-407c-b419-6adbcd987a10",
   "metadata": {},
   "source": [
    "## Best case when all elements are sorted ($O(n^2)$)"
   ]
  },
  {
   "cell_type": "code",
   "execution_count": 15,
   "id": "64c56695-58cb-462d-ab9c-ea078d58cbb0",
   "metadata": {},
   "outputs": [],
   "source": [
    "# Sequence of sorted elements\n",
    "def best_case(n):\n",
    "    sorted = [i for i in range(n)]\n",
    "    return SelectionSort(sorted)"
   ]
  },
  {
   "cell_type": "code",
   "execution_count": 16,
   "id": "f7df4d9e-9d38-4611-8e63-b0560d9cf591",
   "metadata": {},
   "outputs": [
    {
     "name": "stdout",
     "output_type": "stream",
     "text": [
      "1.12 s ± 18.7 ms per loop (mean ± std. dev. of 7 runs, 1 loop each)\n"
     ]
    }
   ],
   "source": [
    "%timeit best_case(10_000)"
   ]
  },
  {
   "cell_type": "markdown",
   "id": "cd9cc614-a047-402b-aec8-a871e281d9c4",
   "metadata": {},
   "source": [
    "## Worst case when all elements are sorted in reverse $(O(n^2))$"
   ]
  },
  {
   "cell_type": "code",
   "execution_count": 17,
   "id": "9b2ff297-4f73-40db-aa00-dacda8200c66",
   "metadata": {},
   "outputs": [],
   "source": [
    "def worst_case(n):\n",
    "    # Sequence of elements sorted in reverse\n",
    "    rev_sorted = [i for i in range(n-1, -1, -1)]\n",
    "    return SelectionSort(rev_sorted)"
   ]
  },
  {
   "cell_type": "code",
   "execution_count": 18,
   "id": "59845463-2ee8-4560-be8a-c4e18e16b932",
   "metadata": {},
   "outputs": [
    {
     "name": "stdout",
     "output_type": "stream",
     "text": [
      "1.36 s ± 48.5 ms per loop (mean ± std. dev. of 7 runs, 1 loop each)\n"
     ]
    }
   ],
   "source": [
    "%timeit worst_case(10_000)"
   ]
  },
  {
   "cell_type": "markdown",
   "id": "6e2c3383-f380-4de7-b543-f0def181f998",
   "metadata": {},
   "source": [
    "## Case with multiple duplicates"
   ]
  },
  {
   "cell_type": "code",
   "execution_count": 19,
   "id": "72ef8b55-9a6d-40de-9e15-6362cbb6ee84",
   "metadata": {},
   "outputs": [],
   "source": [
    "def duplicates(n):\n",
    "    # Sequence of elements with many duplicates\n",
    "    dup = [n]+[int(n/2) for i in range(n-2)] + [0]\n",
    "    return SelectionSort(dup)"
   ]
  },
  {
   "cell_type": "code",
   "execution_count": 20,
   "id": "de4ef648-793f-4bac-b6db-bf35d945ee94",
   "metadata": {},
   "outputs": [
    {
     "name": "stdout",
     "output_type": "stream",
     "text": [
      "1.04 s ± 18.2 ms per loop (mean ± std. dev. of 7 runs, 1 loop each)\n"
     ]
    }
   ],
   "source": [
    "%timeit duplicates(10_000)"
   ]
  },
  {
   "cell_type": "markdown",
   "id": "6b32f4ab-0044-4739-a2c9-8274d51bfd99",
   "metadata": {},
   "source": [
    "Since the algorithm effectively goes through the whole list in all cases to find the minimum before swapping, and does so n times regardless of the case, it is unsurprising that the times are similar in all cases with similar array lengths."
   ]
  },
  {
   "cell_type": "code",
   "execution_count": null,
   "id": "53f02a58-f7a6-452d-a1d9-2bf3ba4d0938",
   "metadata": {},
   "outputs": [],
   "source": []
  }
 ],
 "metadata": {
  "kernelspec": {
   "display_name": "Python 3 (ipykernel)",
   "language": "python",
   "name": "python3"
  },
  "language_info": {
   "codemirror_mode": {
    "name": "ipython",
    "version": 3
   },
   "file_extension": ".py",
   "mimetype": "text/x-python",
   "name": "python",
   "nbconvert_exporter": "python",
   "pygments_lexer": "ipython3",
   "version": "3.11.5"
  }
 },
 "nbformat": 4,
 "nbformat_minor": 5
}
