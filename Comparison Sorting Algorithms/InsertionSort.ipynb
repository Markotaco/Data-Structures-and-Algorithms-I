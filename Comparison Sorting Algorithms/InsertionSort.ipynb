{
 "cells": [
  {
   "cell_type": "markdown",
   "id": "e389341b-0103-4552-9e96-3d7678f0063a",
   "metadata": {},
   "source": [
    "## InsertionSort"
   ]
  },
  {
   "cell_type": "markdown",
   "id": "5fe8077f-4b86-44f8-b088-cb48d0356502",
   "metadata": {},
   "source": [
    "InsertionSort works like sorting cards into a hand. The item to be sorted is swapped from the back of the already sorted subarray until it reaches an element smaller or equal to it. It is therefore also a stable sorting algorithm. At best, it does not have to swap any elements in the sorted subarray, and the time complexity is $O(n)$. At worst, it has to perform $1+2+3+...n-1$ swaps, which then makes the time complexity $O(n^2)$. It has a memory complexity of O(1)."
   ]
  },
  {
   "cell_type": "markdown",
   "id": "8d14c11c-0323-4360-b813-c9ee4e104771",
   "metadata": {},
   "source": [
    "## Generating a random sequence"
   ]
  },
  {
   "cell_type": "code",
   "execution_count": 21,
   "id": "5d38a93f-072f-430b-91fc-bf7af74b4f05",
   "metadata": {},
   "outputs": [],
   "source": [
    "import numpy as np"
   ]
  },
  {
   "cell_type": "code",
   "execution_count": 22,
   "id": "8555fe5e-f704-4b0f-b1d4-0ecaaa7c4c45",
   "metadata": {},
   "outputs": [
    {
     "name": "stdout",
     "output_type": "stream",
     "text": [
      "[15, 6, 22, 57, 45, 22, 31, 68, 39, 84]\n"
     ]
    }
   ],
   "source": [
    "seed = 17\n",
    "np.random.seed(seed)\n",
    "n = 10\n",
    "high = 100\n",
    "low = 0\n",
    "randseq = np.random.randint(low, high, n).tolist()\n",
    "print(randseq)"
   ]
  },
  {
   "cell_type": "markdown",
   "id": "6bf7ce4d-3ae7-4226-9629-955a91ce3f14",
   "metadata": {},
   "source": [
    "# The algorithm step-by-step"
   ]
  },
  {
   "cell_type": "markdown",
   "id": "41d95695-da98-457c-8843-f7b8364e3133",
   "metadata": {},
   "source": [
    "## Step 1: The first element is already considered sorted"
   ]
  },
  {
   "cell_type": "markdown",
   "id": "fe5bc5cc-0a2e-4f7c-b6a5-fcb8de301bf5",
   "metadata": {},
   "source": [
    "## Step 2: The second element is taken and checked with the first"
   ]
  },
  {
   "cell_type": "code",
   "execution_count": 23,
   "id": "bf870814-f216-4f21-911b-09066f3e1df4",
   "metadata": {},
   "outputs": [
    {
     "name": "stdout",
     "output_type": "stream",
     "text": [
      "[6, 15, 22, 57, 45, 22, 31, 68, 39, 84]\n"
     ]
    }
   ],
   "source": [
    "# ONLY if smaller, perform swap\n",
    "if randseq[1]<randseq[0]:\n",
    "    temp = randseq[0]\n",
    "    randseq[0] = randseq[1]\n",
    "    randseq[1] = temp\n",
    "\n",
    "print(randseq)"
   ]
  },
  {
   "cell_type": "markdown",
   "id": "e20caf66-617e-457c-a270-bb3de666922b",
   "metadata": {},
   "source": [
    "## Step 3: Perform the same for the third element"
   ]
  },
  {
   "cell_type": "code",
   "execution_count": 24,
   "id": "acd6719f-14ab-4508-b319-965e9e64476f",
   "metadata": {},
   "outputs": [
    {
     "name": "stdout",
     "output_type": "stream",
     "text": [
      "[6, 15, 22, 57, 45, 22, 31, 68, 39, 84]\n"
     ]
    }
   ],
   "source": [
    "# Starting with storing the index of the element to be inserted\n",
    "inserterindex = 2\n",
    "# We use a while loop to automate until an element smaller or equal to is found.\n",
    "while randseq[inserterindex] < randseq[inserterindex-1]:\n",
    "    # swap the element to be inserted with the previous element\n",
    "    temp = randseq[inserterindex-1]\n",
    "    randseq[inserterindex-1] = randseq[inserterindex]\n",
    "    randseq[inserterindex] = temp\n",
    "    # Update the index of the element to be inserted\n",
    "    inserterindex -=1\n",
    "    # Break out of the loop of inserterindex is 0, ie, we have the first element\n",
    "    if inserterindex==0:\n",
    "        break\n",
    "\n",
    "print(randseq)"
   ]
  },
  {
   "cell_type": "markdown",
   "id": "cf8f2045-f9bf-424a-9a00-d9fa54537856",
   "metadata": {},
   "source": [
    "This is then repeated for whole sequence"
   ]
  },
  {
   "cell_type": "markdown",
   "id": "be7e0e12-37bb-44cc-8851-091e0b22a7f2",
   "metadata": {},
   "source": [
    "## Combining the steps into one algorithm"
   ]
  },
  {
   "cell_type": "code",
   "execution_count": 25,
   "id": "6ad1a635-430c-475f-a53e-19da39b2a7ef",
   "metadata": {},
   "outputs": [
    {
     "name": "stdout",
     "output_type": "stream",
     "text": [
      "[15, 6, 22, 57, 45, 22, 31, 68, 39, 84]\n"
     ]
    }
   ],
   "source": [
    "# Generating the random sequence again\n",
    "np.random.seed(seed)\n",
    "n = 10\n",
    "high = 100\n",
    "low = 0\n",
    "randseq = np.random.randint(low, high, n).tolist()\n",
    "print(randseq)"
   ]
  },
  {
   "cell_type": "code",
   "execution_count": 26,
   "id": "bb4b7487-6de7-4998-88bd-db1f4abf6709",
   "metadata": {},
   "outputs": [],
   "source": [
    "def InsertionSort(seq):\n",
    "    array_length = len(seq)\n",
    "    # for each element in the sequence except the first\n",
    "    for i in range(1, array_length):\n",
    "        # Starting with storing the index of the element to be inserted\n",
    "        inserterindex = i\n",
    "        # We use a while loop to automate until an element smaller or equal to is found.\n",
    "        while seq[inserterindex] < seq[inserterindex-1]:\n",
    "            # swap the element to be inserted with the previous element\n",
    "            temp = seq[inserterindex-1]\n",
    "            seq[inserterindex-1] = seq[inserterindex]\n",
    "            seq[inserterindex] = temp\n",
    "            # Update the index of the element to be inserted\n",
    "            inserterindex -=1\n",
    "            # Break out of the loop of inserterindex is 0, ie, we have the first element\n",
    "            if inserterindex==0:\n",
    "                break\n",
    "    return seq"
   ]
  },
  {
   "cell_type": "code",
   "execution_count": 27,
   "id": "dd32051a-967f-4141-a7d5-0051e16ad335",
   "metadata": {},
   "outputs": [
    {
     "name": "stdout",
     "output_type": "stream",
     "text": [
      "[6, 15, 22, 22, 31, 39, 45, 57, 68, 84]\n"
     ]
    }
   ],
   "source": [
    "print(InsertionSort(randseq))"
   ]
  },
  {
   "cell_type": "markdown",
   "id": "be5af4f3-1055-4026-84d7-80a90d812a04",
   "metadata": {},
   "source": [
    "# Timing the algorithm"
   ]
  },
  {
   "cell_type": "code",
   "execution_count": 28,
   "id": "f30906ac-2953-47b1-a6e6-f45de8547d3c",
   "metadata": {},
   "outputs": [],
   "source": [
    "def InsertionSortTester(n, high, low=0):\n",
    "    randseq = np.random.randint(low, high+1, n).tolist()\n",
    "    return InsertionSort(randseq)"
   ]
  },
  {
   "cell_type": "code",
   "execution_count": 29,
   "id": "241632b2-a382-4484-ab83-561cc5136c96",
   "metadata": {},
   "outputs": [
    {
     "name": "stdout",
     "output_type": "stream",
     "text": [
      "[1, 1, 2, 2, 3, 3, 4, 5, 6, 6, 7, 7, 8, 10, 10, 12, 13, 13, 13, 14, 15, 17, 17, 17, 18, 20, 21, 24, 25, 26, 27, 27, 27, 30, 32, 33, 35, 35, 36, 38, 38, 40, 41, 41, 43, 44, 44, 45, 46, 47, 47, 49, 49, 49, 49, 50, 50, 51, 51, 52, 54, 56, 56, 56, 56, 57, 57, 59, 60, 61, 61, 62, 63, 63, 64, 65, 66, 67, 67, 72, 74, 74, 76, 79, 83, 83, 84, 87, 88, 89, 90, 91, 91, 91, 93, 96, 98, 99, 100, 100]\n"
     ]
    }
   ],
   "source": [
    "print(InsertionSortTester(100,100))"
   ]
  },
  {
   "cell_type": "markdown",
   "id": "7acbedbc-dbf4-4cde-b6ed-650757c0cede",
   "metadata": {},
   "source": [
    "## Standard Cases"
   ]
  },
  {
   "cell_type": "code",
   "execution_count": 30,
   "id": "eecc2fec-6fe7-4c01-953b-ba3471b44185",
   "metadata": {},
   "outputs": [
    {
     "name": "stdout",
     "output_type": "stream",
     "text": [
      "4.08 μs ± 29.7 ns per loop (mean ± std. dev. of 7 runs, 100,000 loops each)\n"
     ]
    }
   ],
   "source": [
    "%timeit InsertionSortTester(10,10)"
   ]
  },
  {
   "cell_type": "code",
   "execution_count": 31,
   "id": "521dbff6-219b-46c3-9778-9a491f7770d2",
   "metadata": {},
   "outputs": [
    {
     "name": "stdout",
     "output_type": "stream",
     "text": [
      "143 μs ± 511 ns per loop (mean ± std. dev. of 7 runs, 10,000 loops each)\n"
     ]
    }
   ],
   "source": [
    "%timeit InsertionSortTester(100,100)"
   ]
  },
  {
   "cell_type": "code",
   "execution_count": 32,
   "id": "148c08b6-e4be-493e-ade6-60a0e00619a6",
   "metadata": {},
   "outputs": [
    {
     "name": "stdout",
     "output_type": "stream",
     "text": [
      "1.43 s ± 16.5 ms per loop (mean ± std. dev. of 7 runs, 1 loop each)\n"
     ]
    }
   ],
   "source": [
    "%timeit InsertionSortTester(10_000,10_000)"
   ]
  },
  {
   "cell_type": "markdown",
   "id": "fed1bc04-144a-4d61-b76a-440f8a65cf52",
   "metadata": {},
   "source": [
    "## Best Case when all elements are sorted ($O(n)$)"
   ]
  },
  {
   "cell_type": "code",
   "execution_count": 33,
   "id": "8d3e43e1-7ac8-4adb-9a93-40e60334bbbd",
   "metadata": {},
   "outputs": [],
   "source": [
    "# Sequence of sorted elements\n",
    "def best_case(n):\n",
    "    sorted = [i for i in range(n)]\n",
    "    return InsertionSort(sorted)"
   ]
  },
  {
   "cell_type": "code",
   "execution_count": 34,
   "id": "6071132c-3707-4c67-9b41-d2c77430d9f1",
   "metadata": {},
   "outputs": [
    {
     "name": "stdout",
     "output_type": "stream",
     "text": [
      "362 μs ± 3.85 μs per loop (mean ± std. dev. of 7 runs, 1,000 loops each)\n"
     ]
    }
   ],
   "source": [
    "%timeit best_case(10_000)"
   ]
  },
  {
   "cell_type": "markdown",
   "id": "1a775f19-2b53-41e1-94b1-1d3d4b281b70",
   "metadata": {},
   "source": [
    "## Worst case when all elements are sorted in reverse $(O(n^2))$"
   ]
  },
  {
   "cell_type": "code",
   "execution_count": 35,
   "id": "6b8aea5d-cb48-4a16-a102-30b96882ad82",
   "metadata": {},
   "outputs": [],
   "source": [
    "def worst_case(n):\n",
    "    # Sequence of elements sorted in reverse\n",
    "    rev_sorted = [i for i in range(n-1, -1, -1)]\n",
    "    return InsertionSort(rev_sorted)"
   ]
  },
  {
   "cell_type": "code",
   "execution_count": 36,
   "id": "1b1e9fa9-a02b-4029-9c48-3e7cc90b9475",
   "metadata": {},
   "outputs": [
    {
     "name": "stdout",
     "output_type": "stream",
     "text": [
      "2.85 s ± 12.9 ms per loop (mean ± std. dev. of 7 runs, 1 loop each)\n"
     ]
    }
   ],
   "source": [
    "%timeit worst_case(10_000)"
   ]
  },
  {
   "cell_type": "markdown",
   "id": "ce64f5a6-787f-432d-8f9f-db92cc3466d3",
   "metadata": {},
   "source": [
    "## Case with multiple duplicates"
   ]
  },
  {
   "cell_type": "code",
   "execution_count": 37,
   "id": "24539e39-7c17-44cf-ac5f-78705fc5a5a4",
   "metadata": {},
   "outputs": [],
   "source": [
    "def duplicates(n):\n",
    "    # Sequence of elements with many duplicates\n",
    "    dup = [n]+[int(n/2) for i in range(n-2)] + [0]\n",
    "    return InsertionSort(dup)"
   ]
  },
  {
   "cell_type": "code",
   "execution_count": 38,
   "id": "9b974a7e-1839-4beb-b2d5-c466241d72b1",
   "metadata": {},
   "outputs": [
    {
     "name": "stdout",
     "output_type": "stream",
     "text": [
      "1.85 ms ± 3.94 μs per loop (mean ± std. dev. of 7 runs, 1,000 loops each)\n"
     ]
    }
   ],
   "source": [
    "%timeit duplicates(10_000)"
   ]
  },
  {
   "cell_type": "code",
   "execution_count": 39,
   "id": "6bb0f6fa-19da-49c3-b3a2-66a4b7a3d3b6",
   "metadata": {},
   "outputs": [],
   "source": [
    "def duplicates2(n):\n",
    "    # Sequence of elements with many duplicates\n",
    "    dup = [0]+[int(n/2) for i in range(n-2)] + [n]\n",
    "    return InsertionSort(dup)"
   ]
  },
  {
   "cell_type": "code",
   "execution_count": 40,
   "id": "54663c32-d336-4de0-895a-d1236331f429",
   "metadata": {},
   "outputs": [
    {
     "name": "stdout",
     "output_type": "stream",
     "text": [
      "729 μs ± 8.79 μs per loop (mean ± std. dev. of 7 runs, 1,000 loops each)\n"
     ]
    }
   ],
   "source": [
    "%timeit duplicates2(10_000)"
   ]
  },
  {
   "cell_type": "markdown",
   "id": "ef33885c-5002-4e9a-b050-0031b8f5234b",
   "metadata": {},
   "source": [
    "As expected, the worst case does significantly worse than the best case. In the case of many duplicates, the performances seems to be closer to the best case than to the worst, which is to be expected. "
   ]
  }
 ],
 "metadata": {
  "kernelspec": {
   "display_name": "Python 3 (ipykernel)",
   "language": "python",
   "name": "python3"
  },
  "language_info": {
   "codemirror_mode": {
    "name": "ipython",
    "version": 3
   },
   "file_extension": ".py",
   "mimetype": "text/x-python",
   "name": "python",
   "nbconvert_exporter": "python",
   "pygments_lexer": "ipython3",
   "version": "3.11.5"
  }
 },
 "nbformat": 4,
 "nbformat_minor": 5
}
