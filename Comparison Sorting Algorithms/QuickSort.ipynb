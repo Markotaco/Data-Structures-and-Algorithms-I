{
 "cells": [
  {
   "cell_type": "markdown",
   "id": "1d6dc3ab-e8cd-49dc-ae86-643eea2970b0",
   "metadata": {},
   "source": [
    "# QuickSort"
   ]
  },
  {
   "cell_type": "markdown",
   "id": "430378c3-3c13-4c51-9afa-13605727835b",
   "metadata": {},
   "source": [
    "QuickSort chooses a pivot, sorts elements to be to the left and right of said pivot, and then recusively does the same on the segments to the left and right of the pivot. Different partiotions and piviot choices exist, but for this we will be using the median of three pivot selection and partitioning to speed up the algorithm a little bit. In the best case, QuickSort is $O(nlogn)$, and in the worst case it is $O(n^2)$. It is not a stable algorithm, and it has a memory complexity of $O(logn)$."
   ]
  },
  {
   "cell_type": "markdown",
   "id": "b5c00049-5694-4697-9193-c93ff2de4cc3",
   "metadata": {},
   "source": [
    "## Generating a random sequence"
   ]
  },
  {
   "cell_type": "code",
   "execution_count": 100,
   "id": "d7178cbd-44d1-424d-984a-f534c4a54851",
   "metadata": {},
   "outputs": [],
   "source": [
    "import numpy as np"
   ]
  },
  {
   "cell_type": "code",
   "execution_count": 101,
   "id": "997263e7-4888-4df5-88b3-2dda893beb95",
   "metadata": {},
   "outputs": [
    {
     "name": "stdout",
     "output_type": "stream",
     "text": [
      "[66, 92, 98, 17, 83, 57, 86, 97, 96, 47]\n"
     ]
    }
   ],
   "source": [
    "seed = 123\n",
    "np.random.seed(seed)\n",
    "n = 10\n",
    "high = 100\n",
    "low = 0\n",
    "randseq = np.random.randint(low, high, n).tolist()\n",
    "print(randseq)"
   ]
  },
  {
   "cell_type": "markdown",
   "id": "6ef7eb2b-9c41-4386-9962-e4701e08a82a",
   "metadata": {},
   "source": [
    "# The algorithm, step-by-step"
   ]
  },
  {
   "cell_type": "markdown",
   "id": "1ade21a8-63c0-4350-86ca-13d1923e9abe",
   "metadata": {},
   "source": [
    "## Median of 3"
   ]
  },
  {
   "cell_type": "markdown",
   "id": "b3bf754f-068b-4f17-945a-060f3a4c4941",
   "metadata": {},
   "source": [
    "First, we need to come up with a sub-algorithm to choose and sort the median of 3 sequence. For even sequences, we take the element in front of the middle to be the middle element"
   ]
  },
  {
   "cell_type": "code",
   "execution_count": 102,
   "id": "c609a471-da0e-43a1-a99a-60eeafd85a46",
   "metadata": {},
   "outputs": [],
   "source": [
    "def median_of_3(seq):\n",
    "    # Getting length of sequence\n",
    "    n = len(seq)\n",
    "    # Raising an error if a sequence less than 3 is passed\n",
    "    if n<3:\n",
    "        raise ValueError(\"Input list for median of 3 must minimally be length 3\")\n",
    "    # We take the first, last and middle element\n",
    "    first = seq[0]\n",
    "    last = seq[n-1]\n",
    "    # Case of even number of elements\n",
    "    if n%2==0:\n",
    "        # Taking the element before the middle\n",
    "        mid = (n//2)-1\n",
    "        middle = seq[mid]\n",
    "    # Case of odd number of elements\n",
    "    else:\n",
    "        mid = n//2\n",
    "        middle = seq[mid]\n",
    "\n",
    "    ## Sorting into 1-m-n\n",
    "    # Finding out the relative sizes of the elements\n",
    "    smallest = min(first, last, middle)\n",
    "    largest = max(first, last, middle)\n",
    "    # The remaining number will be the median of 3\n",
    "    all3 = [first, last, middle]\n",
    "    small_big = [smallest, largest]\n",
    "    for i in small_big:\n",
    "        # If the element i matches either the smallest or biggest, remove it from the list of all3 since we want to get the remaining median\n",
    "        if i in all3:\n",
    "            all3.remove(i)\n",
    "    \n",
    "    # First element is the smallest\n",
    "    seq[0] = smallest\n",
    "    # last element is the largest\n",
    "    seq[n-1] = largest\n",
    "    # Middle element is neither the largest or smallest\n",
    "    seq[mid] = all3[0]\n",
    "    \n",
    "    # Returning the sequence with sorted 1-m-n, as well as the middle index for pivot usage\n",
    "    return (seq, mid)"
   ]
  },
  {
   "cell_type": "code",
   "execution_count": 103,
   "id": "9a0cd4e8-6c80-4030-9488-dcf573bf30e6",
   "metadata": {},
   "outputs": [
    {
     "data": {
      "text/plain": [
       "([47, 92, 98, 17, 66, 57, 86, 97, 96, 83], 4)"
      ]
     },
     "execution_count": 103,
     "metadata": {},
     "output_type": "execute_result"
    }
   ],
   "source": [
    "copy = randseq.copy()\n",
    "medo3 = median_of_3(copy)\n",
    "medo3"
   ]
  },
  {
   "cell_type": "markdown",
   "id": "01e76f15-63d3-4a9a-a026-3fd650aa8f56",
   "metadata": {},
   "source": [
    "The algorithm also works for sorting lists of 3 elements"
   ]
  },
  {
   "cell_type": "code",
   "execution_count": 104,
   "id": "0ff83980-3f70-42d2-a6b4-87423b796a05",
   "metadata": {},
   "outputs": [
    {
     "data": {
      "text/plain": [
       "([1, 2, 3], 1)"
      ]
     },
     "execution_count": 104,
     "metadata": {},
     "output_type": "execute_result"
    }
   ],
   "source": [
    "median_of_3([3,1,2])"
   ]
  },
  {
   "cell_type": "markdown",
   "id": "a85a84ec-d804-4b5a-ab2f-07f572ad53f7",
   "metadata": {},
   "source": [
    "## Case for array length 2"
   ]
  },
  {
   "cell_type": "markdown",
   "id": "c95f3077-dac9-49da-b458-bc1a3be4cbab",
   "metadata": {},
   "source": [
    "Next we create a simply function to handle the case of 2 elements"
   ]
  },
  {
   "cell_type": "code",
   "execution_count": 105,
   "id": "b679f180-03cb-4d99-a6ec-916057ad71f4",
   "metadata": {},
   "outputs": [],
   "source": [
    "def sort_2(seq):\n",
    "    if len(seq)!=2:\n",
    "        raise ValueError(\"Input list must be of size 2\")\n",
    "    # If bigger element is before the smaller one, swap them\n",
    "    if seq[0]>seq[1]:\n",
    "        temp = seq[0]\n",
    "        seq[0] = seq[1]\n",
    "        seq[1] = temp\n",
    "\n",
    "    return seq"
   ]
  },
  {
   "cell_type": "code",
   "execution_count": 106,
   "id": "02588024-6203-4958-96d6-288e2a796231",
   "metadata": {},
   "outputs": [
    {
     "data": {
      "text/plain": [
       "[2, 4]"
      ]
     },
     "execution_count": 106,
     "metadata": {},
     "output_type": "execute_result"
    }
   ],
   "source": [
    "sort_2([4,2])"
   ]
  },
  {
   "cell_type": "markdown",
   "id": "c1c844d6-0bbe-4d1c-a030-560b2107a7f0",
   "metadata": {},
   "source": [
    "## Sub-algorithm to perform pivot swaps and swaps"
   ]
  },
  {
   "cell_type": "markdown",
   "id": "92f0b677-767c-47f6-9daa-b9f238408c63",
   "metadata": {},
   "source": [
    "We now develop the algorithm that performs the swapping after the median-of-3 piviot is selected. \n",
    "1. The pivot is swapped to the second last position, and the counters i and j go from left and right respectively.\n",
    "2. i stops at the first element larger than the pivot, j stops at the first element smaller or equal to the pivot.\n",
    "3. They then swap the elements where they stopped at, and this continues until they cross each other.\n",
    "4. The pivot is then swapped back to where i is stopped at after crossing j"
   ]
  },
  {
   "cell_type": "code",
   "execution_count": 107,
   "id": "bbbce56a-eb74-4beb-826d-66a30bee74ff",
   "metadata": {},
   "outputs": [
    {
     "data": {
      "text/plain": [
       "([47, 92, 98, 17, 66, 57, 86, 97, 96, 83], 4)"
      ]
     },
     "execution_count": 107,
     "metadata": {},
     "output_type": "execute_result"
    }
   ],
   "source": [
    "medo3"
   ]
  },
  {
   "cell_type": "code",
   "execution_count": 108,
   "id": "a5ce13b8-079f-4f96-bdae-143964165ffc",
   "metadata": {},
   "outputs": [],
   "source": [
    "def swaps(medo3seq):\n",
    "    # Extracting the array and middle index\n",
    "    seq, mid = medo3seq[0], medo3seq[1]\n",
    "\n",
    "    # Getting the length of the index\n",
    "    n = len(seq)\n",
    "\n",
    "    # swapping the pivot to the second last position\n",
    "    pivot = seq[mid]\n",
    "    seq[mid] = seq[n-2]\n",
    "    seq[n-2] = pivot\n",
    "\n",
    "    # Intialising the i and j pointers\n",
    "    i = 0\n",
    "    j = n-3\n",
    "\n",
    "    # Keep going until i and j cross\n",
    "    while i<=j:\n",
    "        # Stop i only when an element strictly larger than the pivot is found\n",
    "        while seq[i]<=pivot:\n",
    "            i+=1\n",
    "            print(\"i is\",i)\n",
    "            # i cannot be larger than n-2\n",
    "            if i==n-2:\n",
    "                break\n",
    "        # Stop j only when an element smaller or equal to the pivot is found\n",
    "        while seq[j]>pivot:\n",
    "            j-=1\n",
    "            print(\"j is\", j)\n",
    "            # j cannot be lower than 0\n",
    "            if j==0:\n",
    "                break\n",
    "        # If i has already crossed j, break out of the loop\n",
    "        if i>j:\n",
    "            break\n",
    "        # Swap the elements where the i and j pointers are\n",
    "        temp = seq[i]\n",
    "        seq[i] = seq[j]\n",
    "        seq[j] = temp\n",
    "        print(seq[i], seq[j])\n",
    "\n",
    "    # Swap the pivot back with the element at index i\n",
    "    swapper = seq[i]\n",
    "    seq[i] = seq[n-2]\n",
    "    seq[n-2] = swapper\n",
    "    return seq,i"
   ]
  },
  {
   "cell_type": "markdown",
   "id": "ad5c325a-8bc4-4957-8b38-1cc10fb4b66a",
   "metadata": {},
   "source": [
    "## Looking at how the above algorithm handles different sequences"
   ]
  },
  {
   "cell_type": "code",
   "execution_count": 109,
   "id": "807fef30-cfa6-4bcf-9927-f75f69f156f8",
   "metadata": {},
   "outputs": [
    {
     "name": "stdout",
     "output_type": "stream",
     "text": [
      "i is 1\n",
      "j is 6\n",
      "j is 5\n",
      "57 92\n",
      "i is 2\n",
      "j is 4\n",
      "j is 3\n",
      "17 98\n",
      "i is 3\n",
      "j is 2\n"
     ]
    },
    {
     "data": {
      "text/plain": [
       "([47, 57, 17, 66, 96, 92, 86, 97, 98, 83], 3)"
      ]
     },
     "execution_count": 109,
     "metadata": {},
     "output_type": "execute_result"
    }
   ],
   "source": [
    "swaps(medo3)"
   ]
  },
  {
   "cell_type": "code",
   "execution_count": 110,
   "id": "ca7b2b02-80ab-4f82-9015-00a179834949",
   "metadata": {},
   "outputs": [
    {
     "name": "stdout",
     "output_type": "stream",
     "text": [
      "i is 1\n",
      "j is 6\n",
      "j is 5\n",
      "j is 4\n",
      "j is 3\n",
      "1 5\n",
      "i is 2\n",
      "i is 3\n",
      "j is 2\n"
     ]
    },
    {
     "data": {
      "text/plain": [
       "([1, 1, 1, 1, 51, 5, 5, 5, 5, 5], 3)"
      ]
     },
     "execution_count": 110,
     "metadata": {},
     "output_type": "execute_result"
    }
   ],
   "source": [
    "swaps(median_of_3([5,5,1,1,1,5,5,5,51,1]))"
   ]
  },
  {
   "cell_type": "code",
   "execution_count": 111,
   "id": "267cb937-ae73-49d3-a4b4-8f78b36ad4c8",
   "metadata": {},
   "outputs": [
    {
     "name": "stdout",
     "output_type": "stream",
     "text": [
      "[12, 77, 35, 51, 46, 60, 83, 29, 71, 23]\n",
      "i is 1\n",
      "j is 6\n",
      "j is 5\n",
      "j is 4\n",
      "j is 3\n",
      "j is 2\n",
      "j is 1\n",
      "j is 0\n"
     ]
    },
    {
     "data": {
      "text/plain": [
       "([12, 23, 35, 51, 71, 60, 83, 29, 77, 46], 1)"
      ]
     },
     "execution_count": 111,
     "metadata": {},
     "output_type": "execute_result"
    }
   ],
   "source": [
    "np.random.seed(333)\n",
    "n = 10\n",
    "high = 100\n",
    "low = 0\n",
    "randseq2 = np.random.randint(low, high, n).tolist()\n",
    "print(randseq2)\n",
    "swaps(median_of_3(randseq2))"
   ]
  },
  {
   "cell_type": "markdown",
   "id": "f9aa3d3a-c147-470c-8965-4e5bc58a829c",
   "metadata": {},
   "source": [
    "## Putting together the algorithm through recursion"
   ]
  },
  {
   "cell_type": "markdown",
   "id": "725c3496-4256-47df-ba13-cb1f4edd5272",
   "metadata": {},
   "source": [
    "First, we redfine the swaps algorithm, but this time without the prints for usage in the overall algorithm"
   ]
  },
  {
   "cell_type": "code",
   "execution_count": 112,
   "id": "f4239ed5-310b-49b4-aad0-87bfb88fe21d",
   "metadata": {},
   "outputs": [],
   "source": [
    "def swaps(medo3seq):\n",
    "    # Extracting the array and middle index\n",
    "    seq, mid = medo3seq[0], medo3seq[1]\n",
    "\n",
    "    # Getting the length of the index\n",
    "    n = len(seq)\n",
    "\n",
    "    # swapping the pivot to the second last position\n",
    "    pivot = seq[mid]\n",
    "    seq[mid] = seq[n-2]\n",
    "    seq[n-2] = pivot\n",
    "\n",
    "    # Intialising the i and j pointers\n",
    "    i = 0\n",
    "    j = n-3\n",
    "\n",
    "    # Keep going until i and j cross\n",
    "    while i<=j:\n",
    "        # Stop i only when an element strictly larger than the pivot is found\n",
    "        while seq[i]<=pivot:\n",
    "            i+=1\n",
    "            # i cannot be larger than n-2\n",
    "            if i==n-2:\n",
    "                break\n",
    "        # Stop j only when an element smaller or equal to the pivot is found\n",
    "        while seq[j]>pivot:\n",
    "            j-=1\n",
    "            # j cannot be lower than 0\n",
    "            if j==0:\n",
    "                break\n",
    "        # If i has already crossed j, break out of the loop\n",
    "        if i>j:\n",
    "            break\n",
    "        # Swap the elements where the i and j pointers are\n",
    "        temp = seq[i]\n",
    "        seq[i] = seq[j]\n",
    "        seq[j] = temp\n",
    "\n",
    "    # Swap the pivot back with the element at index i\n",
    "    swapper = seq[i]\n",
    "    seq[i] = seq[n-2]\n",
    "    seq[n-2] = swapper\n",
    "    return seq,i"
   ]
  },
  {
   "cell_type": "markdown",
   "id": "3b190d53-216c-49f3-877e-3dbf7f214752",
   "metadata": {},
   "source": [
    "Then, we build the general algorithm"
   ]
  },
  {
   "cell_type": "code",
   "execution_count": 113,
   "id": "b0cfd510-ad1b-433f-b8d1-fa0664674650",
   "metadata": {},
   "outputs": [],
   "source": [
    "def QuickSort(seq):\n",
    "    # Getting the length of the sequence\n",
    "    n = len(seq)\n",
    "    # Base case 1: 1 or no elements. Simply return the sequence\n",
    "    if n<=1:\n",
    "        #print(seq, \"Base case 1 reached\")\n",
    "        return seq\n",
    "    # Base case 2: 2 elements. Return the result of the sort 2 algorithm\n",
    "    elif n==2:\n",
    "        #print(seq, \"Base case 2 reached\")\n",
    "        return sort_2(seq)\n",
    "    # Base case 3: 3 elements. Return the result of median of 3\n",
    "    elif n==3:\n",
    "        #print(seq, \"Base case 3 reached\")\n",
    "        return median_of_3(seq)[0]\n",
    "    # Else, perform the swaps algorithm and call the function again on the smaller problem\n",
    "    else:\n",
    "        med_of_3 = median_of_3(seq)\n",
    "        swapped = swaps(med_of_3)\n",
    "        # Resulting sequence after the swaps have been made\n",
    "        swapped_seq = swapped[0]\n",
    "        # Ending index of the pivot\n",
    "        pivot = swapped[1]\n",
    "\n",
    "        # Only the pivot is now considered sorted. Split the remaining sequence into L+pivot+R\n",
    "        return QuickSort(seq[:pivot]) + [seq[pivot]] + QuickSort(seq[pivot+1:])"
   ]
  },
  {
   "cell_type": "markdown",
   "id": "c1f11675-79e2-4f34-ace1-c7fe4c6b4298",
   "metadata": {},
   "source": [
    "Regenerating the random sequence"
   ]
  },
  {
   "cell_type": "code",
   "execution_count": 114,
   "id": "d161d4ec-3e32-45f6-b5d9-509678d2e818",
   "metadata": {},
   "outputs": [
    {
     "name": "stdout",
     "output_type": "stream",
     "text": [
      "[66, 92, 98, 17, 83, 57, 86, 97, 96, 47]\n"
     ]
    }
   ],
   "source": [
    "np.random.seed(seed)\n",
    "n = 10\n",
    "high = 100\n",
    "low = 0\n",
    "randseq = np.random.randint(low, high, n).tolist()\n",
    "print(randseq)"
   ]
  },
  {
   "cell_type": "code",
   "execution_count": 115,
   "id": "dc7e48ac-1a6b-4597-8290-be6b03ec031f",
   "metadata": {},
   "outputs": [
    {
     "name": "stdout",
     "output_type": "stream",
     "text": [
      "[17, 47, 57, 66, 83, 86, 92, 96, 97, 98]\n"
     ]
    }
   ],
   "source": [
    "print(QuickSort(randseq))"
   ]
  },
  {
   "cell_type": "code",
   "execution_count": 116,
   "id": "5ea2b577-6dbc-4a7d-8225-0867e3b6a440",
   "metadata": {},
   "outputs": [
    {
     "name": "stdout",
     "output_type": "stream",
     "text": [
      "[73, 32, 46, 96, 25, 83, 78, 36, 96, 80, 68, 49, 55, 67, 2, 84, 39, 66, 84, 47, 61, 48, 7, 99, 92, 52, 97, 85, 94, 27, 34, 97, 76, 40, 3, 69, 64, 75, 34, 58, 10, 22, 77, 18, 15, 27, 30, 52, 70, 26, 80, 6, 14, 75, 54, 71, 1, 43, 58, 55, 25, 50, 84, 56, 49, 12, 18, 81, 1, 51, 44, 48, 56, 91, 49, 86, 3, 67, 11, 21, 89, 98, 3, 11, 3, 94, 6, 9, 87, 14, 83, 70, 12, 54, 27, 38, 17, 61, 74, 99]\n"
     ]
    }
   ],
   "source": [
    "n = 100\n",
    "high = 100\n",
    "low = 0\n",
    "randseq = np.random.randint(low, high, n).tolist()\n",
    "print(randseq)"
   ]
  },
  {
   "cell_type": "code",
   "execution_count": 117,
   "id": "b2a7bd10-ba5e-4890-ad60-9293f8c9eda5",
   "metadata": {},
   "outputs": [
    {
     "name": "stdout",
     "output_type": "stream",
     "text": [
      "[1, 1, 2, 3, 3, 3, 3, 6, 6, 7, 9, 10, 11, 11, 12, 12, 14, 14, 15, 17, 18, 18, 21, 22, 25, 25, 26, 27, 27, 27, 30, 32, 34, 34, 36, 38, 39, 40, 43, 44, 46, 47, 48, 48, 49, 49, 49, 50, 51, 52, 52, 54, 54, 55, 55, 56, 56, 58, 58, 61, 61, 64, 66, 67, 67, 68, 69, 70, 70, 71, 73, 74, 75, 75, 76, 77, 78, 80, 80, 81, 83, 83, 84, 84, 84, 85, 86, 87, 89, 91, 92, 94, 94, 96, 96, 97, 97, 98, 99, 99]\n"
     ]
    }
   ],
   "source": [
    "print(QuickSort(randseq.copy()))"
   ]
  },
  {
   "cell_type": "code",
   "execution_count": 118,
   "id": "e251e0d5-4569-403c-b742-baa64157a4ac",
   "metadata": {},
   "outputs": [
    {
     "name": "stdout",
     "output_type": "stream",
     "text": [
      "True\n"
     ]
    }
   ],
   "source": [
    "print(sorted(randseq)==QuickSort(randseq.copy()))"
   ]
  },
  {
   "cell_type": "code",
   "execution_count": 119,
   "id": "84d2e212-8935-45a5-9767-f19e3af8c57d",
   "metadata": {},
   "outputs": [
    {
     "data": {
      "text/plain": [
       "1"
      ]
     },
     "execution_count": 119,
     "metadata": {},
     "output_type": "execute_result"
    }
   ],
   "source": [
    "randseq.count(76)"
   ]
  },
  {
   "cell_type": "markdown",
   "id": "ddd58544-2cf2-42dc-8569-08e71e67d542",
   "metadata": {},
   "source": [
    "## Comparing the algorithm multiple times with a sorted iteration"
   ]
  },
  {
   "cell_type": "code",
   "execution_count": 120,
   "id": "fb3303d5-9c2c-4105-a094-687420398b4c",
   "metadata": {},
   "outputs": [],
   "source": [
    "n = 1_000_000\n",
    "for i in range(n):\n",
    "    n = 10\n",
    "    high = 100\n",
    "    low = 0\n",
    "    randseq = np.random.randint(low, high, n).tolist()\n",
    "    myseq = randseq.copy()\n",
    "    if QuickSort(myseq)!=sorted(randseq):\n",
    "        print(\"Sorting did not match\")"
   ]
  },
  {
   "cell_type": "markdown",
   "id": "7072719c-cf65-4bf9-93a0-e68563849dd3",
   "metadata": {},
   "source": [
    "Since the above did not output any false matches, the QuickSort seems to be working as intended"
   ]
  },
  {
   "cell_type": "markdown",
   "id": "2e643bd6-0647-4451-be53-7bebf2274639",
   "metadata": {},
   "source": [
    "# Timing the algorithm"
   ]
  },
  {
   "cell_type": "code",
   "execution_count": 121,
   "id": "0dc3e11c-a67f-4016-9c8f-34f3c21f35e1",
   "metadata": {},
   "outputs": [],
   "source": [
    "def QuickSortTester(n, high, low=0):\n",
    "    randseq = np.random.randint(low, high+1, n).tolist()\n",
    "    return QuickSort(randseq)"
   ]
  },
  {
   "cell_type": "code",
   "execution_count": 122,
   "id": "0dabf642-2505-49f1-804b-f8ac4cbd804e",
   "metadata": {},
   "outputs": [
    {
     "name": "stdout",
     "output_type": "stream",
     "text": [
      "[1, 2, 6, 6, 7, 8, 10, 11, 11, 14, 14, 15, 15, 16, 16, 16, 17, 18, 19, 19, 20, 21, 21, 22, 23, 25, 25, 26, 26, 26, 27, 30, 31, 31, 33, 35, 35, 35, 35, 36, 37, 37, 37, 39, 40, 41, 41, 45, 46, 47, 48, 50, 50, 50, 52, 52, 52, 57, 57, 58, 58, 58, 59, 60, 62, 64, 65, 65, 67, 67, 67, 67, 68, 68, 70, 72, 72, 72, 74, 75, 77, 79, 81, 82, 83, 84, 86, 86, 87, 87, 90, 90, 91, 91, 94, 98, 98, 98, 99, 100]\n"
     ]
    }
   ],
   "source": [
    "print(QuickSortTester(100,100))"
   ]
  },
  {
   "cell_type": "markdown",
   "id": "ad829d26-92c9-48e8-a9e5-3bed998b4834",
   "metadata": {},
   "source": [
    "## Standard Cases"
   ]
  },
  {
   "cell_type": "code",
   "execution_count": 123,
   "id": "0a740ee9-27a6-4a10-a51a-cb4a37839c4c",
   "metadata": {},
   "outputs": [
    {
     "name": "stdout",
     "output_type": "stream",
     "text": [
      "6.24 μs ± 91.7 ns per loop (mean ± std. dev. of 7 runs, 100,000 loops each)\n"
     ]
    }
   ],
   "source": [
    "%timeit QuickSortTester(10,10)"
   ]
  },
  {
   "cell_type": "code",
   "execution_count": 124,
   "id": "f29846e8-faf7-4823-aef8-8d4e5d3d4b7f",
   "metadata": {},
   "outputs": [
    {
     "name": "stdout",
     "output_type": "stream",
     "text": [
      "62.6 μs ± 3.7 μs per loop (mean ± std. dev. of 7 runs, 10,000 loops each)\n"
     ]
    }
   ],
   "source": [
    "%timeit QuickSortTester(100,100)"
   ]
  },
  {
   "cell_type": "code",
   "execution_count": 125,
   "id": "385f2b97-c0fe-4f4b-8144-3da44ab5f450",
   "metadata": {},
   "outputs": [
    {
     "name": "stdout",
     "output_type": "stream",
     "text": [
      "8.48 ms ± 50.8 μs per loop (mean ± std. dev. of 7 runs, 100 loops each)\n"
     ]
    }
   ],
   "source": [
    "%timeit QuickSortTester(10_000,10_000)"
   ]
  },
  {
   "cell_type": "code",
   "execution_count": 126,
   "id": "23097ea5-981a-4a42-8c8b-c8fa5206a137",
   "metadata": {},
   "outputs": [
    {
     "name": "stdout",
     "output_type": "stream",
     "text": [
      "1.29 s ± 23.5 ms per loop (mean ± std. dev. of 7 runs, 1 loop each)\n"
     ]
    }
   ],
   "source": [
    "# Since the algorithm's time complexity is good enough to handle very large n values, we try a special case here\n",
    "%timeit QuickSortTester(1_000_000,1_000_000)"
   ]
  },
  {
   "cell_type": "markdown",
   "id": "9431628a-281c-4b68-8a11-4e69f0a6912a",
   "metadata": {},
   "source": [
    "# Case of all elements being sorted"
   ]
  },
  {
   "cell_type": "code",
   "execution_count": 127,
   "id": "55404010-062e-4369-85cf-6b571b87f330",
   "metadata": {},
   "outputs": [],
   "source": [
    "# Sequence of sorted elements\n",
    "def sorted_case(n):\n",
    "    sorted = [i for i in range(n)]\n",
    "    return QuickSort(sorted)"
   ]
  },
  {
   "cell_type": "code",
   "execution_count": 128,
   "id": "42cca8df-aba1-4fd3-bb2f-1ad288970948",
   "metadata": {},
   "outputs": [
    {
     "name": "stdout",
     "output_type": "stream",
     "text": [
      "5.98 ms ± 71.7 μs per loop (mean ± std. dev. of 7 runs, 100 loops each)\n"
     ]
    }
   ],
   "source": [
    "%timeit sorted_case(10_000)"
   ]
  },
  {
   "cell_type": "markdown",
   "id": "f847dc18-f65d-4179-9660-fff490268ca2",
   "metadata": {},
   "source": [
    "## Case of all elements being sorted in reverse order"
   ]
  },
  {
   "cell_type": "code",
   "execution_count": 129,
   "id": "2a2a7fae-66c0-4b48-9ff9-bca4a16332b0",
   "metadata": {},
   "outputs": [],
   "source": [
    "def rev_case(n):\n",
    "    # Sequence of elements sorted in reverse\n",
    "    rev_sorted = [i for i in range(n-1, -1, -1)]\n",
    "    return QuickSort(rev_sorted)"
   ]
  },
  {
   "cell_type": "code",
   "execution_count": 130,
   "id": "144b3d27-183d-4f18-b2a9-27eb8340622a",
   "metadata": {},
   "outputs": [
    {
     "name": "stdout",
     "output_type": "stream",
     "text": [
      "8.03 ms ± 82.9 μs per loop (mean ± std. dev. of 7 runs, 100 loops each)\n"
     ]
    }
   ],
   "source": [
    "%timeit rev_case(10_000)"
   ]
  },
  {
   "cell_type": "markdown",
   "id": "4cf408e9-75e8-4628-84f0-3faf515ce20b",
   "metadata": {},
   "source": [
    "## Case with multiple duplicates"
   ]
  },
  {
   "cell_type": "code",
   "execution_count": 131,
   "id": "fdc637e0-b604-4e13-a695-98493d74cb2b",
   "metadata": {},
   "outputs": [],
   "source": [
    "def duplicates(n):\n",
    "    # Sequence of elements with many duplicates\n",
    "    dup = [n]+[int(n/2) for i in range(n-2)] + [0]\n",
    "    return QuickSort(dup)"
   ]
  },
  {
   "cell_type": "code",
   "execution_count": 132,
   "id": "3d482caf-2e82-4205-8b7f-f34cab0be657",
   "metadata": {},
   "outputs": [
    {
     "name": "stdout",
     "output_type": "stream",
     "text": [
      "286 ms ± 1.41 ms per loop (mean ± std. dev. of 7 runs, 1 loop each)\n"
     ]
    }
   ],
   "source": [
    "%timeit duplicates(5_930)"
   ]
  },
  {
   "cell_type": "code",
   "execution_count": 133,
   "id": "6b56b49f-2ddf-407c-afe1-97511dbcfdc3",
   "metadata": {},
   "outputs": [],
   "source": [
    "def duplicates2(n):\n",
    "    # Sequence of elements with many duplicates\n",
    "    dup = [0]+[int(n/2) for i in range(n-2)] + [n]\n",
    "    return QuickSort(dup)"
   ]
  },
  {
   "cell_type": "code",
   "execution_count": 134,
   "id": "0a6ebc99-33de-4f36-9f15-ef8549b36120",
   "metadata": {},
   "outputs": [
    {
     "name": "stdout",
     "output_type": "stream",
     "text": [
      "286 ms ± 2.17 ms per loop (mean ± std. dev. of 7 runs, 1 loop each)\n"
     ]
    }
   ],
   "source": [
    "%timeit duplicates2(5_930)"
   ]
  },
  {
   "cell_type": "markdown",
   "id": "d9542f83-2057-4a0c-b24f-6a4f0ff2d642",
   "metadata": {},
   "source": [
    "As the name suggests, QuickSort is extremely fast in most cases, perfoming similarly to MergeSort but being faster by a little bit. However, in the case of having multiple duplicates, my algorithm reaches the maximum recusion depth, and so I could only try it with 5,930 elements. Nonetheless, it already performs worse than MergeSort in this regard, and even InsertionSort is faster with `duplicates2`. "
   ]
  },
  {
   "cell_type": "markdown",
   "id": "223377e5-8827-409d-ab55-562f31e245db",
   "metadata": {},
   "source": [
    "This is likely due to the pivot moving to the edge of the sequence after each sort iteration, meaning that the partitioning is not really dividing the problem up, but more of just breaking off the small end chunk of the sequence. So it would seem that QuickSort performs badly with many duplicates"
   ]
  },
  {
   "cell_type": "code",
   "execution_count": null,
   "id": "cc5bd299-fe9b-45ea-bcc4-e448a28c35ae",
   "metadata": {},
   "outputs": [],
   "source": []
  }
 ],
 "metadata": {
  "kernelspec": {
   "display_name": "Python 3 (ipykernel)",
   "language": "python",
   "name": "python3"
  },
  "language_info": {
   "codemirror_mode": {
    "name": "ipython",
    "version": 3
   },
   "file_extension": ".py",
   "mimetype": "text/x-python",
   "name": "python",
   "nbconvert_exporter": "python",
   "pygments_lexer": "ipython3",
   "version": "3.11.5"
  }
 },
 "nbformat": 4,
 "nbformat_minor": 5
}
