{
 "cells": [
  {
   "cell_type": "markdown",
   "id": "8a697fa7-ecf3-4bfb-9d37-fd046cbffb9b",
   "metadata": {},
   "source": [
    "# Setting up the linked list infrastructure"
   ]
  },
  {
   "cell_type": "code",
   "execution_count": 18,
   "id": "0ff68d35-8570-493e-b9d5-7e042bb7eb56",
   "metadata": {},
   "outputs": [],
   "source": [
    "# Initialises an element as a node in the linked list\n",
    "class LNode:\n",
    "    def __init__(self, elem=None, next=None):\n",
    "        # Contains the element\n",
    "        self.elem=elem\n",
    "        # Contains the pointer to the next node\n",
    "        self.next=next\n",
    "\n",
    "# Initialises the beginning of the linked list\n",
    "class LList:\n",
    "    def __init__(self, head=None):\n",
    "        # Contains the pointer to the first node in the linked list\n",
    "        self.head = head"
   ]
  },
  {
   "cell_type": "code",
   "execution_count": 19,
   "id": "f3072f65-1686-414c-90de-613f8d1e0119",
   "metadata": {},
   "outputs": [],
   "source": [
    "# Intialising the nodes\n",
    "node1 = LNode(1)\n",
    "node2 = LNode(4)\n",
    "node3 = LNode(8)\n",
    "\n",
    "# Stringing the nodes into a linked list\n",
    "node1.next = node2\n",
    "node2.next = node3"
   ]
  },
  {
   "cell_type": "code",
   "execution_count": 20,
   "id": "c976c54b-196c-4c33-b8cd-2bbde048e42c",
   "metadata": {},
   "outputs": [
    {
     "data": {
      "text/plain": [
       "<__main__.LNode at 0x1110f9510>"
      ]
     },
     "execution_count": 20,
     "metadata": {},
     "output_type": "execute_result"
    }
   ],
   "source": [
    "# Node 1's pointer is now\n",
    "node1.next"
   ]
  },
  {
   "cell_type": "code",
   "execution_count": 21,
   "id": "7c29cedb-83c6-46a4-acbf-99dd9b0daa3a",
   "metadata": {},
   "outputs": [
    {
     "data": {
      "text/plain": [
       "<__main__.LNode at 0x1110f9510>"
      ]
     },
     "execution_count": 21,
     "metadata": {},
     "output_type": "execute_result"
    }
   ],
   "source": [
    "# Pointing at node 2\n",
    "node2"
   ]
  },
  {
   "cell_type": "code",
   "execution_count": 22,
   "id": "93fc7cc2-75d2-4b04-a65e-fe426a0a2891",
   "metadata": {},
   "outputs": [],
   "source": [
    "# Alt version of setting up the nodes\n",
    "node3 = LNode(8)\n",
    "node2 = LNode(4, node3)\n",
    "node1 = LNode(1, node2)"
   ]
  },
  {
   "cell_type": "code",
   "execution_count": 23,
   "id": "f543cf82-20ff-4f20-b307-e4a55ecc2950",
   "metadata": {},
   "outputs": [],
   "source": [
    "# Setting up the linked list's head\n",
    "linky = LList(node1)"
   ]
  },
  {
   "cell_type": "code",
   "execution_count": 24,
   "id": "74bb5ddf-d1c8-4964-b2cd-990d2c54ff8f",
   "metadata": {},
   "outputs": [
    {
     "name": "stdout",
     "output_type": "stream",
     "text": [
      "1\n",
      "4\n",
      "8\n"
     ]
    }
   ],
   "source": [
    "# Looking at the full list\n",
    "def LL_printer(linked):\n",
    "    # First assign the pointer to the first element to a variable\n",
    "    currentnode = linked.head\n",
    "    # while the currentnode variable is not none\n",
    "    while currentnode:\n",
    "        # print out the currentnode's element\n",
    "        print(currentnode.elem)\n",
    "        # Set currentnode to the next node using the pointer\n",
    "        currentnode = currentnode.next\n",
    "\n",
    "LL_printer(linky)"
   ]
  },
  {
   "cell_type": "code",
   "execution_count": 25,
   "id": "92f7e150-7578-4821-b22d-ed71d18e0ba5",
   "metadata": {},
   "outputs": [
    {
     "name": "stdout",
     "output_type": "stream",
     "text": [
      "hi\n"
     ]
    }
   ],
   "source": [
    "foo = 9\n",
    "while foo:\n",
    "    print(\"hi\")\n",
    "    foo=None"
   ]
  },
  {
   "cell_type": "markdown",
   "id": "f67bcedc-5921-4dfe-b93d-9d8f554ca567",
   "metadata": {},
   "source": [
    "## Inserting at the head of the list"
   ]
  },
  {
   "cell_type": "code",
   "execution_count": 26,
   "id": "66fddc47-87a0-444c-99b7-e0fb7fadbcfd",
   "metadata": {},
   "outputs": [],
   "source": [
    "# Creating a new node and setting its pointer to the head of the list\n",
    "newnode = LNode(23, node1)\n",
    "# Shifting the header pointer\n",
    "linky.head = newnode"
   ]
  },
  {
   "cell_type": "code",
   "execution_count": 27,
   "id": "cda6c11a-cd18-49d2-9995-d5496f302d03",
   "metadata": {},
   "outputs": [
    {
     "name": "stdout",
     "output_type": "stream",
     "text": [
      "23\n",
      "1\n",
      "4\n",
      "8\n"
     ]
    }
   ],
   "source": [
    "LL_printer(linky)"
   ]
  },
  {
   "cell_type": "markdown",
   "id": "88c073e7-aed1-44ea-9dc1-aaae1324824a",
   "metadata": {},
   "source": [
    "# Removing a node at the head"
   ]
  },
  {
   "cell_type": "code",
   "execution_count": 28,
   "id": "c45c957a-4ca7-4b3c-aabf-5a091b68c61b",
   "metadata": {},
   "outputs": [
    {
     "name": "stdout",
     "output_type": "stream",
     "text": [
      "1\n",
      "4\n",
      "8\n"
     ]
    }
   ],
   "source": [
    "# First, shift the header to the head node's next node\n",
    "linky.head = linky.head.next\n",
    "# Then, delete the node, which is actually automatically done since there is now no more reference to it\n",
    "LL_printer(linky)\n"
   ]
  },
  {
   "cell_type": "markdown",
   "id": "c8d95440-7715-4880-a0a9-93115d3ec3b8",
   "metadata": {},
   "source": [
    "# Double Linked Lists"
   ]
  },
  {
   "cell_type": "markdown",
   "id": "37674b6b-98e5-4436-a1a1-d3a92813185b",
   "metadata": {},
   "source": [
    "## Setting up the infrastrucure"
   ]
  },
  {
   "cell_type": "code",
   "execution_count": 29,
   "id": "ea382d50-bdff-40fe-bb5e-daee7bfbb614",
   "metadata": {},
   "outputs": [],
   "source": [
    "class DNode:\n",
    "    def __init__(self, elem=None, next=None, prev=None):\n",
    "        self.elem = elem\n",
    "        self.next = next\n",
    "        self.prev = prev\n",
    "\n",
    "class DList:\n",
    "    def __init__(self, head=None, tail=None, size=0):\n",
    "        self.head = head\n",
    "        self.tail = tail\n",
    "        self.size = size\n",
    "\n",
    "    def first_node(self, item):\n",
    "        # Create a node 0\n",
    "        node0 = DNode(item)\n",
    "        # Stitch the head pointer to the node\n",
    "        self.head = node0\n",
    "        # Stitch the tail pointer to the node\n",
    "        self.tail = node0\n",
    "        # Add 1 to the size of the linked list\n",
    "        self.size += 1\n",
    "\n",
    "    def left_append(self, item):\n",
    "        # in the case of an empty list\n",
    "        if self.size==0:\n",
    "            self.head.elem = item\n",
    "            self.size += 1\n",
    "        else:\n",
    "            # Create a new node to be appended to the front. Stitch the next pointer of this node to the original head node\n",
    "            newnode = DNode(item, self.head)\n",
    "            # Stitch the prev pointer of the original head node to the new node\n",
    "            self.head.prev = newnode\n",
    "            # Stitch the head pointer to the new node\n",
    "            self.head = newnode\n",
    "            # Add 1 to the size of the list\n",
    "            self.size += 1\n",
    "\n",
    "    def right_append(self, item):\n",
    "        # In the case of an empty list\n",
    "        if self.size==0:\n",
    "            self.tail.elem = item\n",
    "            self.size += 1\n",
    "        else:\n",
    "            # Create a new node to be added to the back. Stitch the new node's prev pointer to the original tail node\n",
    "            newnode = DNode(item, None, self.tail)\n",
    "            # Stitch the original tail node's next pointer to the new node\n",
    "            self.tail.next = newnode\n",
    "            # Stitch the tail pointer to the new node\n",
    "            self.tail = newnode\n",
    "            # Add 1 to the size of the list\n",
    "            self.size += 1\n",
    "\n",
    "    def left_pop(self):\n",
    "        if self.size==0:\n",
    "            raise Exception(\"Cannot pop from an empty list\")\n",
    "        # In the case we want to make the list empty\n",
    "        if self.size==1:\n",
    "            tempelem = self.head.elem\n",
    "            self.head.elem = \"Empty\"\n",
    "            self.size -= 1\n",
    "            return tempelem\n",
    "        else:            \n",
    "            # Create a temporary node to store the head of the list\n",
    "            tempnode = self.head\n",
    "            # Stitch the head pointer to the second element in the linked list. This is now the new head\n",
    "            self.head = self.head.next\n",
    "            # Remove the stitching to the first node from the second node\n",
    "            self.head.prev = None\n",
    "            # Subtract 1 from the size of the list\n",
    "            self.size -= 1\n",
    "            # Return the element stored in the temporary node\n",
    "            return tempnode.elem\n",
    "\n",
    "    def right_pop(self):\n",
    "        if self.size==0:\n",
    "            raise Exception(\"Cannot pop from an empty list\")\n",
    "        # In the case we want to make the list empty\n",
    "        if self.size==1:\n",
    "            tempelem = self.tail.elem\n",
    "            self.tail.elem = \"Empty\"\n",
    "            self.size -= 1\n",
    "            return tempelem\n",
    "        else:\n",
    "            # Create a temporary node to store the tail of the list\n",
    "            tempnode = self.tail\n",
    "            # Stitch the tail pointer to the second last element in the linked list. This is now the new tail\n",
    "            self.tail = self.tail.prev\n",
    "            # Remove the stitching to the last node from the second last node\n",
    "            self.tail.next = None\n",
    "            # Subtract 1 from the size of the list\n",
    "            self.size -= 1\n",
    "            # Return the element stored in the temporary node\n",
    "            return tempnode.elem"
   ]
  },
  {
   "cell_type": "code",
   "execution_count": 30,
   "id": "1ff66edc-342e-45bd-a81f-42c0393e89e5",
   "metadata": {},
   "outputs": [],
   "source": [
    "def LL_printer_reverse(linked):\n",
    "    currentnode = linked.tail\n",
    "    while currentnode:\n",
    "        print(currentnode.elem)\n",
    "        currentnode=currentnode.prev"
   ]
  },
  {
   "cell_type": "code",
   "execution_count": 31,
   "id": "c424b784-cb70-45ad-8d86-f1e1ad564137",
   "metadata": {},
   "outputs": [
    {
     "name": "stdout",
     "output_type": "stream",
     "text": [
      "2\n",
      "5\n",
      "4\n",
      "12\n",
      "9\n"
     ]
    }
   ],
   "source": [
    "linky_test = DList()\n",
    "linky_test.first_node(4)\n",
    "linky_test.left_append(5)\n",
    "linky_test.left_append(2)\n",
    "linky_test.right_append(12)\n",
    "linky_test.right_append(9)\n",
    "LL_printer(linky_test)"
   ]
  },
  {
   "cell_type": "code",
   "execution_count": 32,
   "id": "3b9a9ad5-9c74-4d72-bfe3-a782a3a77bff",
   "metadata": {},
   "outputs": [
    {
     "data": {
      "text/plain": [
       "5"
      ]
     },
     "execution_count": 32,
     "metadata": {},
     "output_type": "execute_result"
    }
   ],
   "source": [
    "linky_test.size"
   ]
  },
  {
   "cell_type": "code",
   "execution_count": 33,
   "id": "532cd57f-e328-4d58-bd10-b45dddb1c734",
   "metadata": {},
   "outputs": [
    {
     "data": {
      "text/plain": [
       "9"
      ]
     },
     "execution_count": 33,
     "metadata": {},
     "output_type": "execute_result"
    }
   ],
   "source": [
    "linky_test.right_pop()"
   ]
  },
  {
   "cell_type": "code",
   "execution_count": 34,
   "id": "f6727100-df10-4881-b08d-ebbb16204437",
   "metadata": {},
   "outputs": [
    {
     "name": "stdout",
     "output_type": "stream",
     "text": [
      "2\n",
      "5\n",
      "4\n",
      "12\n"
     ]
    }
   ],
   "source": [
    "LL_printer(linky_test)"
   ]
  },
  {
   "cell_type": "code",
   "execution_count": 35,
   "id": "e6eaf1bd-294c-45d2-8728-6ae1cb1e246f",
   "metadata": {},
   "outputs": [
    {
     "name": "stdout",
     "output_type": "stream",
     "text": [
      "12\n",
      "4\n",
      "5\n",
      "2\n"
     ]
    }
   ],
   "source": [
    "LL_printer_reverse(linky_test)"
   ]
  },
  {
   "cell_type": "code",
   "execution_count": 36,
   "id": "9121b797-b43a-455b-b865-59facd516445",
   "metadata": {},
   "outputs": [],
   "source": [
    "linky_test.right_append(32)"
   ]
  },
  {
   "cell_type": "markdown",
   "id": "aadf7356-54ed-41a5-a113-f13fd9971aab",
   "metadata": {},
   "source": [
    "## Creating a double linked list"
   ]
  },
  {
   "cell_type": "code",
   "execution_count": 37,
   "id": "d2691cdc-21ab-4298-bd88-b8bd43f8490e",
   "metadata": {},
   "outputs": [],
   "source": [
    "node1 = DNode(1)\n",
    "node2 = DNode(3, None, node1)\n",
    "node3 = DNode(9, None, node2)\n",
    "node1.next = node2\n",
    "node2.next = node3\n",
    "\n",
    "linkylinky = DList(node1, node3)"
   ]
  },
  {
   "cell_type": "code",
   "execution_count": 38,
   "id": "dcbae7ee-1d61-4f52-bacb-6194a9f74355",
   "metadata": {},
   "outputs": [
    {
     "name": "stdout",
     "output_type": "stream",
     "text": [
      "1\n",
      "3\n",
      "9\n"
     ]
    }
   ],
   "source": [
    "LL_printer(linkylinky)"
   ]
  },
  {
   "cell_type": "code",
   "execution_count": 39,
   "id": "e689c16d-b9d5-4451-988c-3898357d9256",
   "metadata": {},
   "outputs": [
    {
     "name": "stdout",
     "output_type": "stream",
     "text": [
      "9\n",
      "3\n",
      "1\n"
     ]
    }
   ],
   "source": [
    "LL_printer_reverse(linkylinky)"
   ]
  },
  {
   "cell_type": "markdown",
   "id": "bf8806ef-0a6c-464d-9b65-d884e5f49957",
   "metadata": {},
   "source": [
    "## Adding an element at the head"
   ]
  },
  {
   "cell_type": "code",
   "execution_count": 40,
   "id": "42daa496-662d-4797-abae-55d99b7277d8",
   "metadata": {},
   "outputs": [],
   "source": [
    "node4 = DNode(46, node1)\n",
    "node1.prev = node4\n",
    "linkylinky.head = node4"
   ]
  },
  {
   "cell_type": "code",
   "execution_count": 41,
   "id": "bade772e-77b6-479a-8e7b-064c5ba7c4a4",
   "metadata": {},
   "outputs": [
    {
     "name": "stdout",
     "output_type": "stream",
     "text": [
      "46\n",
      "1\n",
      "3\n",
      "9\n"
     ]
    }
   ],
   "source": [
    "LL_printer(linkylinky)"
   ]
  },
  {
   "cell_type": "code",
   "execution_count": 42,
   "id": "c42c5dda-1437-4dd3-bd9c-9e727dd8d2f1",
   "metadata": {},
   "outputs": [
    {
     "name": "stdout",
     "output_type": "stream",
     "text": [
      "9\n",
      "3\n",
      "1\n",
      "46\n"
     ]
    }
   ],
   "source": [
    "LL_printer_reverse(linkylinky)"
   ]
  },
  {
   "cell_type": "markdown",
   "id": "d3fcc632-5fbd-4d8e-82f6-11fb79d7aee9",
   "metadata": {},
   "source": [
    "## Adding an element at the tail"
   ]
  },
  {
   "cell_type": "code",
   "execution_count": 43,
   "id": "3bfef6b1-86b6-4439-914d-e77de2803979",
   "metadata": {},
   "outputs": [],
   "source": [
    "node5 = DNode(12, None, node3)\n",
    "node3.next = node5\n",
    "linkylinky.tail = node5"
   ]
  },
  {
   "cell_type": "code",
   "execution_count": 44,
   "id": "734e4360-4224-45b5-b36f-189f12ab1af8",
   "metadata": {},
   "outputs": [
    {
     "name": "stdout",
     "output_type": "stream",
     "text": [
      "46\n",
      "1\n",
      "3\n",
      "9\n",
      "12\n"
     ]
    }
   ],
   "source": [
    "LL_printer(linkylinky)"
   ]
  },
  {
   "cell_type": "code",
   "execution_count": 45,
   "id": "5d2b3329-a687-45f3-8a96-d6b39787d078",
   "metadata": {},
   "outputs": [
    {
     "name": "stdout",
     "output_type": "stream",
     "text": [
      "12\n",
      "9\n",
      "3\n",
      "1\n",
      "46\n"
     ]
    }
   ],
   "source": [
    "LL_printer_reverse(linkylinky)"
   ]
  },
  {
   "cell_type": "markdown",
   "id": "7e02cdb9-f0ca-49a4-8f63-5b7c3065230f",
   "metadata": {},
   "source": [
    "## Deleting an element at the head"
   ]
  },
  {
   "cell_type": "code",
   "execution_count": 46,
   "id": "1f53be1c-1828-4255-b0f2-74e7a468a1e9",
   "metadata": {},
   "outputs": [],
   "source": [
    "linkylinky.head = linkylinky.head.next\n",
    "linkylinky.head.prev = None"
   ]
  },
  {
   "cell_type": "code",
   "execution_count": 47,
   "id": "a1e762f3-fa09-43ed-8c0c-d1a600e04c7c",
   "metadata": {},
   "outputs": [
    {
     "name": "stdout",
     "output_type": "stream",
     "text": [
      "1\n",
      "3\n",
      "9\n",
      "12\n"
     ]
    }
   ],
   "source": [
    "LL_printer(linkylinky)"
   ]
  },
  {
   "cell_type": "code",
   "execution_count": 48,
   "id": "ce10fe7f-4699-4f0f-8455-3cc0489c8c1f",
   "metadata": {},
   "outputs": [
    {
     "name": "stdout",
     "output_type": "stream",
     "text": [
      "12\n",
      "9\n",
      "3\n",
      "1\n"
     ]
    }
   ],
   "source": [
    "LL_printer_reverse(linkylinky)"
   ]
  },
  {
   "cell_type": "markdown",
   "id": "05f88887-4a69-4b67-a3b3-1ad25a5c3103",
   "metadata": {},
   "source": [
    "# Timing the Data Structures"
   ]
  },
  {
   "cell_type": "code",
   "execution_count": 49,
   "id": "779c9cea-2e6f-4bca-85a7-edd724e6db6f",
   "metadata": {},
   "outputs": [],
   "source": [
    "import numpy as np"
   ]
  },
  {
   "cell_type": "markdown",
   "id": "38487480-b1a5-4285-aab4-e5098d62d168",
   "metadata": {},
   "source": [
    "## Appending to the back"
   ]
  },
  {
   "cell_type": "code",
   "execution_count": 50,
   "id": "f0e7d12b-8998-4492-8d1f-c7f2624c4ece",
   "metadata": {},
   "outputs": [],
   "source": [
    "def list_appender(n):\n",
    "    mylist = []\n",
    "    for i in range(n):\n",
    "        mylist.append(i)"
   ]
  },
  {
   "cell_type": "code",
   "execution_count": 51,
   "id": "19f2a6f8-fa1e-4b40-a054-d3dc9fe0d065",
   "metadata": {},
   "outputs": [
    {
     "name": "stdout",
     "output_type": "stream",
     "text": [
      "138 μs ± 895 ns per loop (mean ± std. dev. of 7 runs, 10,000 loops each)\n"
     ]
    }
   ],
   "source": [
    "%timeit list_appender(100_00)"
   ]
  },
  {
   "cell_type": "code",
   "execution_count": 52,
   "id": "7c767f01-2904-445f-8586-9fa921368895",
   "metadata": {},
   "outputs": [],
   "source": [
    "def array_appender(n):\n",
    "    myarray = np.array([])\n",
    "    for i in range(n):\n",
    "        myarray = np.append(myarray, i)"
   ]
  },
  {
   "cell_type": "code",
   "execution_count": 53,
   "id": "9e846b04-25e4-4404-b0e9-5ac467bc2b8f",
   "metadata": {},
   "outputs": [
    {
     "name": "stdout",
     "output_type": "stream",
     "text": [
      "1.03 s ± 82.2 ms per loop (mean ± std. dev. of 7 runs, 1 loop each)\n"
     ]
    }
   ],
   "source": [
    "%timeit array_appender(100_000)"
   ]
  },
  {
   "cell_type": "code",
   "execution_count": 54,
   "id": "e3fd9485-9a87-474b-aabf-ad7476965f10",
   "metadata": {},
   "outputs": [],
   "source": [
    "def linked_appender(n):\n",
    "    mylinky = DList()\n",
    "    for i in range(n):\n",
    "        # Case for first node\n",
    "        if i==0:\n",
    "            newnode = DNode(i)\n",
    "            mylinky.head = newnode\n",
    "            mylinky.tail = newnode\n",
    "        # Case for the rest\n",
    "        else:\n",
    "            newnode = DNode(i, None, mylinky.tail)\n",
    "            newnode.prev.next = newnode\n",
    "            mylinky.tail = newnode\n",
    "    return mylinky"
   ]
  },
  {
   "cell_type": "code",
   "execution_count": 55,
   "id": "afae8d37-1b2a-49fd-9b75-f41d8759a461",
   "metadata": {},
   "outputs": [
    {
     "name": "stdout",
     "output_type": "stream",
     "text": [
      "10.7 ms ± 398 μs per loop (mean ± std. dev. of 7 runs, 100 loops each)\n"
     ]
    }
   ],
   "source": [
    "%timeit linked_appender(100_000)"
   ]
  },
  {
   "cell_type": "code",
   "execution_count": 56,
   "id": "3126b839-928e-488d-a26f-2240dc8344ff",
   "metadata": {},
   "outputs": [],
   "source": [
    "test1 = linked_appender(4)"
   ]
  },
  {
   "cell_type": "code",
   "execution_count": 57,
   "id": "9cfa3c22-71f9-4a6c-bb7f-722a39940221",
   "metadata": {},
   "outputs": [
    {
     "name": "stdout",
     "output_type": "stream",
     "text": [
      "0\n",
      "1\n",
      "2\n",
      "3\n"
     ]
    }
   ],
   "source": [
    "LL_printer(test1)"
   ]
  },
  {
   "cell_type": "code",
   "execution_count": 58,
   "id": "7619e97c-7d2d-4b63-93cc-cf95e3736f8f",
   "metadata": {},
   "outputs": [
    {
     "name": "stdout",
     "output_type": "stream",
     "text": [
      "3\n",
      "2\n",
      "1\n",
      "0\n"
     ]
    }
   ],
   "source": [
    "LL_printer_reverse(test1)"
   ]
  },
  {
   "cell_type": "markdown",
   "id": "c943d2c2-34c5-4475-9a50-65f024e986ff",
   "metadata": {},
   "source": [
    "Thus, it seems like lists are currently the fastest, followed by the linked lists, and then the arrays"
   ]
  },
  {
   "cell_type": "markdown",
   "id": "510ef498-c4b9-4a13-b399-528fc2c3a522",
   "metadata": {},
   "source": [
    "## Appending to the front"
   ]
  },
  {
   "cell_type": "code",
   "execution_count": 59,
   "id": "be58cbd0-cd61-47d2-90d5-b0569d389097",
   "metadata": {},
   "outputs": [],
   "source": [
    "def list_adder(n):\n",
    "    mylist = []\n",
    "    for i in range(n):\n",
    "        mylist.insert(0, i)"
   ]
  },
  {
   "cell_type": "code",
   "execution_count": 60,
   "id": "fe724c28-54df-48e9-8afe-afa1f69b0041",
   "metadata": {},
   "outputs": [
    {
     "name": "stdout",
     "output_type": "stream",
     "text": [
      "2.36 s ± 22.8 ms per loop (mean ± std. dev. of 7 runs, 1 loop each)\n"
     ]
    }
   ],
   "source": [
    "%timeit list_adder(100_000)"
   ]
  },
  {
   "cell_type": "code",
   "execution_count": 61,
   "id": "48dfdf0f-ac33-4a47-af1e-98ef5041f23a",
   "metadata": {},
   "outputs": [],
   "source": [
    "def array_adder(n):\n",
    "    myarray = np.array([])\n",
    "    for i in range(n):\n",
    "        myarray = np.insert(myarray, 0, i)\n",
    "    return myarray"
   ]
  },
  {
   "cell_type": "code",
   "execution_count": 62,
   "id": "71692cda-1675-40c2-bd2b-b454c7494351",
   "metadata": {},
   "outputs": [
    {
     "name": "stdout",
     "output_type": "stream",
     "text": [
      "1.33 s ± 60.3 ms per loop (mean ± std. dev. of 7 runs, 1 loop each)\n"
     ]
    }
   ],
   "source": [
    "%timeit array_adder(100_000)"
   ]
  },
  {
   "cell_type": "code",
   "execution_count": 63,
   "id": "7bbff154-3b90-4b65-837e-fecbce93f077",
   "metadata": {},
   "outputs": [],
   "source": [
    "def linked_adder(n):\n",
    "    mylinky = DList()\n",
    "    for i in range(n):\n",
    "        if i==0:\n",
    "            newnode = DNode(i)\n",
    "            mylinky.head = newnode\n",
    "            mylinky.tail = newnode\n",
    "        else:\n",
    "            newnode = DNode(i, mylinky.head, None)\n",
    "            newnode.next.prev = newnode\n",
    "            mylinky.head = newnode\n",
    "    return mylinky"
   ]
  },
  {
   "cell_type": "code",
   "execution_count": 64,
   "id": "64a9997d-7590-40fb-972d-9020ce14d938",
   "metadata": {},
   "outputs": [
    {
     "name": "stdout",
     "output_type": "stream",
     "text": [
      "10.5 ms ± 387 μs per loop (mean ± std. dev. of 7 runs, 100 loops each)\n"
     ]
    }
   ],
   "source": [
    "%timeit linked_adder(100_000)"
   ]
  },
  {
   "cell_type": "code",
   "execution_count": 65,
   "id": "8e5a889f-9f4d-4527-bbfe-5161dfceb14b",
   "metadata": {},
   "outputs": [],
   "source": [
    "test2 = linked_adder(4)"
   ]
  },
  {
   "cell_type": "code",
   "execution_count": 66,
   "id": "ad136c15-5342-4f10-b675-c5f720fb2c4f",
   "metadata": {},
   "outputs": [
    {
     "name": "stdout",
     "output_type": "stream",
     "text": [
      "3\n",
      "2\n",
      "1\n",
      "0\n"
     ]
    }
   ],
   "source": [
    "LL_printer(test2)"
   ]
  },
  {
   "cell_type": "code",
   "execution_count": 67,
   "id": "5bad8a89-a7e9-4f75-ba14-d05810e8deff",
   "metadata": {},
   "outputs": [
    {
     "name": "stdout",
     "output_type": "stream",
     "text": [
      "0\n",
      "1\n",
      "2\n",
      "3\n"
     ]
    }
   ],
   "source": [
    "LL_printer_reverse(test2)"
   ]
  },
  {
   "cell_type": "markdown",
   "id": "dcb83bbd-4fac-4754-ba52-e1e106099879",
   "metadata": {},
   "source": [
    "Thus, when adding from the front, linked lists are much faster. This is because we are simply creating new nodes and moving a fixed number of pointers instead of having to shift all elements back. Notice as well how the time taken for `list_appender` and `list_adder` is the same"
   ]
  },
  {
   "cell_type": "markdown",
   "id": "019c4e76-c42c-4042-a95c-2890bf367789",
   "metadata": {},
   "source": [
    "## Accesing data"
   ]
  },
  {
   "cell_type": "markdown",
   "id": "72f268fb-262c-4a1d-8b0b-6388b1f53745",
   "metadata": {},
   "source": [
    "First we need to create the data"
   ]
  },
  {
   "cell_type": "code",
   "execution_count": 68,
   "id": "ca603f21-0e43-4bd6-b4ea-275750c6dfe8",
   "metadata": {},
   "outputs": [
    {
     "data": {
      "text/plain": [
       "array([    0,     1,     2, ..., 99997, 99998, 99999], shape=(100000,))"
      ]
     },
     "execution_count": 68,
     "metadata": {},
     "output_type": "execute_result"
    }
   ],
   "source": [
    "list_access = [i for i in range(100_000)]\n",
    "array_access = np.array(list_access)\n",
    "array_access"
   ]
  },
  {
   "cell_type": "code",
   "execution_count": 69,
   "id": "44970b16-49b6-4242-8edc-8e7703b1b913",
   "metadata": {},
   "outputs": [],
   "source": [
    "linky_access = linked_appender(100_000)"
   ]
  },
  {
   "cell_type": "code",
   "execution_count": 70,
   "id": "8a1083fb-05c8-4086-b0eb-2f27f7370f97",
   "metadata": {},
   "outputs": [
    {
     "data": {
      "text/plain": [
       "0"
      ]
     },
     "execution_count": 70,
     "metadata": {},
     "output_type": "execute_result"
    }
   ],
   "source": [
    "linky_access.head.elem"
   ]
  },
  {
   "cell_type": "markdown",
   "id": "d281b6c7-a4a3-4723-a938-9b75697d2839",
   "metadata": {},
   "source": [
    "We choose to access the array data through indexing"
   ]
  },
  {
   "cell_type": "code",
   "execution_count": 71,
   "id": "757307b7-63d3-4b99-b83b-9dbb5522d3c2",
   "metadata": {},
   "outputs": [],
   "source": [
    "def list_accessor(A):\n",
    "    rand = np.random.randint(0, len(A)-1)\n",
    "    return A[rand]\n"
   ]
  },
  {
   "cell_type": "code",
   "execution_count": 72,
   "id": "cf8668ef-b2ce-4752-aed9-35a17b94bd13",
   "metadata": {},
   "outputs": [
    {
     "name": "stdout",
     "output_type": "stream",
     "text": [
      "923 ns ± 16.1 ns per loop (mean ± std. dev. of 7 runs, 1,000,000 loops each)\n"
     ]
    }
   ],
   "source": [
    "%timeit list_accessor(list_access)"
   ]
  },
  {
   "cell_type": "code",
   "execution_count": 73,
   "id": "924e4b5a-3cce-43e6-821a-bd43965c2478",
   "metadata": {},
   "outputs": [],
   "source": [
    "def array_accessor(A):\n",
    "    rand = np.random.randint(0, len(A)-1)\n",
    "    return A[rand]"
   ]
  },
  {
   "cell_type": "code",
   "execution_count": 74,
   "id": "1d325a6c-755e-42e1-a26c-c05d0ab129e6",
   "metadata": {},
   "outputs": [
    {
     "name": "stdout",
     "output_type": "stream",
     "text": [
      "934 ns ± 8.15 ns per loop (mean ± std. dev. of 7 runs, 1,000,000 loops each)\n"
     ]
    }
   ],
   "source": [
    "%timeit array_accessor(array_access)"
   ]
  },
  {
   "cell_type": "code",
   "execution_count": 75,
   "id": "2300369c-807e-42c6-ad8d-a1b30cccfc4c",
   "metadata": {},
   "outputs": [],
   "source": [
    "def linky_accessor(A, no_elements):\n",
    "    rand = np.random.randint(0, no_elements-1)\n",
    "    currentnode = A.head\n",
    "    for i in range(rand):\n",
    "        currentnode = currentnode.next\n",
    "    return currentnode.elem"
   ]
  },
  {
   "cell_type": "code",
   "execution_count": 76,
   "id": "8fed0407-2767-4afe-96e4-c40e5220ac08",
   "metadata": {},
   "outputs": [
    {
     "name": "stdout",
     "output_type": "stream",
     "text": [
      "595 μs ± 18.2 μs per loop (mean ± std. dev. of 7 runs, 1,000 loops each)\n"
     ]
    }
   ],
   "source": [
    "%timeit linky_accessor(linky_access, 100_000)"
   ]
  },
  {
   "cell_type": "markdown",
   "id": "c3f33337-b18a-424c-a553-0016d4791d77",
   "metadata": {},
   "source": [
    "While still fast, the linked list accessing for index access is still much slower than the array or list accessing"
   ]
  },
  {
   "cell_type": "markdown",
   "id": "a936c59f-72f7-4c18-ab7e-35b079641074",
   "metadata": {},
   "source": [
    "## Searching"
   ]
  },
  {
   "cell_type": "markdown",
   "id": "f1a5009f-6216-4e23-9798-59991f74eefb",
   "metadata": {},
   "source": [
    "Let us assume we are searching from an ordered list"
   ]
  },
  {
   "cell_type": "markdown",
   "id": "bee8e614-fdd4-4609-963f-ba7a765bcba8",
   "metadata": {},
   "source": [
    "Creating the data we need"
   ]
  },
  {
   "cell_type": "code",
   "execution_count": 77,
   "id": "fec8af34-cba2-4e46-a2fe-c61b15834e00",
   "metadata": {},
   "outputs": [],
   "source": [
    "n = 100_000\n",
    "search_list = [i for i in range(n)]\n",
    "search_array = np.array(search_list)"
   ]
  },
  {
   "cell_type": "code",
   "execution_count": 78,
   "id": "9a7f4cda-236f-4b0f-82a1-9af05d24b4cb",
   "metadata": {},
   "outputs": [],
   "source": [
    "search_linky = DList()\n",
    "search_linky.first_node(0)\n",
    "for i in range(1, n):\n",
    "    search_linky.right_append(i)"
   ]
  },
  {
   "cell_type": "markdown",
   "id": "3af02f65-0e85-43e1-8aef-1cc0c265b3dd",
   "metadata": {},
   "source": [
    "Looking at how fast these data structures can look up a random number. To make it fair, we allow the arrays to also search from the back if needed"
   ]
  },
  {
   "cell_type": "code",
   "execution_count": 79,
   "id": "defc9594-8199-46cd-bc2d-65cf122cbbc5",
   "metadata": {},
   "outputs": [],
   "source": [
    "def list_searcher(A):\n",
    "    rand = np.random.randint(0, len(A))\n",
    "    if rand<len(A)//2:\n",
    "        for i in range(len(A)//2):\n",
    "            if rand==A[i]:\n",
    "                return rand\n",
    "        return -1\n",
    "    else:\n",
    "        for i in range(len(A)//2, len(A)):\n",
    "            if rand==A[i]:\n",
    "                return rand\n",
    "        return -1"
   ]
  },
  {
   "cell_type": "code",
   "execution_count": 80,
   "id": "180536f1-9f5f-4cb8-9221-98c28a51dc8a",
   "metadata": {},
   "outputs": [
    {
     "name": "stdout",
     "output_type": "stream",
     "text": [
      "381 μs ± 12.8 μs per loop (mean ± std. dev. of 7 runs, 1,000 loops each)\n"
     ]
    }
   ],
   "source": [
    "%timeit list_searcher(search_list)"
   ]
  },
  {
   "cell_type": "code",
   "execution_count": 81,
   "id": "4d8e60a3-32cd-4df4-a106-af5cf90f88cb",
   "metadata": {},
   "outputs": [],
   "source": [
    "def array_searcher(A):\n",
    "    rand = np.random.randint(0, len(A))\n",
    "    if rand<len(A)//2:\n",
    "        for i in range(len(A)//2):\n",
    "            if rand==A[i]:\n",
    "                return rand\n",
    "        return -1\n",
    "    else:\n",
    "        for i in range(len(A)//2, len(A)):\n",
    "            if rand==A[i]:\n",
    "                return rand\n",
    "        return -1"
   ]
  },
  {
   "cell_type": "code",
   "execution_count": 82,
   "id": "e476ed86-6e1f-4808-bdb2-04d0b318d203",
   "metadata": {},
   "outputs": [
    {
     "name": "stdout",
     "output_type": "stream",
     "text": [
      "1.59 ms ± 37.5 μs per loop (mean ± std. dev. of 7 runs, 1,000 loops each)\n"
     ]
    }
   ],
   "source": [
    "%timeit array_searcher(search_array)"
   ]
  },
  {
   "cell_type": "code",
   "execution_count": 83,
   "id": "9880c0e4-7923-4b56-b50f-637333064985",
   "metadata": {},
   "outputs": [],
   "source": [
    "def linky_searcher(A):\n",
    "    rand = np.random.randint(0, A.size)\n",
    "    if rand<(A.size//2):\n",
    "        currentnode = A.head\n",
    "        while currentnode:\n",
    "            if currentnode.elem==rand:\n",
    "                return currentnode.elem\n",
    "            currentnode = currentnode.next\n",
    "        return -1\n",
    "    else:\n",
    "        currentnode = A.tail\n",
    "        while currentnode:\n",
    "            if currentnode.elem==rand:\n",
    "                return currentnode.elem\n",
    "            currentnode = currentnode.prev\n",
    "        return -1"
   ]
  },
  {
   "cell_type": "code",
   "execution_count": 84,
   "id": "9bf87cca-9600-4f6c-b968-932219d3f6fc",
   "metadata": {},
   "outputs": [
    {
     "name": "stdout",
     "output_type": "stream",
     "text": [
      "349 μs ± 12.7 μs per loop (mean ± std. dev. of 7 runs, 1,000 loops each)\n"
     ]
    }
   ],
   "source": [
    "%timeit linky_searcher(search_linky)"
   ]
  },
  {
   "cell_type": "markdown",
   "id": "79789140-7c0a-4cff-a325-5317e9aa7658",
   "metadata": {},
   "source": [
    "Thus, when it comes to searching for a value instead of an index, linked lists are the same speed as lists/arrays. However not that for arrays and lists, other more efficient searching algorithms exist for ordered lists"
   ]
  },
  {
   "cell_type": "markdown",
   "id": "420cc931-a3de-48a3-9d50-d08fa8b08c9f",
   "metadata": {},
   "source": [
    "## Deletion of Data"
   ]
  },
  {
   "cell_type": "markdown",
   "id": "ec365299-2c16-42d9-a47d-27566c8c71c9",
   "metadata": {},
   "source": [
    "This is very similar to the appending of data, so we will just show the deletion from the back to show the advantge of a double linked list"
   ]
  },
  {
   "cell_type": "code",
   "execution_count": 85,
   "id": "987c4219-f77d-4291-ae79-cda069d729a0",
   "metadata": {},
   "outputs": [],
   "source": [
    "n = 100_000\n",
    "del_list = [i for i in range(n)]\n",
    "del_array = np.array(del_list)"
   ]
  },
  {
   "cell_type": "code",
   "execution_count": 86,
   "id": "da34eb48-1496-4099-bb69-d01098e2abda",
   "metadata": {},
   "outputs": [],
   "source": [
    "del_linky = DList()\n",
    "del_linky.first_node(0)\n",
    "for i in range(1, n):\n",
    "    del_linky.right_append(i)"
   ]
  },
  {
   "cell_type": "code",
   "execution_count": 87,
   "id": "8261b2fb-c288-44f9-a579-50d3c3d7b02f",
   "metadata": {},
   "outputs": [
    {
     "data": {
      "text/plain": [
       "0"
      ]
     },
     "execution_count": 87,
     "metadata": {},
     "output_type": "execute_result"
    }
   ],
   "source": [
    "del_linky.head.elem"
   ]
  },
  {
   "cell_type": "code",
   "execution_count": 88,
   "id": "38c44aa3-8fb1-42c4-874e-0e9a3fb5a223",
   "metadata": {},
   "outputs": [],
   "source": [
    "def list_deleter(A):\n",
    "    temp = A.copy()\n",
    "    x = len(temp)\n",
    "    for i in range(x):\n",
    "        temp.pop(0)"
   ]
  },
  {
   "cell_type": "code",
   "execution_count": 89,
   "id": "006f87da-3b03-418e-9655-688363141e6d",
   "metadata": {},
   "outputs": [
    {
     "name": "stdout",
     "output_type": "stream",
     "text": [
      "734 ms ± 10.4 ms per loop (mean ± std. dev. of 7 runs, 1 loop each)\n"
     ]
    }
   ],
   "source": [
    "%timeit list_deleter(del_list)"
   ]
  },
  {
   "cell_type": "code",
   "execution_count": 90,
   "id": "dcf4a7c7-f364-4e4b-a84b-378c3378a317",
   "metadata": {},
   "outputs": [],
   "source": [
    "def array_deleter(A):\n",
    "    temp = np.copy(A)\n",
    "    x = len(temp)\n",
    "    for i in range(x):\n",
    "        temp = np.delete(temp, 0)"
   ]
  },
  {
   "cell_type": "code",
   "execution_count": 91,
   "id": "fa3c50c0-37c4-4ea9-9027-3a2eae923aa7",
   "metadata": {},
   "outputs": [
    {
     "name": "stdout",
     "output_type": "stream",
     "text": [
      "1.05 s ± 57.2 ms per loop (mean ± std. dev. of 7 runs, 1 loop each)\n"
     ]
    }
   ],
   "source": [
    "%timeit array_deleter(del_array)"
   ]
  },
  {
   "cell_type": "code",
   "execution_count": 92,
   "id": "ba0391ce-c108-4078-b838-75ae2662139b",
   "metadata": {},
   "outputs": [],
   "source": [
    "def linky_deleter(A):\n",
    "    temp = DList(A.head, A.tail, A.size)\n",
    "    while temp.size>0:\n",
    "        temp.left_pop()\n",
    "    return temp.tail.elem"
   ]
  },
  {
   "cell_type": "code",
   "execution_count": 93,
   "id": "78a0acf3-e589-4a58-b2bf-1b6c009c218f",
   "metadata": {},
   "outputs": [
    {
     "name": "stdout",
     "output_type": "stream",
     "text": [
      "6.93 ms ± 23.5 μs per loop (mean ± std. dev. of 7 runs, 100 loops each)\n"
     ]
    }
   ],
   "source": [
    "%timeit linky_deleter(del_linky)"
   ]
  },
  {
   "cell_type": "markdown",
   "id": "fbb38c86-a1ec-4746-b4cc-d4da1f093842",
   "metadata": {},
   "source": [
    "As seen, a linked list is much faster than a list or array when having to delete from the front"
   ]
  },
  {
   "cell_type": "code",
   "execution_count": null,
   "id": "433ee290-61dd-4da4-ab56-2b7ae66be766",
   "metadata": {},
   "outputs": [],
   "source": []
  }
 ],
 "metadata": {
  "kernelspec": {
   "display_name": "Python 3 (ipykernel)",
   "language": "python",
   "name": "python3"
  },
  "language_info": {
   "codemirror_mode": {
    "name": "ipython",
    "version": 3
   },
   "file_extension": ".py",
   "mimetype": "text/x-python",
   "name": "python",
   "nbconvert_exporter": "python",
   "pygments_lexer": "ipython3",
   "version": "3.11.5"
  }
 },
 "nbformat": 4,
 "nbformat_minor": 5
}
