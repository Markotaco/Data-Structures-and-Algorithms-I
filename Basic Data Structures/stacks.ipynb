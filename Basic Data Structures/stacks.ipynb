{
 "cells": [
  {
   "cell_type": "code",
   "execution_count": 1,
   "id": "5e8b5580-ac69-43c3-b00d-955a1ff445ad",
   "metadata": {},
   "outputs": [],
   "source": [
    "mylist = [1,2,3,4]"
   ]
  },
  {
   "cell_type": "code",
   "execution_count": 2,
   "id": "eda167aa-1682-4ea3-b321-dad2f927a457",
   "metadata": {},
   "outputs": [
    {
     "data": {
      "text/plain": [
       "4"
      ]
     },
     "execution_count": 2,
     "metadata": {},
     "output_type": "execute_result"
    }
   ],
   "source": [
    "mylist.pop()"
   ]
  },
  {
   "cell_type": "code",
   "execution_count": 3,
   "id": "8f0d641c-703b-4020-9ab0-e8a01c721482",
   "metadata": {},
   "outputs": [
    {
     "data": {
      "text/plain": [
       "[1, 2, 3]"
      ]
     },
     "execution_count": 3,
     "metadata": {},
     "output_type": "execute_result"
    }
   ],
   "source": [
    "mylist"
   ]
  },
  {
   "cell_type": "code",
   "execution_count": 4,
   "id": "2ceaba0c-beed-43df-aefd-965fe30c3ba8",
   "metadata": {},
   "outputs": [],
   "source": [
    "class stack():\n",
    "    def __init__(self):\n",
    "        self.items = []\n",
    "        \n",
    "    def isEmpty(self):\n",
    "        return self.items==[]\n",
    "\n",
    "    def push(self, data):\n",
    "        self.items.append(data)\n",
    "\n",
    "    def pop(self):\n",
    "        if len(self.items) > 0:\n",
    "            return self.items.pop()\n",
    "        else:\n",
    "            raise Exception(\"Cannot pop from an empty stack\")\n",
    "\n",
    "    def peek(self):\n",
    "        if self.items == []:\n",
    "            return []\n",
    "        else:\n",
    "            return self.items[-1]\n",
    "\n",
    "    def size(self):\n",
    "        return len(self.items)\n",
    "\n",
    "    def print(self):\n",
    "        return self.items\n",
    "\n",
    "    def copy(self):\n",
    "        return self"
   ]
  },
  {
   "cell_type": "code",
   "execution_count": 5,
   "id": "709c6eb8-9b2f-4276-b1e5-be54d33de92e",
   "metadata": {},
   "outputs": [],
   "source": [
    "mystack = stack()"
   ]
  },
  {
   "cell_type": "code",
   "execution_count": 6,
   "id": "d31d327c-4734-4e27-af3c-521e10689016",
   "metadata": {},
   "outputs": [
    {
     "data": {
      "text/plain": [
       "True"
      ]
     },
     "execution_count": 6,
     "metadata": {},
     "output_type": "execute_result"
    }
   ],
   "source": [
    "mystack.isEmpty()"
   ]
  },
  {
   "cell_type": "code",
   "execution_count": 7,
   "id": "94c81d6f-2204-4bd2-959e-e33ce61dcfce",
   "metadata": {},
   "outputs": [],
   "source": [
    "mystack.push(3)"
   ]
  },
  {
   "cell_type": "code",
   "execution_count": 8,
   "id": "7e8fa742-2f29-4407-a8fd-ef2d96e80b84",
   "metadata": {},
   "outputs": [],
   "source": [
    "mystack.push(8)"
   ]
  },
  {
   "cell_type": "code",
   "execution_count": 9,
   "id": "113f5968-4c0e-4d83-a987-1fb2a0828049",
   "metadata": {},
   "outputs": [
    {
     "data": {
      "text/plain": [
       "False"
      ]
     },
     "execution_count": 9,
     "metadata": {},
     "output_type": "execute_result"
    }
   ],
   "source": [
    "mystack.isEmpty()"
   ]
  },
  {
   "cell_type": "code",
   "execution_count": 10,
   "id": "e6c26d66-8c52-4e1b-a25f-d29b0c168ab8",
   "metadata": {},
   "outputs": [],
   "source": [
    "mystack.push(9)"
   ]
  },
  {
   "cell_type": "code",
   "execution_count": 11,
   "id": "62f66cd7-421d-456d-9739-628786e312cd",
   "metadata": {},
   "outputs": [],
   "source": [
    "mystack.push(23)"
   ]
  },
  {
   "cell_type": "code",
   "execution_count": 12,
   "id": "fd715986-9032-4f41-a565-145d23e91841",
   "metadata": {},
   "outputs": [],
   "source": [
    "mystack.push(4)"
   ]
  },
  {
   "cell_type": "code",
   "execution_count": 13,
   "id": "a6018c59-78c3-49ca-858e-91a232b970e2",
   "metadata": {},
   "outputs": [
    {
     "data": {
      "text/plain": [
       "[3, 8, 9, 23, 4]"
      ]
     },
     "execution_count": 13,
     "metadata": {},
     "output_type": "execute_result"
    }
   ],
   "source": [
    "mystack.print()"
   ]
  },
  {
   "cell_type": "code",
   "execution_count": 14,
   "id": "3d55011d-254b-444d-8d0f-7a423e0ad814",
   "metadata": {},
   "outputs": [
    {
     "data": {
      "text/plain": [
       "4"
      ]
     },
     "execution_count": 14,
     "metadata": {},
     "output_type": "execute_result"
    }
   ],
   "source": [
    "mystack.pop()"
   ]
  },
  {
   "cell_type": "code",
   "execution_count": 15,
   "id": "42be6e76-0591-42ba-8eb5-3644888a31e0",
   "metadata": {},
   "outputs": [
    {
     "data": {
      "text/plain": [
       "[3, 8, 9, 23]"
      ]
     },
     "execution_count": 15,
     "metadata": {},
     "output_type": "execute_result"
    }
   ],
   "source": [
    "mystack.print()"
   ]
  },
  {
   "cell_type": "code",
   "execution_count": 16,
   "id": "046afc56-b116-4cf5-9863-1d87fd6fea27",
   "metadata": {},
   "outputs": [
    {
     "data": {
      "text/plain": [
       "23"
      ]
     },
     "execution_count": 16,
     "metadata": {},
     "output_type": "execute_result"
    }
   ],
   "source": [
    "mystack.peek()"
   ]
  },
  {
   "cell_type": "markdown",
   "id": "34f7d2ce-4890-42ef-8ce7-2dfa94400e58",
   "metadata": {},
   "source": [
    "# Timing the Data structures"
   ]
  },
  {
   "cell_type": "markdown",
   "id": "670d6bd9-3baa-412e-970b-c1e18f02f036",
   "metadata": {},
   "source": [
    "## Appending"
   ]
  },
  {
   "cell_type": "markdown",
   "id": "128968a2-261a-44fc-a013-5ad51d81b85b",
   "metadata": {},
   "source": [
    "Both data structures will append a set of 1000 numbers 100 times. They will then be timed."
   ]
  },
  {
   "cell_type": "code",
   "execution_count": 17,
   "id": "89defcfb-1816-4f22-af53-b13b86715c5d",
   "metadata": {},
   "outputs": [],
   "source": [
    "import numpy as np"
   ]
  },
  {
   "cell_type": "code",
   "execution_count": 18,
   "id": "c1b164cb-2f84-43bb-b6ae-7454b917e215",
   "metadata": {},
   "outputs": [],
   "source": [
    "# numpy array appending from the front\n",
    "\n",
    "def array_adder(n):\n",
    "    array_slow = np.array([])\n",
    "    for j in range(n):\n",
    "        array_slow = np.insert(array_slow, 0, j, axis=None)\n",
    "    return array_slow"
   ]
  },
  {
   "cell_type": "code",
   "execution_count": 19,
   "id": "61ec7440-91f9-4507-89bd-2ef264eeed3f",
   "metadata": {},
   "outputs": [
    {
     "name": "stdout",
     "output_type": "stream",
     "text": [
      "2.11 s ± 343 ms per loop (mean ± std. dev. of 7 runs, 1 loop each)\n"
     ]
    }
   ],
   "source": [
    "%timeit array_adder(1_000_00)"
   ]
  },
  {
   "cell_type": "code",
   "execution_count": 20,
   "id": "a311a868-6f4e-467d-81be-75d38fb7485e",
   "metadata": {},
   "outputs": [],
   "source": [
    "# List adding from front\n",
    "\n",
    "def list_adder_slow(n):\n",
    "    front_list = []\n",
    "    for i in range(n):\n",
    "        front_list.insert(0, i)\n",
    "    return front_list"
   ]
  },
  {
   "cell_type": "code",
   "execution_count": 21,
   "id": "5d2311d2-ff0c-47a1-95ce-d88bbe3fce12",
   "metadata": {},
   "outputs": [
    {
     "name": "stdout",
     "output_type": "stream",
     "text": [
      "2.53 s ± 48.3 ms per loop (mean ± std. dev. of 7 runs, 1 loop each)\n"
     ]
    }
   ],
   "source": [
    "%timeit list_adder_slow(1_000_00)"
   ]
  },
  {
   "cell_type": "code",
   "execution_count": 22,
   "id": "b08db800-e3ea-4f09-b442-07c64f37d118",
   "metadata": {},
   "outputs": [],
   "source": [
    "# stack adding\n",
    "\n",
    "def stack_adder(n):\n",
    "    stacker = stack()\n",
    "    for i in range(n):\n",
    "        stacker.push(i)\n",
    "    return stacker.items"
   ]
  },
  {
   "cell_type": "code",
   "execution_count": 23,
   "id": "dae5506c-e9df-4489-8029-e77552e163c2",
   "metadata": {},
   "outputs": [
    {
     "name": "stdout",
     "output_type": "stream",
     "text": [
      "3.78 ms ± 73.6 μs per loop (mean ± std. dev. of 7 runs, 100 loops each)\n"
     ]
    }
   ],
   "source": [
    "%timeit stack_adder(1_000_00)"
   ]
  },
  {
   "cell_type": "markdown",
   "id": "0f727a75-302c-4146-9c81-3d58d0a2b22a",
   "metadata": {},
   "source": [
    "Thus, the stack preserves the LIFO efficiently, since it forces the user to only take out the top of the stack. The array and list have to be appended from the from the make the order seem intuitive to the user, but then these take very long."
   ]
  },
  {
   "cell_type": "code",
   "execution_count": 24,
   "id": "4c620fa1-1784-46bd-bb95-8388fc508171",
   "metadata": {},
   "outputs": [
    {
     "name": "stdout",
     "output_type": "stream",
     "text": [
      "[9. 8. 7. 6. 5. 4. 3. 2. 1. 0.]\n",
      "[9, 8, 7, 6, 5, 4, 3, 2, 1, 0]\n",
      "[0, 1, 2, 3, 4, 5, 6, 7, 8, 9]\n"
     ]
    }
   ],
   "source": [
    "print(array_adder(10))\n",
    "print(list_adder_slow(10))\n",
    "print(stack_adder(10))"
   ]
  },
  {
   "cell_type": "markdown",
   "id": "a6ed716d-ca1d-4ca9-854b-aaa4e9515578",
   "metadata": {},
   "source": [
    "## Deletion"
   ]
  },
  {
   "cell_type": "markdown",
   "id": "75ed07b2-135d-4ccb-adc0-db9b8c46c575",
   "metadata": {},
   "source": [
    "Since it is a LIFO system, deletion will be from the back of the arrays. For a stack it can only be through `pop`"
   ]
  },
  {
   "cell_type": "code",
   "execution_count": 25,
   "id": "19ef8bcd-a035-4290-8384-207b52b44b7f",
   "metadata": {},
   "outputs": [
    {
     "data": {
      "text/plain": [
       "array([99999, 99998, 99997, ...,     2,     1,     0], shape=(100000,))"
      ]
     },
     "execution_count": 25,
     "metadata": {},
     "output_type": "execute_result"
    }
   ],
   "source": [
    "# Creating the data structures\n",
    "del_list = []\n",
    "for i in range(1_000_00):\n",
    "    del_list.insert(0, i)\n",
    "del_array = np.array(del_list)\n",
    "del_array"
   ]
  },
  {
   "cell_type": "code",
   "execution_count": 26,
   "id": "8136ef6a-405b-40de-85a6-fb66f92f3cf5",
   "metadata": {},
   "outputs": [
    {
     "data": {
      "text/plain": [
       "99999"
      ]
     },
     "execution_count": 26,
     "metadata": {},
     "output_type": "execute_result"
    }
   ],
   "source": [
    "del_stack = stack()\n",
    "for i in reversed(del_list):\n",
    "    del_stack.push(i)\n",
    "del_stack.peek()"
   ]
  },
  {
   "cell_type": "code",
   "execution_count": 27,
   "id": "601ca3e4-17e2-47cf-ad1e-a7795d5b4ac4",
   "metadata": {},
   "outputs": [],
   "source": [
    "def list_deleter(A):\n",
    "    # Copying the list so that we do not edit the original list\n",
    "    temp = A.copy()\n",
    "    for i in range(len(temp)):\n",
    "        temp.pop(0)"
   ]
  },
  {
   "cell_type": "code",
   "execution_count": 28,
   "id": "9f2ba0b3-50da-4d45-97b9-6d7860fafb65",
   "metadata": {},
   "outputs": [
    {
     "name": "stdout",
     "output_type": "stream",
     "text": [
      "792 ms ± 13.5 ms per loop (mean ± std. dev. of 7 runs, 1 loop each)\n"
     ]
    }
   ],
   "source": [
    "%timeit list_deleter(del_list)"
   ]
  },
  {
   "cell_type": "code",
   "execution_count": 29,
   "id": "eed1f8cc-e9cd-4ad7-b04a-c8463da09b73",
   "metadata": {},
   "outputs": [],
   "source": [
    "def array_deleter(A):\n",
    "    for i in range(len(A)):\n",
    "        A = np.delete(A, 0)\n",
    "    return A"
   ]
  },
  {
   "cell_type": "code",
   "execution_count": 30,
   "id": "4f80f5bf-1e61-4a99-9696-d82d6b28af88",
   "metadata": {},
   "outputs": [
    {
     "name": "stdout",
     "output_type": "stream",
     "text": [
      "1.27 s ± 62.6 ms per loop (mean ± std. dev. of 7 runs, 1 loop each)\n"
     ]
    }
   ],
   "source": [
    "%timeit array_deleter(del_array)"
   ]
  },
  {
   "cell_type": "code",
   "execution_count": 31,
   "id": "9f0bf369-9e08-42e0-8081-0fc617bf59dc",
   "metadata": {},
   "outputs": [],
   "source": [
    "def stack_deleter(A):\n",
    "    # initialising and then copying the stack items so we do not edit the orginal stack\n",
    "    temp = stack()\n",
    "    temp.items = A.items.copy()\n",
    "    for i in range(temp.size()):\n",
    "        temp.pop()"
   ]
  },
  {
   "cell_type": "code",
   "execution_count": 32,
   "id": "268905c4-9e00-4733-bc89-cd48a6f3036f",
   "metadata": {},
   "outputs": [
    {
     "name": "stdout",
     "output_type": "stream",
     "text": [
      "5.22 ms ± 140 μs per loop (mean ± std. dev. of 7 runs, 100 loops each)\n"
     ]
    }
   ],
   "source": [
    "%timeit stack_deleter(del_stack)"
   ]
  },
  {
   "cell_type": "markdown",
   "id": "336864b9-0a63-4e60-a972-dbc7d9130873",
   "metadata": {},
   "source": [
    "Thus, a stack is faster when a LIFO regime is enforced as compared to a numpy array and a python list"
   ]
  },
  {
   "cell_type": "markdown",
   "id": "2feed11b-1e9b-4007-a7db-a3415a4bbfa0",
   "metadata": {},
   "source": [
    "## Accessing"
   ]
  },
  {
   "cell_type": "markdown",
   "id": "458abac6-922a-433a-bbc5-bfa4e3b6c21d",
   "metadata": {},
   "source": [
    "First we need to create the arrays and the stack containing the elements. In essence, the front most elements will be 0,1,2,..."
   ]
  },
  {
   "cell_type": "code",
   "execution_count": 33,
   "id": "caaea400-4c85-4085-bb57-56ede52285fc",
   "metadata": {},
   "outputs": [
    {
     "data": {
      "text/plain": [
       "array([     0,      1,      2, ..., 999997, 999998, 999999],\n",
       "      shape=(1000000,))"
      ]
     },
     "execution_count": 33,
     "metadata": {},
     "output_type": "execute_result"
    }
   ],
   "source": [
    "access_list = [i for i in range(1_000_000)]\n",
    "access_array = np.array(access_list)\n",
    "access_array"
   ]
  },
  {
   "cell_type": "code",
   "execution_count": 34,
   "id": "ccb574cd-129a-4098-854b-575e5b548852",
   "metadata": {},
   "outputs": [
    {
     "data": {
      "text/plain": [
       "0"
      ]
     },
     "execution_count": 34,
     "metadata": {},
     "output_type": "execute_result"
    }
   ],
   "source": [
    "access_stack = stack()\n",
    "for i in reversed(access_list):\n",
    "    access_stack.push(i)\n",
    "access_stack.peek()    "
   ]
  },
  {
   "cell_type": "markdown",
   "id": "fee75740-6ff4-4151-abb6-45fe8bfe7db1",
   "metadata": {},
   "source": [
    "## Accessing an element in an array"
   ]
  },
  {
   "cell_type": "markdown",
   "id": "849491e1-aa2c-43ad-92bf-7092d4e6bd01",
   "metadata": {},
   "source": [
    "Say we want to access a random element"
   ]
  },
  {
   "cell_type": "code",
   "execution_count": 35,
   "id": "849d6793-fcd8-4fd7-8fe1-5370bbb65ff0",
   "metadata": {},
   "outputs": [],
   "source": [
    "def array_accessor_number(A):\n",
    "    number = np.random.randint(0,len(A))\n",
    "    for i in A:\n",
    "        if i==number:\n",
    "            return number\n",
    "        else:\n",
    "            return -1"
   ]
  },
  {
   "cell_type": "code",
   "execution_count": 36,
   "id": "aa32576c-a601-4ee0-837b-7b1744e67cc1",
   "metadata": {},
   "outputs": [
    {
     "name": "stdout",
     "output_type": "stream",
     "text": [
      "954 ns ± 10.1 ns per loop (mean ± std. dev. of 7 runs, 1,000,000 loops each)\n"
     ]
    }
   ],
   "source": [
    "%timeit array_accessor_number(access_array)"
   ]
  },
  {
   "cell_type": "markdown",
   "id": "a6da4c7d-bb5a-4acf-a059-003881673e22",
   "metadata": {},
   "source": [
    "Or if we want to access a random index"
   ]
  },
  {
   "cell_type": "code",
   "execution_count": 37,
   "id": "e9bc537e-9557-4f0c-98e6-49aa85863ed3",
   "metadata": {},
   "outputs": [],
   "source": [
    "def array_accessor_index(A):\n",
    "    index = np.random.randint(0,len(A))\n",
    "    return A[index]"
   ]
  },
  {
   "cell_type": "code",
   "execution_count": 38,
   "id": "eafed3ca-f4ad-488b-8ab6-a8462d02b4dd",
   "metadata": {},
   "outputs": [
    {
     "name": "stdout",
     "output_type": "stream",
     "text": [
      "935 ns ± 18.6 ns per loop (mean ± std. dev. of 7 runs, 1,000,000 loops each)\n"
     ]
    }
   ],
   "source": [
    "%timeit array_accessor_index(access_array)"
   ]
  },
  {
   "cell_type": "markdown",
   "id": "bb4a0438-7122-4bfa-9c0f-f49ede7e724c",
   "metadata": {},
   "source": [
    "## Access an element in a stack"
   ]
  },
  {
   "cell_type": "markdown",
   "id": "d269227e-0ed8-4700-82a9-da78127448ec",
   "metadata": {},
   "source": [
    "For a stack, elements on top need to be removed in order to access it"
   ]
  },
  {
   "cell_type": "code",
   "execution_count": 39,
   "id": "aedca1cd-c122-4fb5-8e19-4f0725a31d59",
   "metadata": {},
   "outputs": [],
   "source": [
    "def stack_accessor(A):\n",
    "    temp = stack()\n",
    "    temp.items = A.items.copy()\n",
    "\n",
    "    number = np.random.randint(0, temp.size())\n",
    "    for i in range(temp.size()):\n",
    "        if temp.peek()==number:\n",
    "            return number\n",
    "        else:\n",
    "            temp.pop()\n",
    "    return -1"
   ]
  },
  {
   "cell_type": "code",
   "execution_count": 40,
   "id": "3cd756f0-7136-41be-ba94-64023948355e",
   "metadata": {},
   "outputs": [
    {
     "name": "stdout",
     "output_type": "stream",
     "text": [
      "54.8 ms ± 9.82 ms per loop (mean ± std. dev. of 7 runs, 10 loops each)\n"
     ]
    }
   ],
   "source": [
    "%timeit stack_accessor(access_stack)"
   ]
  },
  {
   "cell_type": "markdown",
   "id": "857c24fd-5a7f-4754-b2a4-9717e142497d",
   "metadata": {},
   "source": [
    "Thus, the stack may not be the most efficient for accessing elements that are not the top element"
   ]
  },
  {
   "cell_type": "markdown",
   "id": "1d888cc6-cc33-4f0c-ad41-4ac8a6868a2c",
   "metadata": {},
   "source": [
    "# Using a singly linked list to make a stack"
   ]
  },
  {
   "cell_type": "markdown",
   "id": "9e621be9-be3a-448a-92fd-a93453e531bc",
   "metadata": {},
   "source": [
    "First, we need to set up the basic infrastructure for a singly linked list"
   ]
  },
  {
   "cell_type": "code",
   "execution_count": 41,
   "id": "a9a68e10-f615-45d1-b58b-a91c862180a5",
   "metadata": {},
   "outputs": [],
   "source": [
    "class SNode:\n",
    "    def __init__(self, elem=None, next=None):\n",
    "        self.elem = elem\n",
    "        self.next = next\n",
    "\n",
    "class SList:\n",
    "    def __init__(self, head=None):\n",
    "        self.head = head"
   ]
  },
  {
   "cell_type": "markdown",
   "id": "466decf7-f8fb-4dae-8894-d99f9da3896e",
   "metadata": {},
   "source": [
    "Then, we set up the necessary operations needed for a stack"
   ]
  },
  {
   "cell_type": "code",
   "execution_count": 42,
   "id": "a6367802-7c52-4582-8f90-12456cf37505",
   "metadata": {},
   "outputs": [],
   "source": [
    "class linked_stack:\n",
    "    def __init__(self):\n",
    "        self.list = SList()\n",
    "        self.count = 0\n",
    "\n",
    "    def isEmpty(self):\n",
    "        return self.count==0\n",
    "\n",
    "    def push(self, item):\n",
    "        # Initialise the new node with the specified item and the next pointer to the head of the list\n",
    "        newnode = SNode(item, self.list.head)\n",
    "        # Designate the new node as the new header\n",
    "        self.list.head = newnode\n",
    "        # Add one to the count\n",
    "        self.count += 1\n",
    "\n",
    "    def pop(self):\n",
    "        # If list empty, return an error\n",
    "        if self.count==0:\n",
    "            raise Exception(\"Cannot pop from an empty stack\")\n",
    "        # Temporarily store the element of the popped node\n",
    "        temp = self.list.head.elem\n",
    "        # Shift the header pointer to the next element\n",
    "        self.list.head = self.list.head.next\n",
    "        # Decrease the count\n",
    "        self.count -= 1\n",
    "        # Return the popped element\n",
    "        return temp\n",
    "\n",
    "    def peek(self):\n",
    "        if self.isEmpty():\n",
    "            return \"Empty\"\n",
    "        else:\n",
    "            return self.list.head.elem\n",
    "\n",
    "    def size(self):\n",
    "        return self.count"
   ]
  },
  {
   "cell_type": "code",
   "execution_count": 43,
   "id": "f1f8a9fb-c249-40ab-8cdf-49269c892880",
   "metadata": {},
   "outputs": [
    {
     "data": {
      "text/plain": [
       "1"
      ]
     },
     "execution_count": 43,
     "metadata": {},
     "output_type": "execute_result"
    }
   ],
   "source": [
    "linky_stack = linked_stack()\n",
    "linky_stack.push(3)\n",
    "linky_stack.push(7)\n",
    "linky_stack.push(1)\n",
    "linky_stack.peek()"
   ]
  },
  {
   "cell_type": "code",
   "execution_count": 44,
   "id": "c8ac23e4-be39-4519-b842-ea2c531e5e7e",
   "metadata": {},
   "outputs": [
    {
     "data": {
      "text/plain": [
       "3"
      ]
     },
     "execution_count": 44,
     "metadata": {},
     "output_type": "execute_result"
    }
   ],
   "source": [
    "linky_stack.size()"
   ]
  },
  {
   "cell_type": "code",
   "execution_count": 45,
   "id": "57801ce0-7aa2-4154-91b7-8a77b8d309cc",
   "metadata": {},
   "outputs": [
    {
     "data": {
      "text/plain": [
       "1"
      ]
     },
     "execution_count": 45,
     "metadata": {},
     "output_type": "execute_result"
    }
   ],
   "source": [
    "linky_stack.pop()"
   ]
  },
  {
   "cell_type": "code",
   "execution_count": 46,
   "id": "7deba70f-16b2-4ba0-89e2-a215bccb99c7",
   "metadata": {},
   "outputs": [
    {
     "data": {
      "text/plain": [
       "7"
      ]
     },
     "execution_count": 46,
     "metadata": {},
     "output_type": "execute_result"
    }
   ],
   "source": [
    "linky_stack.peek()"
   ]
  },
  {
   "cell_type": "markdown",
   "id": "ba46f203-7a9c-4fc7-9795-a3a796636d13",
   "metadata": {},
   "source": [
    "# Comparing this Data structures to the list-based stack"
   ]
  },
  {
   "cell_type": "code",
   "execution_count": 47,
   "id": "80a52135-aa5c-4232-9b35-e341b0fcd3d0",
   "metadata": {},
   "outputs": [],
   "source": [
    "def list_pusher(n):\n",
    "    list_stack = stack()\n",
    "    for i in range(n):\n",
    "        list_stack.push(i)\n",
    "    return list_stack"
   ]
  },
  {
   "cell_type": "code",
   "execution_count": 48,
   "id": "8208b4aa-3c95-4d03-bcf4-e2cb69e11f85",
   "metadata": {},
   "outputs": [
    {
     "name": "stdout",
     "output_type": "stream",
     "text": [
      "3.67 ms ± 110 μs per loop (mean ± std. dev. of 7 runs, 100 loops each)\n"
     ]
    }
   ],
   "source": [
    "%timeit list_pusher(100_000)"
   ]
  },
  {
   "cell_type": "code",
   "execution_count": 49,
   "id": "d96f3a33-8a5e-465f-af01-0365b57d6c1a",
   "metadata": {},
   "outputs": [],
   "source": [
    "def linky_pusher(n):\n",
    "    linky_stack = linked_stack()\n",
    "    for i in range(n):\n",
    "        linky_stack.push(i)\n",
    "    return linky_stack"
   ]
  },
  {
   "cell_type": "code",
   "execution_count": 50,
   "id": "8f0b4f6a-11bc-4107-99c9-462e371f9359",
   "metadata": {},
   "outputs": [
    {
     "name": "stdout",
     "output_type": "stream",
     "text": [
      "14.2 ms ± 292 μs per loop (mean ± std. dev. of 7 runs, 100 loops each)\n"
     ]
    }
   ],
   "source": [
    "%timeit linky_pusher(100_000)"
   ]
  },
  {
   "cell_type": "markdown",
   "id": "d1cf8e71-fb73-40eb-96f9-96d388ba9309",
   "metadata": {},
   "source": [
    "Thus, it seems like python's built-in list is still faster"
   ]
  },
  {
   "cell_type": "code",
   "execution_count": 51,
   "id": "3f4b55b9-03e9-4060-ad28-f6fbba80dfe0",
   "metadata": {},
   "outputs": [],
   "source": [
    "del_stack = list_pusher(100_000)\n",
    "del_linky_stack = linky_pusher(100_000)"
   ]
  },
  {
   "cell_type": "code",
   "execution_count": 52,
   "id": "8133039b-c6fe-4eff-a152-d78123fa83f0",
   "metadata": {},
   "outputs": [],
   "source": [
    "def list_popper(A):\n",
    "    temp = stack()\n",
    "    temp.items = A.items.copy()\n",
    "    for i in range(A.size()):\n",
    "        temp.pop()"
   ]
  },
  {
   "cell_type": "code",
   "execution_count": 53,
   "id": "e9ecce11-9d35-4353-8790-a0bd831ff5ff",
   "metadata": {},
   "outputs": [
    {
     "name": "stdout",
     "output_type": "stream",
     "text": [
      "5.1 ms ± 66.4 μs per loop (mean ± std. dev. of 7 runs, 100 loops each)\n"
     ]
    }
   ],
   "source": [
    "%timeit list_popper(del_stack)"
   ]
  },
  {
   "cell_type": "code",
   "execution_count": 54,
   "id": "1bdb649c-fc2c-4da6-8593-e1b9ab5c8a1c",
   "metadata": {},
   "outputs": [],
   "source": [
    "def linky_popper(A):\n",
    "    temp = linked_stack()\n",
    "    temp.list.head = A.list.head\n",
    "    temp.count = A.count\n",
    "    for i in range(A.size()):\n",
    "        temp.pop()\n",
    "    return temp"
   ]
  },
  {
   "cell_type": "code",
   "execution_count": 55,
   "id": "2cd64539-229e-4096-8c90-21d26f253cf0",
   "metadata": {},
   "outputs": [
    {
     "name": "stdout",
     "output_type": "stream",
     "text": [
      "6.87 ms ± 50.3 μs per loop (mean ± std. dev. of 7 runs, 100 loops each)\n"
     ]
    }
   ],
   "source": [
    "%timeit linky_popper(del_linky_stack)"
   ]
  },
  {
   "cell_type": "markdown",
   "id": "91fe80e6-1384-432f-b151-28b5ef6db075",
   "metadata": {},
   "source": [
    "Interestingly, the list is still faster than the linked list, but not by much this time"
   ]
  },
  {
   "cell_type": "code",
   "execution_count": null,
   "id": "a68a27c1-9d2e-40f0-820f-9a6c509eeddb",
   "metadata": {},
   "outputs": [],
   "source": []
  }
 ],
 "metadata": {
  "kernelspec": {
   "display_name": "Python 3 (ipykernel)",
   "language": "python",
   "name": "python3"
  },
  "language_info": {
   "codemirror_mode": {
    "name": "ipython",
    "version": 3
   },
   "file_extension": ".py",
   "mimetype": "text/x-python",
   "name": "python",
   "nbconvert_exporter": "python",
   "pygments_lexer": "ipython3",
   "version": "3.11.5"
  }
 },
 "nbformat": 4,
 "nbformat_minor": 5
}
