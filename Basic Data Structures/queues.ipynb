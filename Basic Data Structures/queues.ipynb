{
 "cells": [
  {
   "cell_type": "code",
   "execution_count": 1,
   "id": "a451db7f-99f6-4c9a-aa93-bcfad9329b5e",
   "metadata": {},
   "outputs": [],
   "source": [
    "from collections import deque\n",
    "import numpy as np"
   ]
  },
  {
   "cell_type": "code",
   "execution_count": 2,
   "id": "ad2ae072-da8c-4784-87f8-723a5c21c932",
   "metadata": {},
   "outputs": [
    {
     "data": {
      "text/plain": [
       "deque([1, 4, 6])"
      ]
     },
     "execution_count": 2,
     "metadata": {},
     "output_type": "execute_result"
    }
   ],
   "source": [
    "myqueue = deque([1,4,6])\n",
    "myqueue"
   ]
  },
  {
   "cell_type": "code",
   "execution_count": 3,
   "id": "607d8940-0b2a-4388-be50-4f417c5e11ca",
   "metadata": {},
   "outputs": [],
   "source": [
    "myqueue.append(7)"
   ]
  },
  {
   "cell_type": "code",
   "execution_count": 4,
   "id": "015a6720-78d4-4524-b1fa-9e6da16a5f0d",
   "metadata": {},
   "outputs": [
    {
     "data": {
      "text/plain": [
       "deque([1, 4, 6, 7])"
      ]
     },
     "execution_count": 4,
     "metadata": {},
     "output_type": "execute_result"
    }
   ],
   "source": [
    "myqueue"
   ]
  },
  {
   "cell_type": "code",
   "execution_count": 5,
   "id": "1e4370d7-f129-4df7-803c-28bb357ae4c9",
   "metadata": {},
   "outputs": [
    {
     "data": {
      "text/plain": [
       "1"
      ]
     },
     "execution_count": 5,
     "metadata": {},
     "output_type": "execute_result"
    }
   ],
   "source": [
    "myqueue.popleft()"
   ]
  },
  {
   "cell_type": "code",
   "execution_count": 6,
   "id": "93e63d84-5d67-41a6-9245-dfc546229705",
   "metadata": {},
   "outputs": [
    {
     "data": {
      "text/plain": [
       "deque([4, 6, 7])"
      ]
     },
     "execution_count": 6,
     "metadata": {},
     "output_type": "execute_result"
    }
   ],
   "source": [
    "myqueue"
   ]
  },
  {
   "cell_type": "markdown",
   "id": "31a99c52-8646-447b-969f-1b3890858b1c",
   "metadata": {},
   "source": [
    "# Testing the speed of Data Structures"
   ]
  },
  {
   "cell_type": "markdown",
   "id": "5dcc2739-959f-4055-b42a-f331f03c1d7b",
   "metadata": {},
   "source": [
    "## Appending should be the same"
   ]
  },
  {
   "cell_type": "markdown",
   "id": "976f0ca9-5c7f-4976-9bfe-087268fc51aa",
   "metadata": {},
   "source": [
    "Since it is a FIFO regime, we can append the lists and arrays normally"
   ]
  },
  {
   "cell_type": "code",
   "execution_count": 7,
   "id": "e8173d73-a09e-4a31-9b26-eb95cbbf3288",
   "metadata": {},
   "outputs": [],
   "source": [
    "def list_appender(n):\n",
    "    mylist = []\n",
    "    for i in range(n):\n",
    "        mylist.append(i)"
   ]
  },
  {
   "cell_type": "code",
   "execution_count": 8,
   "id": "1f3c1e93-55aa-4a84-a4e4-c9de0234cdd2",
   "metadata": {},
   "outputs": [
    {
     "name": "stdout",
     "output_type": "stream",
     "text": [
      "1.61 ms ± 66.3 μs per loop (mean ± std. dev. of 7 runs, 1,000 loops each)\n"
     ]
    }
   ],
   "source": [
    "%timeit list_appender(100_000)"
   ]
  },
  {
   "cell_type": "code",
   "execution_count": 9,
   "id": "179f93bc-a13d-4448-a188-e4a4ea4b7fdb",
   "metadata": {},
   "outputs": [],
   "source": [
    "def array_appender(n):\n",
    "    myarray = np.array([])\n",
    "    for i in range(n):\n",
    "        myarray = np.append(myarray, i)"
   ]
  },
  {
   "cell_type": "code",
   "execution_count": 10,
   "id": "554b26d7-e51b-44af-a5cd-bda14fd2951e",
   "metadata": {},
   "outputs": [
    {
     "name": "stdout",
     "output_type": "stream",
     "text": [
      "1.56 s ± 412 ms per loop (mean ± std. dev. of 7 runs, 1 loop each)\n"
     ]
    }
   ],
   "source": [
    "%timeit array_appender(100_000)"
   ]
  },
  {
   "cell_type": "code",
   "execution_count": 11,
   "id": "75813117-c221-4446-9916-2c6f04e940b6",
   "metadata": {},
   "outputs": [],
   "source": [
    "def queue_appender(n):\n",
    "    myqueue = deque([])\n",
    "    for i in range(n):\n",
    "        myqueue.append(i)"
   ]
  },
  {
   "cell_type": "code",
   "execution_count": 12,
   "id": "118689e6-542e-457d-88cd-cc517aaf806f",
   "metadata": {},
   "outputs": [
    {
     "name": "stdout",
     "output_type": "stream",
     "text": [
      "2.1 ms ± 8.78 μs per loop (mean ± std. dev. of 7 runs, 100 loops each)\n"
     ]
    }
   ],
   "source": [
    "%timeit queue_appender(100_000)"
   ]
  },
  {
   "cell_type": "markdown",
   "id": "089a2fe1-91e2-4775-90d7-9bcd22587d25",
   "metadata": {},
   "source": [
    "Looks like the queue and the list are comparable in terms of speed. numpy arrays take the longest"
   ]
  },
  {
   "cell_type": "markdown",
   "id": "88660fb6-974f-44d8-804e-e8aba100e862",
   "metadata": {},
   "source": [
    "## Deleting elements"
   ]
  },
  {
   "cell_type": "markdown",
   "id": "9283826e-53c9-441f-8819-226cdfa78dc4",
   "metadata": {},
   "source": [
    "First we need to make the data structures"
   ]
  },
  {
   "cell_type": "code",
   "execution_count": 13,
   "id": "058efc83-14c3-460c-a91b-7a35256a5337",
   "metadata": {},
   "outputs": [
    {
     "data": {
      "text/plain": [
       "array([    0,     1,     2, ..., 99997, 99998, 99999], shape=(100000,))"
      ]
     },
     "execution_count": 13,
     "metadata": {},
     "output_type": "execute_result"
    }
   ],
   "source": [
    "# Creating the data structures\n",
    "del_list = []\n",
    "for i in range(1_000_00):\n",
    "    del_list.append(i)\n",
    "del_array = np.array(del_list)\n",
    "del_array"
   ]
  },
  {
   "cell_type": "code",
   "execution_count": 14,
   "id": "c70ce2fb-6154-4a08-a79f-fbb71d983c48",
   "metadata": {},
   "outputs": [],
   "source": [
    "del_queue = deque(del_list)"
   ]
  },
  {
   "cell_type": "code",
   "execution_count": 15,
   "id": "25558368-8354-4ad2-91e2-86af51804fdf",
   "metadata": {},
   "outputs": [],
   "source": [
    "def list_deleter(A):\n",
    "    temp = A.copy()\n",
    "    for i in range(len(temp)):\n",
    "        temp.pop(0)"
   ]
  },
  {
   "cell_type": "code",
   "execution_count": 16,
   "id": "8b92ac39-ecaa-4c93-9551-96ca1fde862f",
   "metadata": {},
   "outputs": [
    {
     "name": "stdout",
     "output_type": "stream",
     "text": [
      "768 ms ± 5.4 ms per loop (mean ± std. dev. of 7 runs, 1 loop each)\n"
     ]
    }
   ],
   "source": [
    "%timeit list_deleter(del_list)"
   ]
  },
  {
   "cell_type": "code",
   "execution_count": 17,
   "id": "c912c7c9-6cfd-4623-96ed-64747c11155a",
   "metadata": {},
   "outputs": [],
   "source": [
    "def array_deleter(A):\n",
    "    for i in range(len(A)):\n",
    "        A = np.delete(A,0)\n",
    "    return A"
   ]
  },
  {
   "cell_type": "code",
   "execution_count": 18,
   "id": "3eb36683-d58d-40b7-8cab-e4760ed564e4",
   "metadata": {},
   "outputs": [
    {
     "name": "stdout",
     "output_type": "stream",
     "text": [
      "1.21 s ± 225 ms per loop (mean ± std. dev. of 7 runs, 1 loop each)\n"
     ]
    }
   ],
   "source": [
    "%timeit array_deleter(del_array)"
   ]
  },
  {
   "cell_type": "code",
   "execution_count": 19,
   "id": "11641abd-948e-4432-8c26-610914481cd5",
   "metadata": {},
   "outputs": [],
   "source": [
    "def dequeuer(A):\n",
    "    temp = A.copy()\n",
    "    for i in range(len(temp)):\n",
    "        temp.popleft()"
   ]
  },
  {
   "cell_type": "code",
   "execution_count": 20,
   "id": "218431e3-e24f-4c0c-bf0e-676ad37beafa",
   "metadata": {},
   "outputs": [
    {
     "name": "stdout",
     "output_type": "stream",
     "text": [
      "2.02 ms ± 24.7 μs per loop (mean ± std. dev. of 7 runs, 1,000 loops each)\n"
     ]
    }
   ],
   "source": [
    "%timeit dequeuer(del_queue)"
   ]
  },
  {
   "cell_type": "markdown",
   "id": "625168bb-705b-415b-b457-792f10626636",
   "metadata": {},
   "source": [
    "Thus, a queue has the benefit of efficiently deleting from the front of the list, while being as efficient in adding from the back. Hence, it is ideal for a FIFO system, and is faster than the list and array data structures"
   ]
  },
  {
   "cell_type": "code",
   "execution_count": null,
   "id": "6f7a1e95-3973-47c3-9311-5de22cae8727",
   "metadata": {},
   "outputs": [],
   "source": []
  }
 ],
 "metadata": {
  "kernelspec": {
   "display_name": "Python 3 (ipykernel)",
   "language": "python",
   "name": "python3"
  },
  "language_info": {
   "codemirror_mode": {
    "name": "ipython",
    "version": 3
   },
   "file_extension": ".py",
   "mimetype": "text/x-python",
   "name": "python",
   "nbconvert_exporter": "python",
   "pygments_lexer": "ipython3",
   "version": "3.11.5"
  }
 },
 "nbformat": 4,
 "nbformat_minor": 5
}
