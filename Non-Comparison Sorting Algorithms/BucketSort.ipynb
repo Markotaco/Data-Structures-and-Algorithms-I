{
 "cells": [
  {
   "cell_type": "markdown",
   "id": "c533319d-9fa3-4524-9cd0-833a97af03e6",
   "metadata": {},
   "source": [
    "# BucketSort"
   ]
  },
  {
   "cell_type": "markdown",
   "id": "72b4082c-bc14-44ae-815b-e94f20a34e77",
   "metadata": {},
   "source": [
    "BucketSort works by splitting up the elements into ordered buckets. The elements are then sorted within their buckets, before the buckets' output are concantenated. This sort works best when the input data is uniformly distributed across the range. If the sorting algorithm within buckets is O(n), then the whole algorithm will be O($n^2$)"
   ]
  },
  {
   "cell_type": "code",
   "execution_count": 1,
   "id": "a287f47b-d048-4709-9a94-9af30dcbdc2e",
   "metadata": {},
   "outputs": [],
   "source": [
    "import numpy as np"
   ]
  },
  {
   "cell_type": "markdown",
   "id": "689d1c50-7fa9-4489-94f2-aa49d989624d",
   "metadata": {},
   "source": [
    "# Linked List functionality"
   ]
  },
  {
   "cell_type": "markdown",
   "id": "6465bfaf-168e-4e49-9a44-7669a4cbccd0",
   "metadata": {},
   "source": [
    "To implement this sort we use a linked list for each bucket. The below implements the necessary functionality"
   ]
  },
  {
   "cell_type": "code",
   "execution_count": 2,
   "id": "f916f611-c9dd-44a9-8569-9d0319f4cb56",
   "metadata": {},
   "outputs": [],
   "source": [
    "class LNode:\n",
    "    def __init__(self, elem=None, next=None):\n",
    "        self.elem=elem\n",
    "        self.next=next\n",
    "\n",
    "class LList:\n",
    "    def __init__(self, elem):\n",
    "        first = LNode(elem)\n",
    "        self.head=first\n",
    "        self.count=1\n",
    "    \n",
    "    # Functionality to print list        \n",
    "    def print(self):\n",
    "        currentnode = self.head\n",
    "        for i in range(self.count):\n",
    "            print(currentnode.elem)\n",
    "            currentnode = currentnode.next\n",
    "    \n",
    "    # Functionality for adding a element into the list in a sorted fashion\n",
    "    def append_sorted(self, newdata):\n",
    "        # Creating new node\n",
    "        newnode = LNode(newdata)\n",
    "        # Creating pointer for current node and previous node\n",
    "        currentnode = self.head\n",
    "        prevnode = self.head\n",
    "        # Counter for front of list detection\n",
    "        moves = 0\n",
    "        # Until the element to be added is smaller or equal than the current node, keep going to the next\n",
    "        while newnode.elem>currentnode.elem:\n",
    "            prevnode = currentnode\n",
    "            currentnode = currentnode.next\n",
    "            moves += 1\n",
    "            # If at the end of the list, break\n",
    "            if currentnode==None:\n",
    "                break\n",
    "        # In the case we are adding to the front of the list\n",
    "        if moves==0:\n",
    "            newnode.next = currentnode\n",
    "            self.head = newnode\n",
    "            \n",
    "        # In all other cases\n",
    "        else:\n",
    "            # Once at the node where this node is smaller or equal to (node_i), stitch the previous pointer to newnode and \n",
    "            # point newnode to node_i\n",
    "            prevnode.next = newnode\n",
    "            newnode.next = currentnode\n",
    "            \n",
    "        self.count += 1\n",
    "\n",
    "    # Functionality for deleting elements from the left\n",
    "    def popleft(self):\n",
    "        if self.count==0:\n",
    "            raise Exception(\"Cannot pop from empty list\")\n",
    "        else:\n",
    "            popped = self.head.elem\n",
    "            self.head = self.head.next\n",
    "            self.count -=1\n",
    "        return popped\n",
    "        "
   ]
  },
  {
   "cell_type": "code",
   "execution_count": 3,
   "id": "ac6c2acc-bd6c-4214-87cd-74f370a862c6",
   "metadata": {},
   "outputs": [],
   "source": [
    "linky = LList(7)"
   ]
  },
  {
   "cell_type": "code",
   "execution_count": 4,
   "id": "04857400-501a-48d6-8ede-b502dc5a548e",
   "metadata": {},
   "outputs": [],
   "source": [
    "linky.append_sorted(10)"
   ]
  },
  {
   "cell_type": "code",
   "execution_count": 5,
   "id": "a260486c-8dc3-490d-b867-1d2cbf192ac1",
   "metadata": {},
   "outputs": [
    {
     "name": "stdout",
     "output_type": "stream",
     "text": [
      "7\n",
      "10\n"
     ]
    }
   ],
   "source": [
    "linky.print()"
   ]
  },
  {
   "cell_type": "code",
   "execution_count": 6,
   "id": "f8ae5cf7-70a5-4568-a443-d6ae5ed3304b",
   "metadata": {},
   "outputs": [
    {
     "data": {
      "text/plain": [
       "2"
      ]
     },
     "execution_count": 6,
     "metadata": {},
     "output_type": "execute_result"
    }
   ],
   "source": [
    "linky.count"
   ]
  },
  {
   "cell_type": "markdown",
   "id": "e3c35f47-b01c-4776-94cb-41fc2ec8c3c1",
   "metadata": {},
   "source": [
    "# Generating a list of random numbers"
   ]
  },
  {
   "cell_type": "code",
   "execution_count": 110,
   "id": "19457d4a-c1c0-4bef-b29b-88888827bab2",
   "metadata": {},
   "outputs": [
    {
     "name": "stdout",
     "output_type": "stream",
     "text": [
      "[26, 10, 54, 76, 62, 16, 15, 59, 98, 79]\n"
     ]
    }
   ],
   "source": [
    "np.random.seed(122)\n",
    "n = 10\n",
    "high = 100\n",
    "randseq = np.random.randint(0, high+1, n).tolist()\n",
    "print(randseq)"
   ]
  },
  {
   "cell_type": "markdown",
   "id": "05db9307-0157-4973-bc86-92183ffb5864",
   "metadata": {},
   "source": [
    "# Step 1: Determining the buckets"
   ]
  },
  {
   "cell_type": "markdown",
   "id": "4775e154-969e-4f96-b454-5f81a3e1311e",
   "metadata": {},
   "source": [
    "The buckets' width will be determined by the following simple formula: $$\\dfrac{max-min}{k}$$ where k is the inputted number of buckets"
   ]
  },
  {
   "cell_type": "code",
   "execution_count": 111,
   "id": "9fea7df2-7efd-449a-9e83-fddb61db04b2",
   "metadata": {},
   "outputs": [
    {
     "data": {
      "text/plain": [
       "8.8"
      ]
     },
     "execution_count": 111,
     "metadata": {},
     "output_type": "execute_result"
    }
   ],
   "source": [
    "k = 10\n",
    "# Storing the maximum and minimum of the sequence\n",
    "max_val = max(randseq)\n",
    "min_val = min(randseq)\n",
    "bucket_det = (max_val-min_val)/k\n",
    "bucket_det"
   ]
  },
  {
   "cell_type": "markdown",
   "id": "062f9da6-1966-4c8f-bb57-7568f463272e",
   "metadata": {},
   "source": [
    "The bucket table can then be generated based on k"
   ]
  },
  {
   "cell_type": "code",
   "execution_count": 101,
   "id": "9a86c3fa-593b-403a-97fe-e8782ca071fd",
   "metadata": {},
   "outputs": [],
   "source": [
    "buckets = {i:None for i in range(k+1)}"
   ]
  },
  {
   "cell_type": "code",
   "execution_count": 102,
   "id": "ea0f6df8-9325-41b9-b926-576fd5d27897",
   "metadata": {},
   "outputs": [
    {
     "name": "stdout",
     "output_type": "stream",
     "text": [
      "{0: None, 1: None, 2: None, 3: None, 4: None, 5: None, 6: None, 7: None, 8: None, 9: None, 10: None}\n"
     ]
    }
   ],
   "source": [
    "print(buckets)"
   ]
  },
  {
   "cell_type": "markdown",
   "id": "4766aada-a57c-41f0-8ca6-b12f6c547d5d",
   "metadata": {},
   "source": [
    "# Step 2: Adding elements to their designated buckets"
   ]
  },
  {
   "cell_type": "markdown",
   "id": "c3bd6075-f09b-4b6c-87ba-51fbb6da6db4",
   "metadata": {},
   "source": [
    "We want the first value to be in bucket 0, and the last value to be in bucket 10. We therefore use the following bucketing function to decide which elements go into which buckets: $$\\dfrac{element-min}{bucket det}$$"
   ]
  },
  {
   "cell_type": "code",
   "execution_count": 128,
   "id": "20f0c890-64cf-4a4c-88f2-d029ab27b8d2",
   "metadata": {},
   "outputs": [],
   "source": [
    "# for each element in the sequence\n",
    "for element in randseq:\n",
    "    hash = int((element-min_val)/bucket_det)\n",
    "    # if the hash index's bucket is currently empty, create a new linked list\n",
    "    if buckets[hash]==None:\n",
    "        buckets[hash] = LList(element)\n",
    "    # Else, add and sort\n",
    "    else:\n",
    "        buckets[hash].append_sorted(element)"
   ]
  },
  {
   "cell_type": "code",
   "execution_count": 129,
   "id": "53bc8e62-2160-4b7b-b030-2227f5f02b3d",
   "metadata": {},
   "outputs": [
    {
     "data": {
      "text/plain": [
       "{0: <__main__.LList at 0x1077c4f50>,\n",
       " 1: <__main__.LList at 0x1077e9cd0>,\n",
       " 2: None,\n",
       " 3: None,\n",
       " 4: None,\n",
       " 5: <__main__.LList at 0x1077c4810>,\n",
       " 6: None,\n",
       " 7: <__main__.LList at 0x1077d49d0>,\n",
       " 8: None,\n",
       " 9: None,\n",
       " 10: <__main__.LList at 0x1077d51d0>}"
      ]
     },
     "execution_count": 129,
     "metadata": {},
     "output_type": "execute_result"
    }
   ],
   "source": [
    "buckets"
   ]
  },
  {
   "cell_type": "code",
   "execution_count": 135,
   "id": "9374583e-0ad8-4f96-b977-e1ad633a4df6",
   "metadata": {},
   "outputs": [
    {
     "name": "stdout",
     "output_type": "stream",
     "text": [
      "54\n",
      "59\n",
      "62\n"
     ]
    }
   ],
   "source": [
    "buckets[5].print()"
   ]
  },
  {
   "cell_type": "markdown",
   "id": "3362ebb5-5dd6-4b79-bae6-bd3006d90ad8",
   "metadata": {},
   "source": [
    "# Step 3: Concatonating the outputs"
   ]
  },
  {
   "cell_type": "code",
   "execution_count": 136,
   "id": "db344ab6-26e4-4ba7-97e3-3e72b48eceba",
   "metadata": {},
   "outputs": [],
   "source": [
    "sorted_array = []\n",
    "# For each bucket\n",
    "for i in buckets:\n",
    "    # If the bucket is empty, go to the next iteration\n",
    "    if buckets[i]==None:\n",
    "        continue\n",
    "    # Empty the bucket into the new array\n",
    "    while buckets[i].count!=0:\n",
    "        sorted_array.append(buckets[i].popleft())"
   ]
  },
  {
   "cell_type": "code",
   "execution_count": 137,
   "id": "1a5c3a6d-8ab2-47c3-88da-27bcc5d4f480",
   "metadata": {},
   "outputs": [
    {
     "data": {
      "text/plain": [
       "[10, 15, 16, 26, 54, 59, 62, 76, 79, 98]"
      ]
     },
     "execution_count": 137,
     "metadata": {},
     "output_type": "execute_result"
    }
   ],
   "source": [
    "sorted_array"
   ]
  },
  {
   "cell_type": "markdown",
   "id": "648ed1b1-ad8a-44b9-b2a5-90c241fb40f0",
   "metadata": {},
   "source": [
    "# Putting everything together"
   ]
  },
  {
   "cell_type": "code",
   "execution_count": 138,
   "id": "1da44083-5434-4685-aac2-3efda50a9e19",
   "metadata": {},
   "outputs": [
    {
     "name": "stdout",
     "output_type": "stream",
     "text": [
      "[66, 92, 98, 17, 83, 57, 86, 97, 96, 47, 73, 32, 46, 96, 25, 83, 78, 36, 96, 80, 68, 49, 55, 67, 2, 84, 39, 66, 84, 47, 61, 48, 7, 99, 92, 52, 97, 85, 94, 27, 34, 97, 76, 40, 3, 69, 64, 75, 34, 58, 10, 22, 77, 18, 100, 15, 27, 30, 52, 70, 26, 80, 6, 14, 75, 54, 71, 1, 43, 58, 55, 25, 50, 84, 56, 49, 12, 18, 81, 1, 51, 44, 48, 56, 91, 49, 86, 3, 67, 11, 21, 89, 98, 3, 11, 3, 94, 6, 9, 87]\n"
     ]
    }
   ],
   "source": [
    "np.random.seed(123)\n",
    "n = 100\n",
    "high = 100\n",
    "randseq = np.random.randint(0, high+1, n).tolist()\n",
    "print(randseq)"
   ]
  },
  {
   "cell_type": "code",
   "execution_count": 141,
   "id": "b9583cd7-25e6-4d22-ae04-d1c5e540326b",
   "metadata": {},
   "outputs": [],
   "source": [
    "def BucketSort(seq, k):\n",
    "    # Getting the required max and min information. Note that these in Python are O(n)\n",
    "    max_val = max(seq)\n",
    "    min_val = min(seq)\n",
    "    # Determining bucket width\n",
    "    bucket_det = (max_val-min_val)/k\n",
    "\n",
    "    # Generating buckets\n",
    "    buckets = {i:None for i in range(k+1)}\n",
    "\n",
    "    # Filling buckets\n",
    "    # for each element in the sequence\n",
    "    for element in seq:\n",
    "        hash = int((element-min_val)/bucket_det)\n",
    "        # if the hash index's bucket is currently empty, create a new linked list\n",
    "        if buckets[hash]==None:\n",
    "            buckets[hash] = LList(element)\n",
    "        # Else, add and sort\n",
    "        else:\n",
    "            buckets[hash].append_sorted(element)\n",
    "\n",
    "    # Filling a new array with the sorted elements\n",
    "    sorted_array = []\n",
    "    # For each bucket\n",
    "    for i in buckets:\n",
    "        # If the bucket is empty, go to the next iteration\n",
    "        if buckets[i]==None:\n",
    "            continue\n",
    "        # Empty the bucket into the new array\n",
    "        while buckets[i].count!=0:\n",
    "            sorted_array.append(buckets[i].popleft())\n",
    "\n",
    "    return sorted_array"
   ]
  },
  {
   "cell_type": "code",
   "execution_count": 142,
   "id": "fa65c266-eb0c-4311-95f1-276a607eecb2",
   "metadata": {},
   "outputs": [
    {
     "name": "stdout",
     "output_type": "stream",
     "text": [
      "[1, 1, 2, 3, 3, 3, 3, 6, 6, 7, 9, 10, 11, 11, 12, 14, 15, 17, 18, 18, 21, 22, 25, 25, 26, 27, 27, 30, 32, 34, 34, 36, 39, 40, 43, 44, 46, 47, 47, 48, 48, 49, 49, 49, 50, 51, 52, 52, 54, 55, 55, 56, 56, 57, 58, 58, 61, 64, 66, 66, 67, 67, 68, 69, 70, 71, 73, 75, 75, 76, 77, 78, 80, 80, 81, 83, 83, 84, 84, 84, 85, 86, 86, 87, 89, 91, 92, 92, 94, 94, 96, 96, 96, 97, 97, 97, 98, 98, 99, 100]\n"
     ]
    }
   ],
   "source": [
    "print(BucketSort(randseq, 10))"
   ]
  },
  {
   "cell_type": "code",
   "execution_count": 143,
   "id": "94cbf839-420a-4980-9682-036680d7323e",
   "metadata": {},
   "outputs": [
    {
     "data": {
      "text/plain": [
       "True"
      ]
     },
     "execution_count": 143,
     "metadata": {},
     "output_type": "execute_result"
    }
   ],
   "source": [
    "BucketSort(randseq, 10)==sorted(randseq)"
   ]
  },
  {
   "cell_type": "markdown",
   "id": "057e4e5f-6d11-4afa-88e1-5ebcf607f0fd",
   "metadata": {},
   "source": [
    "# Timing the algorithm"
   ]
  },
  {
   "cell_type": "code",
   "execution_count": 144,
   "id": "5dfed02d-c6f3-4ad6-b330-ca01d213b932",
   "metadata": {},
   "outputs": [
    {
     "name": "stdout",
     "output_type": "stream",
     "text": [
      "[66, 92, 98, 17, 83, 57, 86, 97, 96, 47]\n"
     ]
    }
   ],
   "source": [
    "np.random.seed(123)\n",
    "randseq = np.random.randint(0,101,10).tolist()\n",
    "print(randseq)"
   ]
  },
  {
   "cell_type": "code",
   "execution_count": 145,
   "id": "30ef92bd-af68-45a4-812c-9148b03c86bc",
   "metadata": {},
   "outputs": [
    {
     "name": "stdout",
     "output_type": "stream",
     "text": [
      "[17, 47, 57, 66, 83, 86, 92, 96, 97, 98]\n"
     ]
    }
   ],
   "source": [
    "print(BucketSort(randseq, 10))"
   ]
  },
  {
   "cell_type": "code",
   "execution_count": 146,
   "id": "5cb1192b-9da9-4756-bdd7-d83f7cc54356",
   "metadata": {},
   "outputs": [],
   "source": [
    "def BucketSortTester(k, n, high, low=0):\n",
    "    randseq = np.random.randint(low, high+1, n).tolist()\n",
    "    return randseq, BucketSort(randseq, k)"
   ]
  },
  {
   "cell_type": "code",
   "execution_count": 154,
   "id": "97ad3c38-0af2-4a3b-b965-32a070c91524",
   "metadata": {},
   "outputs": [
    {
     "data": {
      "text/plain": [
       "([55, 25, 50, 84, 56, 49, 12, 18, 81, 1],\n",
       " [1, 12, 18, 25, 49, 50, 55, 56, 81, 84])"
      ]
     },
     "execution_count": 154,
     "metadata": {},
     "output_type": "execute_result"
    }
   ],
   "source": [
    "BucketSortTester(10,10,100)"
   ]
  },
  {
   "cell_type": "code",
   "execution_count": 155,
   "id": "b9fde3fa-730b-4231-8df2-890967ebbc32",
   "metadata": {},
   "outputs": [
    {
     "name": "stdout",
     "output_type": "stream",
     "text": [
      "7.56 μs ± 408 ns per loop (mean ± std. dev. of 7 runs, 100,000 loops each)\n"
     ]
    }
   ],
   "source": [
    "# 10 buckets, 10 elements, numbers 0-10\n",
    "%timeit BucketSortTester(10,10,10)"
   ]
  },
  {
   "cell_type": "code",
   "execution_count": 156,
   "id": "c38b03bb-8934-4fa9-9119-eeae758dde95",
   "metadata": {},
   "outputs": [
    {
     "name": "stdout",
     "output_type": "stream",
     "text": [
      "46.8 μs ± 3.86 μs per loop (mean ± std. dev. of 7 runs, 10,000 loops each)\n"
     ]
    }
   ],
   "source": [
    "# 10 buckets, 100 elements, numbers 0-100\n",
    "%timeit BucketSortTester(10,100,100)"
   ]
  },
  {
   "cell_type": "code",
   "execution_count": 162,
   "id": "8596f3b2-ed44-44d3-a2d6-4bb8e64d549e",
   "metadata": {},
   "outputs": [
    {
     "name": "stdout",
     "output_type": "stream",
     "text": [
      "45.4 μs ± 1.21 μs per loop (mean ± std. dev. of 7 runs, 10,000 loops each)\n"
     ]
    }
   ],
   "source": [
    "# 10 buckets, 100 elements, numbers 0-10,000\n",
    "%timeit BucketSortTester(10, 100, 10_000)"
   ]
  },
  {
   "cell_type": "code",
   "execution_count": 161,
   "id": "adc2743f-171e-46db-b60e-227d8376857e",
   "metadata": {},
   "outputs": [
    {
     "name": "stdout",
     "output_type": "stream",
     "text": [
      "70.2 ms ± 1.28 ms per loop (mean ± std. dev. of 7 runs, 10 loops each)\n"
     ]
    }
   ],
   "source": [
    "# 10 buckets, 10_000 elements, numbers 0-100\n",
    "%timeit BucketSortTester(10, 10_000, 100)"
   ]
  },
  {
   "cell_type": "code",
   "execution_count": 160,
   "id": "c8db794a-c6a5-47d3-bc7a-2abdb2363853",
   "metadata": {},
   "outputs": [
    {
     "name": "stdout",
     "output_type": "stream",
     "text": [
      "81.5 ms ± 224 μs per loop (mean ± std. dev. of 7 runs, 10 loops each)\n"
     ]
    }
   ],
   "source": [
    "# 10 buckets, 10,000 elements, numbers 0-10,000\n",
    "%timeit BucketSortTester(10, 10_000, 10_000)"
   ]
  },
  {
   "cell_type": "markdown",
   "id": "102c68c0-2cd6-494c-a169-c7b58ff593fe",
   "metadata": {},
   "source": [
    "Naturally, the algorithm is slower for larger sequences. Would increasing the number of buckets help?"
   ]
  },
  {
   "cell_type": "code",
   "execution_count": 163,
   "id": "b2986d7d-446b-4449-90c1-bb0a8a935ebc",
   "metadata": {},
   "outputs": [
    {
     "name": "stdout",
     "output_type": "stream",
     "text": [
      "11 ms ± 25.3 μs per loop (mean ± std. dev. of 7 runs, 100 loops each)\n"
     ]
    }
   ],
   "source": [
    "# 100 buckets, 10,000 elements, numbers 0-10,000\n",
    "%timeit BucketSortTester(100, 10_000, 10_000)"
   ]
  },
  {
   "cell_type": "markdown",
   "id": "26edb9fb-1be9-4285-80df-072e4c066839",
   "metadata": {},
   "source": [
    "Unsurprisingly, increasing the number of buckets lessens the runtime since each bucket's linked list is now smaller. So, when appending a new element into the bucket, the algorithm has to go through lesser elements. However, more buckets also mean more memory usage"
   ]
  },
  {
   "cell_type": "markdown",
   "id": "cb7d2496-4246-455b-9005-99c17d039c52",
   "metadata": {},
   "source": [
    "# Trying a distrbution whose range is very different from the number of elements"
   ]
  },
  {
   "cell_type": "code",
   "execution_count": 170,
   "id": "f5466881-5ef1-4e5f-a23b-d3375d874d8a",
   "metadata": {},
   "outputs": [
    {
     "name": "stdout",
     "output_type": "stream",
     "text": [
      "40 μs ± 4.65 μs per loop (mean ± std. dev. of 7 runs, 10,000 loops each)\n"
     ]
    }
   ],
   "source": [
    "# 10 buckets, 100 elements, high = 100_000_000, low = 99_999_990\n",
    "%timeit BucketSortTester(10, 100, 100_000_000, 99_999_990)"
   ]
  },
  {
   "cell_type": "markdown",
   "id": "07da0543-e3ff-4cf0-8db3-b4b79737a9f0",
   "metadata": {},
   "source": [
    "Since the algorithm is able to rescale the distribution and equally divide it into each bucket, the sequence is not too taxing on the algorithm"
   ]
  },
  {
   "cell_type": "markdown",
   "id": "4ddedd37-bb6d-4bc8-b9ed-6e66ee720160",
   "metadata": {},
   "source": [
    "# Trying a very skewed distribution"
   ]
  },
  {
   "cell_type": "markdown",
   "id": "cbff433d-6ea2-44c2-a565-e7bc926dcd80",
   "metadata": {},
   "source": [
    "However, the algorithm can run into trouble when the distribution is very skewed to one point. In that case, one bucket gets very filled, and thus the algorthim has to spent a lot of time traversing the linked list in the bucket"
   ]
  },
  {
   "cell_type": "code",
   "execution_count": 176,
   "id": "25a6729c-c89f-4cc8-accb-7a478aa715c3",
   "metadata": {},
   "outputs": [
    {
     "name": "stdout",
     "output_type": "stream",
     "text": [
      "[50000000, 50000001, 50000002, 50000003, 50000004, 50000005, 50000006, 50000007, 50000008, 50000009, 50000010, 50000011, 50000012, 50000013, 50000014, 50000015, 50000016, 50000017, 50000018, 50000019, 50000020, 50000021, 50000022, 50000023, 50000024, 50000025, 50000026, 50000027, 50000028, 50000029, 50000030, 50000031, 50000032, 50000033, 50000034, 50000035, 50000036, 50000037, 50000038, 50000039, 50000040, 50000041, 50000042, 50000043, 50000044, 50000045, 50000046, 50000047, 50000048, 50000049, 50000050, 50000051, 50000052, 50000053, 50000054, 50000055, 50000056, 50000057, 50000058, 50000059, 50000060, 50000061, 50000062, 50000063, 50000064, 50000065, 50000066, 50000067, 50000068, 50000069, 50000070, 50000071, 50000072, 50000073, 50000074, 50000075, 50000076, 50000077, 50000078, 50000079, 50000080, 50000081, 50000082, 50000083, 50000084, 50000085, 50000086, 50000087, 50000088, 50000089, 50000090, 50000091, 50000092, 50000093, 50000094, 50000095, 50000096, 50000097, 100000000, 0]\n"
     ]
    }
   ],
   "source": [
    "outlier = [50_000_000+i for i in range(98)] + [100_000_000, 0]\n",
    "print(outlier)"
   ]
  },
  {
   "cell_type": "code",
   "execution_count": 177,
   "id": "5c6973a3-49c2-4bd6-a256-b0565364ba98",
   "metadata": {},
   "outputs": [
    {
     "name": "stdout",
     "output_type": "stream",
     "text": [
      "156 μs ± 117 ns per loop (mean ± std. dev. of 7 runs, 10,000 loops each)\n"
     ]
    }
   ],
   "source": [
    "%timeit BucketSort(outlier, 10)"
   ]
  },
  {
   "cell_type": "markdown",
   "id": "826bf92f-acbf-4073-bb22-945aa9fb5269",
   "metadata": {},
   "source": [
    "Here we see that even though it is still decently fast, it is much slower than the other runtimes involving 100 elements. Furthermore, it is also slower than RadixSort when faced with roughly the same issue"
   ]
  },
  {
   "cell_type": "code",
   "execution_count": 178,
   "id": "f1bb3bfb-db04-422d-a943-a9952c15c37c",
   "metadata": {},
   "outputs": [
    {
     "name": "stdout",
     "output_type": "stream",
     "text": [
      "159 μs ± 352 ns per loop (mean ± std. dev. of 7 runs, 10,000 loops each)\n"
     ]
    }
   ],
   "source": [
    "%timeit BucketSort(outlier, 100)"
   ]
  },
  {
   "cell_type": "markdown",
   "id": "30c5e92f-725f-4968-bdcf-3b3a6e6abc1d",
   "metadata": {},
   "source": [
    "Increasing the number of buckets also does not appear to be help, which makes sense since the pain point is 1 specfic bucket taking on too many elements"
   ]
  },
  {
   "cell_type": "code",
   "execution_count": null,
   "id": "009eb63d-a109-4cec-906a-7b9a4ba904f7",
   "metadata": {},
   "outputs": [],
   "source": []
  }
 ],
 "metadata": {
  "kernelspec": {
   "display_name": "Python 3 (ipykernel)",
   "language": "python",
   "name": "python3"
  },
  "language_info": {
   "codemirror_mode": {
    "name": "ipython",
    "version": 3
   },
   "file_extension": ".py",
   "mimetype": "text/x-python",
   "name": "python",
   "nbconvert_exporter": "python",
   "pygments_lexer": "ipython3",
   "version": "3.11.5"
  }
 },
 "nbformat": 4,
 "nbformat_minor": 5
}
