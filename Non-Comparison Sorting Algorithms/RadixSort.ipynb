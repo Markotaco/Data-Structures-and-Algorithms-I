{
 "cells": [
  {
   "cell_type": "markdown",
   "id": "8c125d9a-4a8e-48a6-bd86-43d71427c37b",
   "metadata": {},
   "source": [
    "# RadixSort"
   ]
  },
  {
   "cell_type": "markdown",
   "id": "d3a3d1fc-7cd5-4f7c-b5ab-184c5c47f823",
   "metadata": {},
   "source": [
    "RadixSort is useful for integers and for fixed-length strings, but obviously gets worse the more digits there are. In the general case, this algorithm runs in O(d*n)=O(n), where d is the number of digits in the largest elements."
   ]
  },
  {
   "cell_type": "markdown",
   "id": "a4af6a72-cc03-42da-ad00-bbcf5a4d8628",
   "metadata": {},
   "source": [
    "# Linkedlist implementation"
   ]
  },
  {
   "cell_type": "markdown",
   "id": "84b53dc5-2d14-4465-9388-364316ca417d",
   "metadata": {},
   "source": [
    "For such a sort an access table with references to a Dual-access Queue is helpful. We use deque from the Collections package"
   ]
  },
  {
   "cell_type": "code",
   "execution_count": 5,
   "id": "dfae63e9-10b2-4a38-878f-3283da6a35f2",
   "metadata": {},
   "outputs": [],
   "source": [
    "from collections import deque"
   ]
  },
  {
   "cell_type": "code",
   "execution_count": 2,
   "id": "5991fe0d-9194-439d-b27f-2814f0bb44e3",
   "metadata": {},
   "outputs": [],
   "source": [
    "q = deque([1,2,3])"
   ]
  },
  {
   "cell_type": "code",
   "execution_count": 3,
   "id": "a472b5ab-6705-4d8f-9dbf-29e19c41907f",
   "metadata": {},
   "outputs": [],
   "source": [
    "q.append(23)"
   ]
  },
  {
   "cell_type": "code",
   "execution_count": 4,
   "id": "4ca28594-d36f-48a7-bec1-0de90c4e6665",
   "metadata": {},
   "outputs": [
    {
     "data": {
      "text/plain": [
       "1"
      ]
     },
     "execution_count": 4,
     "metadata": {},
     "output_type": "execute_result"
    }
   ],
   "source": [
    "q.popleft()"
   ]
  },
  {
   "cell_type": "code",
   "execution_count": 5,
   "id": "8c9b2a3c-54f2-447c-8f91-1f92ad617b61",
   "metadata": {},
   "outputs": [
    {
     "data": {
      "text/plain": [
       "deque([2, 3, 23])"
      ]
     },
     "execution_count": 5,
     "metadata": {},
     "output_type": "execute_result"
    }
   ],
   "source": [
    "q"
   ]
  },
  {
   "cell_type": "code",
   "execution_count": 6,
   "id": "b9cfc10a-a548-4600-b41b-10a55afc7dd4",
   "metadata": {},
   "outputs": [
    {
     "data": {
      "text/plain": [
       "3"
      ]
     },
     "execution_count": 6,
     "metadata": {},
     "output_type": "execute_result"
    }
   ],
   "source": [
    "len(q)"
   ]
  },
  {
   "cell_type": "markdown",
   "id": "b4fff4cd-0648-45be-afbd-edeb12a21517",
   "metadata": {},
   "source": [
    "## Additionally, the math package is useful for the floor function"
   ]
  },
  {
   "cell_type": "code",
   "execution_count": 8,
   "id": "1d69a03f-0305-47b5-a42b-055390c10294",
   "metadata": {},
   "outputs": [],
   "source": [
    "from math import floor"
   ]
  },
  {
   "cell_type": "markdown",
   "id": "01639012-5348-4561-8b92-43059dea9816",
   "metadata": {},
   "source": [
    "# Generating a Random Sequence"
   ]
  },
  {
   "cell_type": "markdown",
   "id": "fbaab2cc-a34b-44a8-9f78-28df1acda55e",
   "metadata": {},
   "source": [
    "A random sequence needs to be generated"
   ]
  },
  {
   "cell_type": "code",
   "execution_count": 8,
   "id": "58d758b5-1474-4358-a48b-15b5d7b78dc9",
   "metadata": {},
   "outputs": [],
   "source": [
    "import numpy as np"
   ]
  },
  {
   "cell_type": "code",
   "execution_count": 9,
   "id": "5ce28c11-70ee-4302-87b3-5db8c051690c",
   "metadata": {},
   "outputs": [
    {
     "name": "stdout",
     "output_type": "stream",
     "text": [
      "[83, 230, 40, 31, 237, 39, 90, 153, 6, 12]\n"
     ]
    }
   ],
   "source": [
    "np.random.seed(23)\n",
    "n=10\n",
    "high = 300\n",
    "low = 0\n",
    "\n",
    "randseq = np.random.randint(low, high+1, n).tolist()\n",
    "print(randseq)"
   ]
  },
  {
   "cell_type": "markdown",
   "id": "0043c91c-d462-477d-9b17-d5069b27ed92",
   "metadata": {},
   "source": [
    "# Step 1: Find the number of digits in the largest element"
   ]
  },
  {
   "cell_type": "markdown",
   "id": "7017d090-c4be-44f1-9aaa-34640ac49da9",
   "metadata": {},
   "source": [
    "This then becomes the number of iterations the sort has to perform"
   ]
  },
  {
   "cell_type": "code",
   "execution_count": 10,
   "id": "2c64c121-f2b6-49f3-bb65-d99852c332f2",
   "metadata": {},
   "outputs": [
    {
     "name": "stdout",
     "output_type": "stream",
     "text": [
      "3\n"
     ]
    }
   ],
   "source": [
    "# Getting the maximum from a sequence, then converting it to a string, then getting its length\n",
    "largest_length = len(str(max(randseq)))\n",
    "print(largest_length)"
   ]
  },
  {
   "cell_type": "markdown",
   "id": "4f41f033-dde7-418c-8b85-fb96e6015380",
   "metadata": {},
   "source": [
    "# Step 2: Bucketing the elements with the same first digits"
   ]
  },
  {
   "cell_type": "code",
   "execution_count": 11,
   "id": "d9003275-8d14-41cf-b8a0-e8f8bfeb7634",
   "metadata": {},
   "outputs": [
    {
     "name": "stdout",
     "output_type": "stream",
     "text": [
      "{0: deque([230, 40, 90]), 1: deque([31]), 2: deque([12]), 3: deque([83, 153]), 4: deque([]), 5: deque([]), 6: deque([6]), 7: deque([237]), 8: deque([]), 9: deque([39])}\n"
     ]
    }
   ],
   "source": [
    "# First, a bucketing table needs to be created, with numbers 0 to 9. Each entry of the dict leads to a queue\n",
    "buckets = {i:deque([]) for i in range(10)}\n",
    "\n",
    "# For each element in the sequence\n",
    "for i in randseq:\n",
    "    # The hash key will be i%10 so that the element will be properly assigned based on its last digit value\n",
    "    hash = i%10\n",
    "    # Append to the appropriate queue\n",
    "    buckets[hash].append(i)\n",
    "\n",
    "print(buckets)"
   ]
  },
  {
   "cell_type": "markdown",
   "id": "bca172cc-cf30-4fa4-99ed-57fb12d33bae",
   "metadata": {},
   "source": [
    "# Step 3: Put the elements from the buckets into a new array, in the order of the hash value and the order which they came in"
   ]
  },
  {
   "cell_type": "code",
   "execution_count": 12,
   "id": "326103a2-6a14-4565-b02a-89adf09fc04f",
   "metadata": {},
   "outputs": [
    {
     "data": {
      "text/plain": [
       "[230, 40, 90, 31, 12, 83, 153, 6, 237, 39]"
      ]
     },
     "execution_count": 12,
     "metadata": {},
     "output_type": "execute_result"
    }
   ],
   "source": [
    "newarray = []\n",
    "# For each hash value\n",
    "for hash in buckets:\n",
    "    # While the bucket still has elements\n",
    "    while len(buckets[hash])!=0:\n",
    "        # pop the first element from the queue, and append that to the new array\n",
    "        newarray.append(buckets[hash].popleft())\n",
    "newarray"
   ]
  },
  {
   "cell_type": "markdown",
   "id": "0a1ffca9-15c9-42a7-b717-a5cdefda01c0",
   "metadata": {},
   "source": [
    "Note that buckets is now filled with only empty queues"
   ]
  },
  {
   "cell_type": "code",
   "execution_count": 13,
   "id": "c6ae9839-1c97-40d3-ad08-750f51ef4f17",
   "metadata": {},
   "outputs": [
    {
     "data": {
      "text/plain": [
       "{0: deque([]),\n",
       " 1: deque([]),\n",
       " 2: deque([]),\n",
       " 3: deque([]),\n",
       " 4: deque([]),\n",
       " 5: deque([]),\n",
       " 6: deque([]),\n",
       " 7: deque([]),\n",
       " 8: deque([]),\n",
       " 9: deque([])}"
      ]
     },
     "execution_count": 13,
     "metadata": {},
     "output_type": "execute_result"
    }
   ],
   "source": [
    "buckets"
   ]
  },
  {
   "cell_type": "markdown",
   "id": "cf8d5b40-b50f-49b7-ace9-c6f2da7dd369",
   "metadata": {},
   "source": [
    "# Step 4: Repeat the above for the number of digits in the largest elements"
   ]
  },
  {
   "cell_type": "markdown",
   "id": "fe1840a8-2705-419d-93c6-a1e83ccb754b",
   "metadata": {},
   "source": [
    "The above steps should now be put in a loop that runs as many times as the number of digits in the largest element, with each loop focusing on a different digit. For easier reference we generate the random number sequence again here."
   ]
  },
  {
   "cell_type": "code",
   "execution_count": 14,
   "id": "bcfdcb5c-4944-4c17-9909-752e960fa536",
   "metadata": {},
   "outputs": [
    {
     "name": "stdout",
     "output_type": "stream",
     "text": [
      "[83, 230, 40, 31, 237, 39, 90, 153, 6, 12]\n"
     ]
    }
   ],
   "source": [
    "np.random.seed(23)\n",
    "n=10\n",
    "high = 300\n",
    "low = 0\n",
    "\n",
    "randseq = np.random.randint(low, high+1, n).tolist()\n",
    "print(randseq)"
   ]
  },
  {
   "cell_type": "code",
   "execution_count": 15,
   "id": "f52d009a-2348-4e9a-8fbd-dbc1a01f78e8",
   "metadata": {},
   "outputs": [
    {
     "name": "stdout",
     "output_type": "stream",
     "text": [
      "3\n"
     ]
    }
   ],
   "source": [
    "# Getting the maximum from a sequence, then converting it to a string, then getting its length\n",
    "largest_length = len(str(max(randseq)))\n",
    "print(largest_length)"
   ]
  },
  {
   "cell_type": "code",
   "execution_count": 16,
   "id": "7af3df1f-f2ad-48c6-bd9d-547cee40854a",
   "metadata": {},
   "outputs": [
    {
     "name": "stdout",
     "output_type": "stream",
     "text": [
      "[6, 12, 31, 39, 40, 83, 90, 153, 230, 237]\n"
     ]
    }
   ],
   "source": [
    "# For each digit in the largest element\n",
    "for i in range(largest_length):\n",
    "    # Creating an empty new array\n",
    "    newarray = []\n",
    "    # Go through the elements of the list\n",
    "    for j in randseq:\n",
    "        # Hashing by the appropriate value. Move the decimal point appropriately depending on the loop, then round the number down.\n",
    "        # The modulo 10 of the reuslt then gives the digit in the appropriate place. Ie. 237 -> 23.7 -> 23 -> 23%10 = 3\n",
    "        hash = floor(j/(10**i))%10\n",
    "        # Append the element to the appropriate bucket\n",
    "        buckets[hash].append(j)\n",
    "        \n",
    "    # Go through the buckets in buckets\n",
    "    for key in buckets:\n",
    "        # while the bucket is not empty\n",
    "        while len(buckets[key])!=0:\n",
    "            # Append the elements in order to the new array by popping the first element in the bucket's queue\n",
    "            newarray.append(buckets[key].popleft())\n",
    "\n",
    "    # Assigning this array to a variable that can be used in the next loop\n",
    "    randseq = newarray\n",
    "\n",
    "print(newarray)"
   ]
  },
  {
   "cell_type": "markdown",
   "id": "2e9be112-8ded-46e2-98d9-7cf4bdc55322",
   "metadata": {},
   "source": [
    "# Combining everything into a single function"
   ]
  },
  {
   "cell_type": "code",
   "execution_count": 3,
   "id": "ddcd73d6-c561-4e99-8e4e-dc5ed8aa31c2",
   "metadata": {},
   "outputs": [],
   "source": [
    "def RadixSort(seq):\n",
    "    # Getting the maximum from a sequence, then converting it to a string, then getting its length\n",
    "    largest_length = len(str(max(seq)))\n",
    "\n",
    "    # Creating buckets\n",
    "    buckets = {index:deque([]) for index in range(10)}\n",
    "\n",
    "    # For each digit in the largest element\n",
    "    for i in range(largest_length):\n",
    "        # Creating an empty new array\n",
    "        newarray = []\n",
    "        # Go through the elements of the list\n",
    "        for j in seq:\n",
    "            # Hashing by the appropriate value. Move the decimal point appropriately depending on the loop, then round down.\n",
    "            # The modulo 10 of the reuslt then gives the digit in the appropriate place. Ie. 237 -> 23.7 -> 23 -> 23%10 = 3\n",
    "            hash = floor(j/(10**i))%10\n",
    "            # Append the element to the appropriate bucket\n",
    "            buckets[hash].append(j)\n",
    "        \n",
    "        # Go through the buckets in buckets\n",
    "        for key in buckets:\n",
    "            # while the bucket is not empty\n",
    "            while len(buckets[key])!=0:\n",
    "                # Append the elements in order to the new array by popping the first element in the bucket's queue\n",
    "                newarray.append(buckets[key].popleft())\n",
    "\n",
    "        # Assigning this array to a variable that can be used in the next loop\n",
    "        seq = newarray\n",
    "    return newarray"
   ]
  },
  {
   "cell_type": "code",
   "execution_count": 18,
   "id": "372b3d3b-5575-4393-8fc7-f27fac14d4f9",
   "metadata": {},
   "outputs": [
    {
     "name": "stdout",
     "output_type": "stream",
     "text": [
      "[83, 230, 40, 31, 237, 39, 90, 153, 6, 12]\n"
     ]
    }
   ],
   "source": [
    "np.random.seed(23)\n",
    "n=10\n",
    "high = 300\n",
    "low = 0\n",
    "\n",
    "randseq = np.random.randint(low, high+1, n).tolist()\n",
    "print(randseq)"
   ]
  },
  {
   "cell_type": "code",
   "execution_count": 19,
   "id": "e761aa7e-f85b-432e-8949-5830dbe36f67",
   "metadata": {},
   "outputs": [
    {
     "data": {
      "text/plain": [
       "[6, 12, 31, 39, 40, 83, 90, 153, 230, 237]"
      ]
     },
     "execution_count": 19,
     "metadata": {},
     "output_type": "execute_result"
    }
   ],
   "source": [
    "RadixSort(randseq)"
   ]
  },
  {
   "cell_type": "code",
   "execution_count": 20,
   "id": "08854af6-f9d2-4d77-be75-9202787e2376",
   "metadata": {},
   "outputs": [
    {
     "name": "stdout",
     "output_type": "stream",
     "text": [
      "[49, 706, 459, 981, 709, 192, 12, 533, 560, 297, 591, 858, 958, 57, 403, 417, 187, 551, 911, 548, 577, 897, 884, 683, 15, 214, 103, 723, 698, 630, 537, 194, 970, 637, 35, 480, 56, 269, 316, 534, 678, 543, 862, 462, 0, 917, 518, 32, 354, 544, 142, 543, 590, 467, 336, 582, 834, 978, 981, 439, 283, 830, 249, 244, 299, 714, 71, 247, 426, 467, 277, 997, 518, 68, 150, 299, 136, 469, 446, 672, 828, 356, 523, 513, 553, 244, 794, 549, 425, 765, 824, 295, 465, 762, 672, 693, 291, 279, 106, 797]\n"
     ]
    }
   ],
   "source": [
    "n=100\n",
    "high = 999\n",
    "low = 0\n",
    "\n",
    "randseq = np.random.randint(low, high+1, n).tolist()\n",
    "print(randseq)"
   ]
  },
  {
   "cell_type": "code",
   "execution_count": 21,
   "id": "4a3ccb61-d24d-47d5-8dc8-1da5fd27ddc5",
   "metadata": {},
   "outputs": [
    {
     "name": "stdout",
     "output_type": "stream",
     "text": [
      "[0, 12, 15, 32, 35, 49, 56, 57, 68, 71, 103, 106, 136, 142, 150, 187, 192, 194, 214, 244, 244, 247, 249, 269, 277, 279, 283, 291, 295, 297, 299, 299, 316, 336, 354, 356, 403, 417, 425, 426, 439, 446, 459, 462, 465, 467, 467, 469, 480, 513, 518, 518, 523, 533, 534, 537, 543, 543, 544, 548, 549, 551, 553, 560, 577, 582, 590, 591, 630, 637, 672, 672, 678, 683, 693, 698, 706, 709, 714, 723, 762, 765, 794, 797, 824, 828, 830, 834, 858, 862, 884, 897, 911, 917, 958, 970, 978, 981, 981, 997]\n"
     ]
    }
   ],
   "source": [
    "print(RadixSort(randseq))"
   ]
  },
  {
   "cell_type": "code",
   "execution_count": 22,
   "id": "d7df7a1d-1735-4de8-a7d5-3bcaedc78555",
   "metadata": {},
   "outputs": [
    {
     "name": "stdout",
     "output_type": "stream",
     "text": [
      "[69360, 41927, 19356, 5427, 93930, 75216, 68650, 60709, 65643, 37042]\n"
     ]
    }
   ],
   "source": [
    "np.random.seed(2390)\n",
    "n=10\n",
    "high = 100_000\n",
    "low = 0\n",
    "\n",
    "randseq = np.random.randint(low, high+1, n).tolist()\n",
    "print(randseq)"
   ]
  },
  {
   "cell_type": "code",
   "execution_count": 23,
   "id": "55f3ed71-158b-47d5-b0ba-8dd75b227e73",
   "metadata": {},
   "outputs": [
    {
     "name": "stdout",
     "output_type": "stream",
     "text": [
      "[5427, 19356, 37042, 41927, 60709, 65643, 68650, 69360, 75216, 93930]\n"
     ]
    }
   ],
   "source": [
    "print(RadixSort(randseq))"
   ]
  },
  {
   "cell_type": "markdown",
   "id": "143ecdd7-7c57-40f6-8bd1-3e9b797614dc",
   "metadata": {},
   "source": [
    "# Testing the timings of the sorting algorithm under different conditions"
   ]
  },
  {
   "cell_type": "code",
   "execution_count": 24,
   "id": "b6475226-96c6-4c93-b9e3-5b76a6c0e1b6",
   "metadata": {},
   "outputs": [],
   "source": [
    "def RadixSortTester(n, high, low=0):\n",
    "    randseq = np.random.randint(low, high+1, n).tolist()\n",
    "    return randseq, RadixSort(randseq)"
   ]
  },
  {
   "cell_type": "code",
   "execution_count": 25,
   "id": "b1021989-37fc-42db-ae8d-0dae0867eb8b",
   "metadata": {},
   "outputs": [
    {
     "data": {
      "text/plain": [
       "([78, 67, 81, 90, 61, 1, 83, 94, 88, 40],\n",
       " [1, 40, 61, 67, 78, 81, 83, 88, 90, 94])"
      ]
     },
     "execution_count": 25,
     "metadata": {},
     "output_type": "execute_result"
    }
   ],
   "source": [
    "RadixSortTester(10, 100)"
   ]
  },
  {
   "cell_type": "code",
   "execution_count": 26,
   "id": "1abf843f-4e2f-44b6-b222-c806f98c65dd",
   "metadata": {},
   "outputs": [
    {
     "name": "stdout",
     "output_type": "stream",
     "text": [
      "6.69 μs ± 155 ns per loop (mean ± std. dev. of 7 runs, 100,000 loops each)\n"
     ]
    }
   ],
   "source": [
    "%timeit RadixSortTester(10,10)"
   ]
  },
  {
   "cell_type": "code",
   "execution_count": 27,
   "id": "5ab69045-ec81-4f7e-81cd-dbc6d2fce002",
   "metadata": {},
   "outputs": [
    {
     "name": "stdout",
     "output_type": "stream",
     "text": [
      "35.2 μs ± 3.53 μs per loop (mean ± std. dev. of 7 runs, 10,000 loops each)\n"
     ]
    }
   ],
   "source": [
    "%timeit RadixSortTester(100,100)"
   ]
  },
  {
   "cell_type": "code",
   "execution_count": 28,
   "id": "2fdf6398-b00b-42dd-8f80-dd7fe7345e27",
   "metadata": {},
   "outputs": [
    {
     "name": "stdout",
     "output_type": "stream",
     "text": [
      "4.74 ms ± 31.2 μs per loop (mean ± std. dev. of 7 runs, 100 loops each)\n"
     ]
    }
   ],
   "source": [
    "%timeit RadixSortTester(10_000, 10_000)"
   ]
  },
  {
   "cell_type": "markdown",
   "id": "9b0d69f9-e40c-4325-8c06-10cc011a7395",
   "metadata": {},
   "source": [
    "So far, it behaves similarly to the the CountingSort, albeit a little slower"
   ]
  },
  {
   "cell_type": "markdown",
   "id": "71aa9b83-4d7d-49cb-ad67-a466b3332b04",
   "metadata": {},
   "source": [
    "## If the distribution does not match the number of elements"
   ]
  },
  {
   "cell_type": "code",
   "execution_count": 29,
   "id": "4e8e95c8-492e-4c56-acf7-7699db1a1244",
   "metadata": {},
   "outputs": [
    {
     "name": "stdout",
     "output_type": "stream",
     "text": [
      "109 μs ± 2.77 μs per loop (mean ± std. dev. of 7 runs, 10,000 loops each)\n"
     ]
    }
   ],
   "source": [
    "%timeit RadixSortTester(100, 100_000_000, 99_999_990)"
   ]
  },
  {
   "cell_type": "code",
   "execution_count": 9,
   "id": "f43d4e6a-ec26-4875-b151-538129fa7065",
   "metadata": {},
   "outputs": [
    {
     "name": "stdout",
     "output_type": "stream",
     "text": [
      "[50000000, 50000001, 50000002, 50000003, 50000004, 50000005, 50000006, 50000007, 50000008, 50000009, 50000010, 50000011, 50000012, 50000013, 50000014, 50000015, 50000016, 50000017, 50000018, 50000019, 50000020, 50000021, 50000022, 50000023, 50000024, 50000025, 50000026, 50000027, 50000028, 50000029, 50000030, 50000031, 50000032, 50000033, 50000034, 50000035, 50000036, 50000037, 50000038, 50000039, 50000040, 50000041, 50000042, 50000043, 50000044, 50000045, 50000046, 50000047, 50000048, 50000049, 50000050, 50000051, 50000052, 50000053, 50000054, 50000055, 50000056, 50000057, 50000058, 50000059, 50000060, 50000061, 50000062, 50000063, 50000064, 50000065, 50000066, 50000067, 50000068, 50000069, 50000070, 50000071, 50000072, 50000073, 50000074, 50000075, 50000076, 50000077, 50000078, 50000079, 50000080, 50000081, 50000082, 50000083, 50000084, 50000085, 50000086, 50000087, 50000088, 50000089, 50000090, 50000091, 50000092, 50000093, 50000094, 50000095, 50000096, 50000097, 100000000, 0]\n"
     ]
    }
   ],
   "source": [
    "outlier = [50_000_000+i for i in range(98)] + [100_000_000, 0]\n",
    "print(outlier)"
   ]
  },
  {
   "cell_type": "code",
   "execution_count": 10,
   "id": "d18c741c-4444-4fd9-8fd3-34c026ca969a",
   "metadata": {},
   "outputs": [
    {
     "name": "stdout",
     "output_type": "stream",
     "text": [
      "96.4 μs ± 792 ns per loop (mean ± std. dev. of 7 runs, 10,000 loops each)\n"
     ]
    }
   ],
   "source": [
    "%timeit RadixSort(outlier)"
   ]
  },
  {
   "cell_type": "markdown",
   "id": "c6e2e2db-cfcd-43c3-bfc3-ed2f3d96390a",
   "metadata": {},
   "source": [
    "We see that RadixSort performs much better than CountingSort"
   ]
  },
  {
   "cell_type": "code",
   "execution_count": 32,
   "id": "f9097c0d-0a80-4dc9-b686-3d4928f51348",
   "metadata": {},
   "outputs": [
    {
     "name": "stdout",
     "output_type": "stream",
     "text": [
      "196 μs ± 1.31 μs per loop (mean ± std. dev. of 7 runs, 10,000 loops each)\n"
     ]
    }
   ],
   "source": [
    "%timeit RadixSortTester(100, int(1e15))"
   ]
  },
  {
   "cell_type": "markdown",
   "id": "56a7c90c-a0c9-4996-8556-670789be930e",
   "metadata": {},
   "source": [
    "Even for very large numbers it is very fast"
   ]
  },
  {
   "cell_type": "markdown",
   "id": "3c523545-e3eb-4b0b-8959-25a14e51d8df",
   "metadata": {},
   "source": [
    "# RadixSort can also work for Strings"
   ]
  },
  {
   "cell_type": "markdown",
   "id": "a52ccc9e-45d2-46fa-9c63-ea39d6153509",
   "metadata": {},
   "source": [
    "We start with the following string:"
   ]
  },
  {
   "cell_type": "code",
   "execution_count": 68,
   "id": "05e5111b-0f90-4f37-9553-599231ba3bbe",
   "metadata": {},
   "outputs": [],
   "source": [
    "strseq = ['It', 'is', 'dangerous', 'to', 'go', 'alone', 'take', 'this']"
   ]
  },
  {
   "cell_type": "markdown",
   "id": "fdd1b4c9-0709-45a3-ac0d-b9d0e6b2105b",
   "metadata": {},
   "source": [
    "## Modifying the algorithm"
   ]
  },
  {
   "cell_type": "code",
   "execution_count": 34,
   "id": "67dbe257-560c-4a6d-8148-0e5faa471283",
   "metadata": {},
   "outputs": [
    {
     "data": {
      "text/plain": [
       "9"
      ]
     },
     "execution_count": 34,
     "metadata": {},
     "output_type": "execute_result"
    }
   ],
   "source": [
    "len(max(strseq, key=len))"
   ]
  },
  {
   "cell_type": "code",
   "execution_count": 70,
   "id": "fbf6b669-899d-444b-a29e-43cf1c0b232c",
   "metadata": {},
   "outputs": [],
   "source": [
    "def RadixSortStr(seq):\n",
    "    # Converting all strings to lowercase\n",
    "    seq = [word.lower() for word in seq]\n",
    "    # Getting the longest string, then getting its length\n",
    "    largest_length = len(max(seq, key=len))\n",
    "\n",
    "    # Creating buckets for each letter. ord converts a string to its ascii int, then chr turns it back into a string\n",
    "    buckets = {chr(letter):deque([]) for letter in range(ord('a'), ord('a')+26)}\n",
    "\n",
    "    # For each digit in the largest element\n",
    "    for i in range(largest_length):\n",
    "        # Creating an empty new array\n",
    "        newarray = []\n",
    "        # Go through the elements of the list\n",
    "        for j in seq:\n",
    "            # If the length of the element is smaller than the remaining loops, immediately append it to the list without \n",
    "            # doing any sorting\n",
    "            if len(j)<(largest_length-i):\n",
    "                newarray.append(j)\n",
    "                continue\n",
    "                \n",
    "            # Hashing by looking at the (largest_length-i-1)th letter\n",
    "            hash = j[largest_length-i-1]\n",
    "            # Append the element to the appropriate bucket\n",
    "            buckets[hash].append(j)\n",
    "        \n",
    "        # Go through the buckets in buckets\n",
    "        for key in buckets:\n",
    "            # while the bucket is not empty\n",
    "            while len(buckets[key])!=0:\n",
    "                # Append the elements in order to the new array by popping the first element in the bucket's queue\n",
    "                newarray.append(buckets[key].popleft())\n",
    "\n",
    "        # Assigning this array to a variable that can be used in the next loop\n",
    "        seq = newarray\n",
    "    return newarray"
   ]
  },
  {
   "cell_type": "code",
   "execution_count": 71,
   "id": "4222bf6b-0f83-4a2c-82ae-540fdeb3fe96",
   "metadata": {},
   "outputs": [
    {
     "data": {
      "text/plain": [
       "['alone', 'dangerous', 'go', 'is', 'it', 'take', 'this', 'to']"
      ]
     },
     "execution_count": 71,
     "metadata": {},
     "output_type": "execute_result"
    }
   ],
   "source": [
    "RadixSortStr(strseq)"
   ]
  },
  {
   "cell_type": "code",
   "execution_count": 76,
   "id": "fe42d7ec-6337-4ab7-9c3b-0d4ca677c0f3",
   "metadata": {},
   "outputs": [],
   "source": [
    "strseq = ['My', 'name', 'is', 'Maximus', 'Decimus', 'Meridius', 'commander', 'of', 'the', 'Armies', 'of', 'the', 'North', 'General', 'of', 'the', 'Felix', 'Legions', 'and', 'loyal', 'servant', 'to', 'the', 'true', 'emperor', 'Marcus', 'Aurelius', 'Father', 'to', 'a', 'murdered', 'son', 'Husband', 'to', 'a', 'murdered', 'wife', 'And', 'I', 'will', 'have', 'my', 'vengeance', 'in', 'this', 'life', 'or', 'the', 'next']"
   ]
  },
  {
   "cell_type": "code",
   "execution_count": 77,
   "id": "a71f4864-c8da-4ada-ac96-826e35ae5dae",
   "metadata": {},
   "outputs": [
    {
     "name": "stdout",
     "output_type": "stream",
     "text": [
      "['a', 'a', 'and', 'and', 'armies', 'aurelius', 'commander', 'decimus', 'emperor', 'father', 'felix', 'general', 'have', 'husband', 'i', 'in', 'is', 'legions', 'life', 'loyal', 'marcus', 'maximus', 'meridius', 'murdered', 'murdered', 'my', 'my', 'name', 'next', 'north', 'of', 'of', 'of', 'or', 'servant', 'son', 'the', 'the', 'the', 'the', 'the', 'this', 'to', 'to', 'to', 'true', 'vengeance', 'wife', 'will']\n"
     ]
    }
   ],
   "source": [
    "print(RadixSortStr(strseq))"
   ]
  },
  {
   "cell_type": "code",
   "execution_count": 78,
   "id": "3fc6d70b-e209-48da-a62d-59ca9b80b03b",
   "metadata": {},
   "outputs": [
    {
     "name": "stdout",
     "output_type": "stream",
     "text": [
      "38.6 μs ± 172 ns per loop (mean ± std. dev. of 7 runs, 10,000 loops each)\n"
     ]
    }
   ],
   "source": [
    "%timeit RadixSortStr(strseq)"
   ]
  },
  {
   "cell_type": "code",
   "execution_count": null,
   "id": "330df558-d61d-4dce-8022-14f56d1a6b6d",
   "metadata": {},
   "outputs": [],
   "source": []
  }
 ],
 "metadata": {
  "kernelspec": {
   "display_name": "Python 3 (ipykernel)",
   "language": "python",
   "name": "python3"
  },
  "language_info": {
   "codemirror_mode": {
    "name": "ipython",
    "version": 3
   },
   "file_extension": ".py",
   "mimetype": "text/x-python",
   "name": "python",
   "nbconvert_exporter": "python",
   "pygments_lexer": "ipython3",
   "version": "3.11.5"
  }
 },
 "nbformat": 4,
 "nbformat_minor": 5
}
