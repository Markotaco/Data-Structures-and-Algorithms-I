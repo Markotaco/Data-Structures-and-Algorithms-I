{
 "cells": [
  {
   "cell_type": "markdown",
   "id": "1a2f178b-4adc-4be1-9ea3-e877b08609b1",
   "metadata": {},
   "source": [
    "# Counting Sort"
   ]
  },
  {
   "cell_type": "markdown",
   "id": "0c7d89e8-8100-444a-accf-9151448a1431",
   "metadata": {},
   "source": [
    "Counting sort is best used when the distribution of the elements is known beforehand, and the range of elements is not too different from the distribution of elements. If that is the case, it should run in O(n)"
   ]
  },
  {
   "cell_type": "markdown",
   "id": "eb8ddd08-e9c1-4e4b-8143-f2d97b527498",
   "metadata": {},
   "source": [
    "First, we need numpy to generate a random number sequence"
   ]
  },
  {
   "cell_type": "code",
   "execution_count": 2,
   "id": "d68f98e2-8674-4520-94ac-3631f89da90a",
   "metadata": {},
   "outputs": [],
   "source": [
    "import numpy as np"
   ]
  },
  {
   "cell_type": "code",
   "execution_count": 3,
   "id": "c888c072-e867-4bac-92d1-9bf4d71b7dd9",
   "metadata": {},
   "outputs": [
    {
     "name": "stdout",
     "output_type": "stream",
     "text": [
      "[66, 92, 98, 17, 83, 57, 86, 97, 96, 47, 73, 32, 46, 96, 25, 83, 78, 36, 96, 80, 68, 49, 55, 67, 2, 84, 39, 66, 84, 47, 61, 48, 7, 99, 92, 52, 97, 85, 94, 27, 34, 97, 76, 40, 3, 69, 64, 75, 34, 58, 10, 22, 77, 18, 100, 15, 27, 30, 52, 70, 26, 80, 6, 14, 75, 54, 71, 1, 43, 58, 55, 25, 50, 84, 56, 49, 12, 18, 81, 1, 51, 44, 48, 56, 91, 49, 86, 3, 67, 11, 21, 89, 98, 3, 11, 3, 94, 6, 9, 87]\n"
     ]
    }
   ],
   "source": [
    "# Setting seed\n",
    "np.random.seed(123)\n",
    "\n",
    "# Variable for number of list elements\n",
    "n = 100\n",
    "# Variable for highest number generated\n",
    "high = 100\n",
    "# Generatin random list\n",
    "randseq = np.random.randint(0, high+1, n).tolist()\n",
    "print(randseq)"
   ]
  },
  {
   "cell_type": "markdown",
   "id": "c033c28f-a63d-4468-8874-fe43f7b9d306",
   "metadata": {},
   "source": [
    "## Step 1: Create an array to store the counts of each element"
   ]
  },
  {
   "cell_type": "code",
   "execution_count": 4,
   "id": "e5fad431-40d2-4e18-9928-96509b2052bf",
   "metadata": {},
   "outputs": [
    {
     "name": "stdout",
     "output_type": "stream",
     "text": [
      "{0: 0, 1: 0, 2: 0, 3: 0, 4: 0, 5: 0, 6: 0, 7: 0, 8: 0, 9: 0, 10: 0, 11: 0, 12: 0, 13: 0, 14: 0, 15: 0, 16: 0, 17: 0, 18: 0, 19: 0, 20: 0, 21: 0, 22: 0, 23: 0, 24: 0, 25: 0, 26: 0, 27: 0, 28: 0, 29: 0, 30: 0, 31: 0, 32: 0, 33: 0, 34: 0, 35: 0, 36: 0, 37: 0, 38: 0, 39: 0, 40: 0, 41: 0, 42: 0, 43: 0, 44: 0, 45: 0, 46: 0, 47: 0, 48: 0, 49: 0, 50: 0, 51: 0, 52: 0, 53: 0, 54: 0, 55: 0, 56: 0, 57: 0, 58: 0, 59: 0, 60: 0, 61: 0, 62: 0, 63: 0, 64: 0, 65: 0, 66: 0, 67: 0, 68: 0, 69: 0, 70: 0, 71: 0, 72: 0, 73: 0, 74: 0, 75: 0, 76: 0, 77: 0, 78: 0, 79: 0, 80: 0, 81: 0, 82: 0, 83: 0, 84: 0, 85: 0, 86: 0, 87: 0, 88: 0, 89: 0, 90: 0, 91: 0, 92: 0, 93: 0, 94: 0, 95: 0, 96: 0, 97: 0, 98: 0, 99: 0, 100: 0}\n",
      "101\n",
      "\n",
      "\n",
      "{0: 0, 1: 2, 2: 1, 3: 4, 4: 0, 5: 0, 6: 2, 7: 1, 8: 0, 9: 1, 10: 1, 11: 2, 12: 1, 13: 0, 14: 1, 15: 1, 16: 0, 17: 1, 18: 2, 19: 0, 20: 0, 21: 1, 22: 1, 23: 0, 24: 0, 25: 2, 26: 1, 27: 2, 28: 0, 29: 0, 30: 1, 31: 0, 32: 1, 33: 0, 34: 2, 35: 0, 36: 1, 37: 0, 38: 0, 39: 1, 40: 1, 41: 0, 42: 0, 43: 1, 44: 1, 45: 0, 46: 1, 47: 2, 48: 2, 49: 3, 50: 1, 51: 1, 52: 2, 53: 0, 54: 1, 55: 2, 56: 2, 57: 1, 58: 2, 59: 0, 60: 0, 61: 1, 62: 0, 63: 0, 64: 1, 65: 0, 66: 2, 67: 2, 68: 1, 69: 1, 70: 1, 71: 1, 72: 0, 73: 1, 74: 0, 75: 2, 76: 1, 77: 1, 78: 1, 79: 0, 80: 2, 81: 1, 82: 0, 83: 2, 84: 3, 85: 1, 86: 2, 87: 1, 88: 0, 89: 1, 90: 0, 91: 1, 92: 2, 93: 0, 94: 2, 95: 0, 96: 3, 97: 3, 98: 2, 99: 1, 100: 1}\n",
      "\n",
      "\n"
     ]
    }
   ],
   "source": [
    "# Initial count of each element is zero\n",
    "counttable = {key:0 for key in range(0, high+1)}\n",
    "print(counttable)\n",
    "print(len(counttable))\n",
    "print(\"\\n\")\n",
    "\n",
    "# Taking the cumulative sum of each element\n",
    "# For each element in the sequence\n",
    "for i in randseq:\n",
    "    # Add the count of the element to the dictionary entry of the counttable. Ie, the first element is 66, and so countable[66] is incremented by 1\n",
    "    counttable[i]+=1\n",
    "print(counttable)\n",
    "\n",
    "print(\"\\n\")"
   ]
  },
  {
   "cell_type": "markdown",
   "id": "94c8a626-788b-44e7-b830-659aac52937e",
   "metadata": {},
   "source": [
    "## Step 2: Taking the cumulative sum of the elements of the dictionary"
   ]
  },
  {
   "cell_type": "code",
   "execution_count": 5,
   "id": "e0bee200-f312-404f-b5a1-456d3feab3b8",
   "metadata": {},
   "outputs": [
    {
     "name": "stdout",
     "output_type": "stream",
     "text": [
      "{0: 0, 1: 2, 2: 3, 3: 7, 4: 7, 5: 7, 6: 9, 7: 10, 8: 10, 9: 11, 10: 12, 11: 14, 12: 15, 13: 15, 14: 16, 15: 17, 16: 17, 17: 18, 18: 20, 19: 20, 20: 20, 21: 21, 22: 22, 23: 22, 24: 22, 25: 24, 26: 25, 27: 27, 28: 27, 29: 27, 30: 28, 31: 28, 32: 29, 33: 29, 34: 31, 35: 31, 36: 32, 37: 32, 38: 32, 39: 33, 40: 34, 41: 34, 42: 34, 43: 35, 44: 36, 45: 36, 46: 37, 47: 39, 48: 41, 49: 44, 50: 45, 51: 46, 52: 48, 53: 48, 54: 49, 55: 51, 56: 53, 57: 54, 58: 56, 59: 56, 60: 56, 61: 57, 62: 57, 63: 57, 64: 58, 65: 58, 66: 60, 67: 62, 68: 63, 69: 64, 70: 65, 71: 66, 72: 66, 73: 67, 74: 67, 75: 69, 76: 70, 77: 71, 78: 72, 79: 72, 80: 74, 81: 75, 82: 75, 83: 77, 84: 80, 85: 81, 86: 83, 87: 84, 88: 84, 89: 85, 90: 85, 91: 86, 92: 88, 93: 88, 94: 90, 95: 90, 96: 93, 97: 96, 98: 98, 99: 99, 100: 100}\n"
     ]
    }
   ],
   "source": [
    "# Turning the dictionary into a iterable object\n",
    "itercount = iter(counttable)\n",
    "# Skipping the first element\n",
    "next(itercount)\n",
    "for key in itercount:\n",
    "    # For each element, its cumulative sum is itself added to the previous element's cumulative sum\n",
    "    counttable[key] = counttable[key] + counttable[key-1]\n",
    "\n",
    "print(counttable)"
   ]
  },
  {
   "cell_type": "markdown",
   "id": "bd20a5d0-f05e-40bf-b8de-18f4059ede94",
   "metadata": {},
   "source": [
    "## Step 3: Slotting the elements into their positions in the new sorted array"
   ]
  },
  {
   "cell_type": "code",
   "execution_count": 6,
   "id": "f1cc9629-a212-4715-9c5a-6f11abc65346",
   "metadata": {},
   "outputs": [
    {
     "name": "stdout",
     "output_type": "stream",
     "text": [
      "[1, 1, 2, 3, 3, 3, 3, 6, 6, 7, 9, 10, 11, 11, 12, 14, 15, 17, 18, 18, 21, 22, 25, 25, 26, 27, 27, 30, 32, 34, 34, 36, 39, 40, 43, 44, 46, 47, 47, 48, 48, 49, 49, 49, 50, 51, 52, 52, 54, 55, 55, 56, 56, 57, 58, 58, 61, 64, 66, 66, 67, 67, 68, 69, 70, 71, 73, 75, 75, 76, 77, 78, 80, 80, 81, 83, 83, 84, 84, 84, 85, 86, 86, 87, 89, 91, 92, 92, 94, 94, 96, 96, 96, 97, 97, 97, 98, 98, 99, 100]\n"
     ]
    }
   ],
   "source": [
    "# Initialising the sorted array list\n",
    "sortseq = [0 for i in range(n)]\n",
    "\n",
    "# Going through the random sequence\n",
    "for i in randseq:\n",
    "    # Take the element i and decrement its cumulative count by 1. Then add the resulting number, which will be the index in the sorted array, to the sorted array's number\n",
    "    counttable[i] -= 1\n",
    "    sortseq[counttable[i]] = i\n",
    "print(sortseq)"
   ]
  },
  {
   "cell_type": "markdown",
   "id": "20a56753-9016-4279-acf7-7e8e7ab8b9af",
   "metadata": {},
   "source": [
    "# Creating a function to turn the separate steps into an algorithm"
   ]
  },
  {
   "cell_type": "code",
   "execution_count": 7,
   "id": "82e92869-7f6a-4d5e-9e73-00596d8fa8c7",
   "metadata": {},
   "outputs": [],
   "source": [
    "def CountingSort(x, high, low=0):\n",
    "    # Getting the length of the inputted array\n",
    "    n = len(x)\n",
    "    # Initial count of each element is zero\n",
    "    counttable = {key:0 for key in range(0, high+1)}\n",
    "\n",
    "    # Taking the cumulative sum of each element\n",
    "    # For each element in the sequence\n",
    "    for i in x:\n",
    "    # Add the count of the element to the dictionary entry of the counttable. Ie, the first element is 66, and so countable[66] is incremented by 1\n",
    "        counttable[i]+=1\n",
    "\n",
    "    # Turning the dictionary into a iterable object\n",
    "    itercount = iter(counttable)\n",
    "    # Skipping the first element\n",
    "    next(itercount)\n",
    "    for key in itercount:\n",
    "        # For each element, its cumulative sum is itself added to the previous element's cumulative sum\n",
    "        counttable[key] = counttable[key] + counttable[key-1]\n",
    "    # Initialising the sorted array list\n",
    "    sortseq = [0 for i in range(n)]\n",
    "\n",
    "    # Going through the random sequence\n",
    "    for i in x:\n",
    "        # Take the element i and decrement its cumulative count by 1. Then add the resulting number, which will be the index in the sorted array, to the sorted array's number\n",
    "        counttable[i] -= 1\n",
    "        sortseq[counttable[i]] = i\n",
    "    return sortseq"
   ]
  },
  {
   "cell_type": "code",
   "execution_count": 8,
   "id": "3490913d-29c6-482f-8902-7f11d70f0584",
   "metadata": {},
   "outputs": [
    {
     "name": "stdout",
     "output_type": "stream",
     "text": [
      "[6, 10, 1, 3, 0, 4, 9, 6, 1, 8]\n"
     ]
    }
   ],
   "source": [
    "# Setting seed\n",
    "np.random.seed(126)\n",
    "\n",
    "# Variable for number of list elements\n",
    "n = 10\n",
    "# Variable for highest number generated\n",
    "top = 10\n",
    "# Generatin random list\n",
    "randseq = np.random.randint(0, top+1, n).tolist()\n",
    "print(randseq)"
   ]
  },
  {
   "cell_type": "code",
   "execution_count": 9,
   "id": "118dd3ad-26d1-429e-8cfb-a4d92ece3c98",
   "metadata": {},
   "outputs": [
    {
     "name": "stdout",
     "output_type": "stream",
     "text": [
      "[0, 1, 1, 3, 4, 6, 6, 8, 9, 10]\n"
     ]
    }
   ],
   "source": [
    "print(CountingSort(randseq, top))"
   ]
  },
  {
   "cell_type": "markdown",
   "id": "e7ba1faa-db17-42c2-bb64-525b57c53c09",
   "metadata": {},
   "source": [
    "# Testing runtimes"
   ]
  },
  {
   "cell_type": "markdown",
   "id": "f9fa14cc-5ad8-4ed7-956b-90eddd49b20c",
   "metadata": {},
   "source": [
    "# First, we test the general case with different array sizes"
   ]
  },
  {
   "cell_type": "code",
   "execution_count": 10,
   "id": "cd50945f-b768-49b9-8e8d-5107fb9a1a09",
   "metadata": {},
   "outputs": [],
   "source": [
    "def CountingSortTester(n, high, low=0):\n",
    "    # Variable for number of list elements\n",
    "    n = n\n",
    "    # Variable for highest number generated\n",
    "    top = high\n",
    "    # Generatin random list\n",
    "    randseq = np.random.randint(low, top+1, n).tolist()\n",
    "    return randseq, CountingSort(randseq, high, low)"
   ]
  },
  {
   "cell_type": "code",
   "execution_count": 11,
   "id": "30a0f77f-00e7-43db-b5c8-ea893116f69b",
   "metadata": {},
   "outputs": [
    {
     "data": {
      "text/plain": [
       "([2, 10, 10, 9, 6, 0, 6, 2, 10, 0], [0, 0, 2, 2, 6, 6, 9, 10, 10, 10])"
      ]
     },
     "execution_count": 11,
     "metadata": {},
     "output_type": "execute_result"
    }
   ],
   "source": [
    "CountingSortTester(10, 10)"
   ]
  },
  {
   "cell_type": "code",
   "execution_count": 12,
   "id": "86a09bdb-9166-4d2a-a7bb-997986f0862a",
   "metadata": {},
   "outputs": [
    {
     "name": "stdout",
     "output_type": "stream",
     "text": [
      "4.45 μs ± 15.1 ns per loop (mean ± std. dev. of 7 runs, 100,000 loops each)\n"
     ]
    }
   ],
   "source": [
    "%timeit CountingSortTester(10, 10)"
   ]
  },
  {
   "cell_type": "code",
   "execution_count": 13,
   "id": "4b429c15-98f6-42ca-b86d-94a43643e379",
   "metadata": {},
   "outputs": [
    {
     "name": "stdout",
     "output_type": "stream",
     "text": [
      "19.8 μs ± 2.15 μs per loop (mean ± std. dev. of 7 runs, 10,000 loops each)\n"
     ]
    }
   ],
   "source": [
    "%timeit CountingSortTester(100, 100)"
   ]
  },
  {
   "cell_type": "code",
   "execution_count": 14,
   "id": "9100f3fb-0068-437f-bd98-95f86561c190",
   "metadata": {},
   "outputs": [
    {
     "name": "stdout",
     "output_type": "stream",
     "text": [
      "1.87 ms ± 19.2 μs per loop (mean ± std. dev. of 7 runs, 1,000 loops each)\n"
     ]
    }
   ],
   "source": [
    "%timeit CountingSortTester(10_000,10_000)"
   ]
  },
  {
   "cell_type": "markdown",
   "id": "6e270996-ca73-4cc3-955d-6a523be20df6",
   "metadata": {},
   "source": [
    "# Next, we test if the distribution does not roughly match the number of elements"
   ]
  },
  {
   "cell_type": "code",
   "execution_count": 15,
   "id": "c1159c14-d045-46e2-8ad5-d1c13b3cebf6",
   "metadata": {},
   "outputs": [
    {
     "name": "stdout",
     "output_type": "stream",
     "text": [
      "7.77 s ± 90.1 ms per loop (mean ± std. dev. of 7 runs, 1 loop each)\n"
     ]
    }
   ],
   "source": [
    "%timeit CountingSortTester(100, 100_000_000, 99_999_990)"
   ]
  },
  {
   "cell_type": "markdown",
   "id": "72f6c7f3-36ee-4f4b-a8a2-b95336d9a982",
   "metadata": {},
   "source": [
    "Thus, the algorithm wastes a lot of time going through empty positions in the count table. The algorithm can be modified to account for this"
   ]
  },
  {
   "cell_type": "markdown",
   "id": "e512f2ec-7de4-4d1a-b36e-65f386a7d1bf",
   "metadata": {},
   "source": [
    "## Modified for extreme head/tail concentration"
   ]
  },
  {
   "cell_type": "code",
   "execution_count": 16,
   "id": "f45c72a5-6e1c-4fa5-a904-a1dd732258cb",
   "metadata": {},
   "outputs": [],
   "source": [
    "def CountingSort2(x, high, low=0):\n",
    "    # Getting the length of the inputted array\n",
    "    n = len(x)\n",
    "    # Initial count of each element is zero. Start from the lowest number given to save space and time\n",
    "    counttable = {key:0 for key in range(low, high+1)}\n",
    "\n",
    "    # Taking the cumulative sum of each element\n",
    "    # For each element in the sequence\n",
    "    for i in x:\n",
    "    # Add the count of the element to the dictionary entry of the counttable. Ie, the first element is 66, and so countable[66] is incremented by 1\n",
    "        counttable[i]+=1\n",
    "\n",
    "    # Turning the dictionary into a iterable object\n",
    "    itercount = iter(counttable)\n",
    "    # Skipping the first element\n",
    "    next(itercount)\n",
    "    for key in itercount:\n",
    "        # For each element, its cumulative sum is itself added to the previous element's cumulative sum\n",
    "        counttable[key] = counttable[key] + counttable[key-1]\n",
    "    # Initialising the sorted array list\n",
    "    sortseq = [0 for i in range(n)]\n",
    "\n",
    "    # Going through the random sequence\n",
    "    for i in x:\n",
    "        # Take the element i and decrement its cumulative count by 1. Then add the resulting number, which will be the index in the sorted array, to the sorted array's number\n",
    "        counttable[i] -= 1\n",
    "        sortseq[counttable[i]] = i\n",
    "    return sortseq"
   ]
  },
  {
   "cell_type": "code",
   "execution_count": 17,
   "id": "f305cd95-ecd9-4f0a-b0b5-f6d7e7280050",
   "metadata": {},
   "outputs": [
    {
     "data": {
      "text/plain": [
       "[15, 14, 10, 11, 10, 14, 16, 20, 19, 17]"
      ]
     },
     "execution_count": 17,
     "metadata": {},
     "output_type": "execute_result"
    }
   ],
   "source": [
    "randseq = np.random.randint(10, 21, 10).tolist()\n",
    "\n",
    "randseq"
   ]
  },
  {
   "cell_type": "code",
   "execution_count": 18,
   "id": "9e617e93-ea84-4411-bbe0-c16a3898c962",
   "metadata": {},
   "outputs": [
    {
     "name": "stdout",
     "output_type": "stream",
     "text": [
      "[10, 10, 11, 14, 14, 15, 16, 17, 19, 20]\n"
     ]
    }
   ],
   "source": [
    "print(CountingSort2(randseq, 20, 10))"
   ]
  },
  {
   "cell_type": "markdown",
   "id": "15f9f3c4-cea4-4887-b216-cfce818ff36e",
   "metadata": {},
   "source": [
    "Thus, the modified array works. Next is to recreate the tester function"
   ]
  },
  {
   "cell_type": "code",
   "execution_count": 19,
   "id": "9ac350c9-e370-4a73-830c-00ba46b741e3",
   "metadata": {},
   "outputs": [],
   "source": [
    "def CountingSort2Tester(n, high, low=0):\n",
    "    # Variable for number of list elements\n",
    "    n = n\n",
    "    # Variable for highest number generated\n",
    "    top = high\n",
    "    # Generatin random list\n",
    "    randseq = np.random.randint(low, top+1, n).tolist()\n",
    "    return randseq, CountingSort2(randseq, high, low)"
   ]
  },
  {
   "cell_type": "code",
   "execution_count": 20,
   "id": "6c963845-b55e-4db8-b2ee-c60c3a0dc004",
   "metadata": {},
   "outputs": [
    {
     "data": {
      "text/plain": [
       "([111, 164, 377, 121, 212, 369, 55, 183, 152, 216],\n",
       " [55, 111, 121, 152, 164, 183, 212, 216, 369, 377])"
      ]
     },
     "execution_count": 20,
     "metadata": {},
     "output_type": "execute_result"
    }
   ],
   "source": [
    "CountingSort2Tester(10, 400, 50)"
   ]
  },
  {
   "cell_type": "markdown",
   "id": "0de9479e-0016-407e-a0fe-28f089364037",
   "metadata": {},
   "source": [
    "## Running the same test as above"
   ]
  },
  {
   "cell_type": "markdown",
   "id": "10ed6fd7-6d6e-412c-8db0-6e0d9bd4f9e8",
   "metadata": {},
   "source": [
    "Standard case of range 0-100"
   ]
  },
  {
   "cell_type": "code",
   "execution_count": 21,
   "id": "209e5893-aa1f-4ff2-ab6e-10a1635badeb",
   "metadata": {},
   "outputs": [
    {
     "name": "stdout",
     "output_type": "stream",
     "text": [
      "18 μs ± 2.07 μs per loop (mean ± std. dev. of 7 runs, 10,000 loops each)\n"
     ]
    }
   ],
   "source": [
    "%timeit CountingSort2Tester(100, 100)"
   ]
  },
  {
   "cell_type": "markdown",
   "id": "95969a4b-42a0-41b5-940e-c9a35f9c23ae",
   "metadata": {},
   "source": [
    "Extreme case of range 99,999,990 to 100,000,000"
   ]
  },
  {
   "cell_type": "code",
   "execution_count": 28,
   "id": "d8adc9ab-1dc0-4c7f-a6e0-bdaf6da4a149",
   "metadata": {},
   "outputs": [
    {
     "name": "stdout",
     "output_type": "stream",
     "text": [
      "14.7 μs ± 133 ns per loop (mean ± std. dev. of 7 runs, 100,000 loops each)\n"
     ]
    }
   ],
   "source": [
    "%timeit CountingSort2Tester(100, 100_000_000, 99_999_990)"
   ]
  },
  {
   "cell_type": "markdown",
   "id": "eb3c57c3-36d9-4972-be79-138bf31371bc",
   "metadata": {},
   "source": [
    "As compared to above, the new algorithm now runs much faster since the countable does not have to go over values before the lowest possible value"
   ]
  },
  {
   "cell_type": "markdown",
   "id": "815e4fbe-d3dd-4998-8096-c8176351d216",
   "metadata": {},
   "source": [
    "However, the algorithm will still perform badly on a distribution with two large outliers on both ends. For example, the algoritm with the sequence [50_000_000, 50_000_000,...,500_000, 100_000_000, 0] will still perform badly"
   ]
  },
  {
   "cell_type": "code",
   "execution_count": 24,
   "id": "6f95cc91-2e85-450c-81ec-a9b3632d9643",
   "metadata": {},
   "outputs": [
    {
     "name": "stdout",
     "output_type": "stream",
     "text": [
      "[50000000, 50000000, 50000000, 50000000, 50000000, 50000000, 50000000, 50000000, 50000000, 50000000, 50000000, 50000000, 50000000, 50000000, 50000000, 50000000, 50000000, 50000000, 50000000, 50000000, 50000000, 50000000, 50000000, 50000000, 50000000, 50000000, 50000000, 50000000, 50000000, 50000000, 50000000, 50000000, 50000000, 50000000, 50000000, 50000000, 50000000, 50000000, 50000000, 50000000, 50000000, 50000000, 50000000, 50000000, 50000000, 50000000, 50000000, 50000000, 50000000, 50000000, 50000000, 50000000, 50000000, 50000000, 50000000, 50000000, 50000000, 50000000, 50000000, 50000000, 50000000, 50000000, 50000000, 50000000, 50000000, 50000000, 50000000, 50000000, 50000000, 50000000, 50000000, 50000000, 50000000, 50000000, 50000000, 50000000, 50000000, 50000000, 50000000, 50000000, 50000000, 50000000, 50000000, 50000000, 50000000, 50000000, 50000000, 50000000, 50000000, 50000000, 50000000, 50000000, 50000000, 50000000, 50000000, 50000000, 50000000, 50000000, 100000000, 0]\n"
     ]
    }
   ],
   "source": [
    "outlier = [50_000_000 for i in range(98)] + [100_000_000, 0]\n",
    "print(outlier)"
   ]
  },
  {
   "cell_type": "code",
   "execution_count": 25,
   "id": "95b16d3d-026e-4d8d-becb-ec4e67bd579f",
   "metadata": {},
   "outputs": [
    {
     "name": "stdout",
     "output_type": "stream",
     "text": [
      "7.66 s ± 80.2 ms per loop (mean ± std. dev. of 7 runs, 1 loop each)\n"
     ]
    }
   ],
   "source": [
    "%timeit CountingSort2(outlier, 100_000_000, 0)"
   ]
  },
  {
   "cell_type": "markdown",
   "id": "dd9c184c-a827-4131-aa0b-386c9fcbd71c",
   "metadata": {},
   "source": [
    "Case of range 0-1e10"
   ]
  },
  {
   "cell_type": "markdown",
   "id": "bc353d3c-e728-4966-9ba5-6e1e29030ac1",
   "metadata": {},
   "source": [
    "The below is also another example of the very large distribution causing the algorithm to be slow"
   ]
  },
  {
   "cell_type": "code",
   "execution_count": 22,
   "id": "9b592947-8247-4fc1-a23b-5e34b9e906e8",
   "metadata": {},
   "outputs": [
    {
     "name": "stdout",
     "output_type": "stream",
     "text": [
      "7.61 s ± 100 ms per loop (mean ± std. dev. of 7 runs, 1 loop each)\n"
     ]
    }
   ],
   "source": [
    "%timeit CountingSort2Tester(100, int(1e8))"
   ]
  },
  {
   "cell_type": "code",
   "execution_count": null,
   "id": "3eb7f9eb-0671-48fe-a643-27dc1a733ef9",
   "metadata": {},
   "outputs": [],
   "source": []
  }
 ],
 "metadata": {
  "kernelspec": {
   "display_name": "Python 3 (ipykernel)",
   "language": "python",
   "name": "python3"
  },
  "language_info": {
   "codemirror_mode": {
    "name": "ipython",
    "version": 3
   },
   "file_extension": ".py",
   "mimetype": "text/x-python",
   "name": "python",
   "nbconvert_exporter": "python",
   "pygments_lexer": "ipython3",
   "version": "3.11.5"
  }
 },
 "nbformat": 4,
 "nbformat_minor": 5
}
